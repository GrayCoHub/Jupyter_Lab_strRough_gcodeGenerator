{
 "cells": [
  {
   "cell_type": "code",
   "execution_count": null,
   "id": "b2e9f285-0e50-4652-883f-f6debf14dbcf",
   "metadata": {
    "vscode": {
     "languageId": "r"
    }
   },
   "outputs": [],
   "source": []
  },
  {
   "cell_type": "code",
   "execution_count": null,
   "id": "642a2811-23e5-449f-9ac8-51d13e062d4f",
   "metadata": {
    "vscode": {
     "languageId": "r"
    }
   },
   "outputs": [],
   "source": [
    "#  sessionInfo()    # original preserved in cell below"
   ]
  },
  {
   "cell_type": "markdown",
   "id": "0c79619a-c289-437b-b4c7-d28b321e6c54",
   "metadata": {
    "jupyter": {
     "source_hidden": true
    },
    "tags": []
   },
   "source": [
    "# Display session information including loaded packages and their versions\n",
    "#### sessionInfo()\n",
    "\n",
    "\n",
    "R version 4.3.0 (2023-04-21 ucrt)\n",
    "Platform: x86_64-w64-mingw32/x64 (64-bit)\n",
    "Running under: Windows 10 x64 (build 19045)\n",
    "\n",
    "Matrix products: default\n",
    "\n",
    "\n",
    "locale:\n",
    "[1] LC_COLLATE=English_United States.utf8 \n",
    "[2] LC_CTYPE=English_United States.utf8   \n",
    "[3] LC_MONETARY=English_United States.utf8\n",
    "[4] LC_NUMERIC=C                          \n",
    "[5] LC_TIME=English_United States.utf8    \n",
    "\n",
    "time zone: America/Anchorage\n",
    "tzcode source: internal\n",
    "\n",
    "attached base packages:\n",
    "[1] stats     graphics  grDevices utils     datasets  methods   base     \n",
    "\n",
    "loaded via a namespace (and not attached):\n",
    " [1] digest_0.6.31   IRdisplay_1.1   utf8_1.2.3      base64enc_0.1-3\n",
    " [5] fastmap_1.1.1   glue_1.6.2      htmltools_0.5.7 repr_1.1.6     \n",
    " [9] lifecycle_1.0.4 cli_3.6.1       fansi_1.0.4     vctrs_0.6.2    \n",
    "[13] pbdZMQ_0.3-9    compiler_4.3.0  tools_4.3.0     evaluate_0.23  \n",
    "[17] pillar_1.9.0    crayon_1.5.2    rlang_1.1.1     jsonlite_1.8.4 \n",
    "[21] IRkernel_1.3.2  uuid_1.1-0     R version 4.3.0 (2023-04-21 ucrt)\n",
    "Platform: x86_64-w64-mingw32/x64 (64-bit)\n",
    "Running under: Windows 10 x64 (build 19045)\n",
    "\n"
   ]
  },
  {
   "cell_type": "code",
   "execution_count": null,
   "id": "59ff9114-a164-44b8-becc-df20ccb8208f",
   "metadata": {},
   "outputs": [],
   "source": []
  },
  {
   "cell_type": "markdown",
   "id": "9f46a36f-d384-4452-8440-1c53e6e83f27",
   "metadata": {
    "vscode": {
     "languageId": "r"
    }
   },
   "source": [
    "### Start Procedure: Clear all cells, then restart kernel and run all cells\n"
   ]
  },
  {
   "cell_type": "markdown",
   "id": "78451132-719d-4bd6-a4dc-d960be04c43e",
   "metadata": {
    "tags": []
   },
   "source": [
    "### The first of the three gcode .ipynb associated notebooks:  \n",
    "\n",
    "    gcode_DRO ...\n",
    "    gcode_Part2.ipynb\n",
    "    gcode_Part3.ipynb\n",
    "\n",
    "####  In these gcode notebooks, the cut size (Cut) is reducing the diameter by the Cut size with each roughing pass.\n",
    "\n",
    "    Ex.  Start diameter = .500\n",
    "         Cut = .015\n",
    "         Changing diameter = .500 - .015 = .485\n",
    "\n"
   ]
  },
  {
   "cell_type": "code",
   "execution_count": null,
   "id": "33f8e63d-9221-4e57-a1ee-6100c3432d18",
   "metadata": {
    "jupyter": {
     "source_hidden": true
    },
    "tags": [],
    "vscode": {
     "languageId": "r"
    }
   },
   "outputs": [],
   "source": [
    "# User prompt for turning data\n",
    "\n",
    "Turn_Data <- function() {\n",
    "\n",
    "    valid_input <- FALSE    \n",
    "    # restart <- TRUE    \n",
    "   \n",
    "    \n",
    "    while (!valid_input) {       # outer while loop\n",
    "        \n",
    "            # Prompt the user for input\n",
    "            user_input <- readline(prompt = paste(\"What is Stock Diameter?\"))\n",
    "\n",
    "            # Check if input is empty or not numeric\n",
    "            if (user_input == \"\" || !is.numeric(user_input)) {\n",
    "\n",
    "              # print(\"Please enter a valid numeric value!\")\n",
    "                StartDia <<- user_input\n",
    "                StartDia <<- as.numeric(unlist(strsplit(StartDia, \", \")))\n",
    "                valid_input <- TRUE  # Set flag to exit the while loop\n",
    "                }\n",
    "\n",
    "            # EndDia <<- readline(\"What is the Finish Diameter?\")\n",
    "            user_input <- readline(prompt = paste(\"What is the Finish Diameter?\"))\n",
    "\n",
    "            # Check if input is empty or not numeric\n",
    "            if (user_input == \"\" || !is.numeric(user_input)) {\n",
    "\n",
    "              # print(\"Please enter a valid numeric value!\")\n",
    "               EndDia  <<- user_input\n",
    "               EndDia <<- as.numeric(unlist(strsplit(EndDia, \", \")))\n",
    "                valid_input <- TRUE  # Set flag to exit the while loop\n",
    "                }\n",
    "\n",
    "            user_input <- readline(prompt = paste(\"What is the size of the rough cuts?  Aluminum .015-.020 ?\"))\n",
    "            # Cut <<- readline(\"What is the size of the rough cuts?  Aluminum .015-.020 \")\n",
    "\n",
    "            # Check if input is empty or not numeric\n",
    "            if (user_input == \"\" || !is.numeric(user_input)) {\n",
    "                Cut <<- user_input\n",
    "              # print(\"Please enter a valid numeric value!\")\n",
    "                Cut <<- as.numeric(unlist(strsplit(Cut, \", \")))\n",
    "                valid_input <- TRUE  # Set flag to exit the while loop\n",
    "                }  \n",
    "            user_input <- readline(prompt = paste(\"What is the distance of the travel along the Z axis? s/b from .50 - 1.00 inch range?\"))\n",
    "            # Leng <<- readline(\"What is the distance of the travel along the Z axis? s/b from .50 - 1.00 inch range?\")\n",
    "\n",
    "            # Check if input is empty or not numeric\n",
    "            if (user_input == \"\" || !is.numeric(user_input)) {\n",
    "                Leng <<- user_input\n",
    "              # print(\"Please enter a valid numeric value!\")\n",
    "                Leng <<- as.numeric(unlist(strsplit(Leng, \", \")))\n",
    "                valid_input <- TRUE  # Set flag to exit the while loop\n",
    "                }\n",
    "        \n",
    "        valid_input <- TRUE  # Set flag to exit the outer while loop            \n",
    "          \n",
    "    }   # end while loop      \n",
    "   \n",
    "     CheckData()   # fct call\n",
    "    \n",
    "} # end fct\n",
    "\n"
   ]
  },
  {
   "cell_type": "code",
   "execution_count": null,
   "id": "ba25cb7b-38df-4390-a08e-cf9853b278e3",
   "metadata": {},
   "outputs": [],
   "source": []
  },
  {
   "cell_type": "code",
   "execution_count": null,
   "id": "f829ff93-d02a-4c21-8ed1-fa39e8f8e352",
   "metadata": {
    "jupyter": {
     "source_hidden": true
    },
    "tags": [],
    "vscode": {
     "languageId": "r"
    }
   },
   "outputs": [],
   "source": [
    "# Remote fct to validate user input data\n",
    "\n",
    "CheckData <- function() {\n",
    "\n",
    "  valid_response <- FALSE\n",
    "  \n",
    "    while (!valid_response) {\n",
    "              restart_input <- readline(prompt = \"Review the input data. Do you want to re-input the data? (yes/no):  \")\n",
    "\n",
    "              if (tolower(restart_input) %in% c(\"yes\")) {\n",
    "                valid_response <- TRUE\n",
    "                Turn_Data()  \n",
    "              } else if (tolower(restart_input) %in% c(\"no\")) {\n",
    "                  print(\"Exiting ... leaving lathe data input fct\")\n",
    "                  valid_response <- TRUE\n",
    "                  #  break\n",
    "              } else if (restart_input == \"\") {\n",
    "                print(\"Please enter 'yes' or 'no'.\")\n",
    "                  \n",
    "              } else {\n",
    "                # valid_response <- FALSE\n",
    "                print(\"Invalid entry. Please enter 'yes' or 'no'.\")\n",
    "                # valid_response = FALSE\n",
    "                CheckData()  \n",
    "               }          \n",
    "\n",
    "                if (tolower(restart_input) == \"yes\") {\n",
    "                  print(\"Restarting...\")\n",
    "                  # restart <- TRUE  \n",
    "                  Turn_Data()\n",
    "                  # Add code here for restarting prompts or any other actions\n",
    "                } else if(tolower(restart_input == \"no\")) {\n",
    "                    valid_response <- TRUE\n",
    "\n",
    "                 print(\"Leaving the lathe data input function.  Moving to the rough cut function. \")\n",
    "                 print(\"Exiting...\")                \n",
    "              }\n",
    "                \n",
    "        }  # end while\n",
    "  } \n"
   ]
  },
  {
   "cell_type": "markdown",
   "id": "33a64750-1df7-46fd-bf48-b8e5f6a790e5",
   "metadata": {
    "tags": []
   },
   "source": [
    "# Input:"
   ]
  },
  {
   "cell_type": "code",
   "execution_count": null,
   "id": "9713856b-7ae4-4753-923d-b709c0cd8b99",
   "metadata": {},
   "outputs": [],
   "source": []
  },
  {
   "cell_type": "code",
   "execution_count": null,
   "id": "f0ad7e4d-d17d-4587-af45-a51d4a998c82",
   "metadata": {
    "jupyter": {
     "source_hidden": true
    },
    "tags": []
   },
   "outputs": [],
   "source": [
    "# valid_response <- FALSE\n",
    "\n",
    "# while (!valid_response) {\n",
    "#   restart_input <- readline(prompt = \"Do you want to restart? (yes/no): \")\n",
    "  \n",
    "#   if (tolower(restart_input) %in% c(\"yes\", \"no\")) {\n",
    "#     valid_response <- TRUE\n",
    "#   } else if (restart_input == \"\") {\n",
    "#     print(\"Please enter 'yes' or 'no'.\")\n",
    "#   } else {\n",
    "#     print(\"Invalid entry. Please enter 'yes' or 'no'.\")\n",
    "#   }\n",
    "# }\n",
    "\n",
    "# if (tolower(restart_input) == \"yes\") {\n",
    "#   print(\"Restarting...\")\n",
    "#   # Add code here for restarting prompts or any other actions\n",
    "# } else {\n",
    "#   print(\"Exiting...\")\n",
    "#   # Add code here for exiting or any other actions\n",
    "# }\n"
   ]
  },
  {
   "cell_type": "code",
   "execution_count": null,
   "id": "631b1a3d-9545-4dc8-8651-2b3cc39c3649",
   "metadata": {
    "tags": [],
    "vscode": {
     "languageId": "r"
    }
   },
   "outputs": [],
   "source": [
    "# CheckData()   # fct call to check the user input format"
   ]
  },
  {
   "cell_type": "code",
   "execution_count": null,
   "id": "2274949f-27bc-4d46-bf28-e26f24f3568d",
   "metadata": {
    "tags": [],
    "vscode": {
     "languageId": "r"
    }
   },
   "outputs": [],
   "source": [
    "Turn_Data()"
   ]
  },
  {
   "cell_type": "code",
   "execution_count": null,
   "id": "90b6c28c-b310-447a-bf04-ce81901b5572",
   "metadata": {},
   "outputs": [],
   "source": []
  },
  {
   "cell_type": "code",
   "execution_count": null,
   "id": "cd2129cc-b924-41a3-891a-763483fa8116",
   "metadata": {},
   "outputs": [],
   "source": []
  },
  {
   "cell_type": "code",
   "execution_count": null,
   "id": "7f984410-61dc-420a-80c0-19ad3a82629f",
   "metadata": {
    "tags": [],
    "vscode": {
     "languageId": "r"
    }
   },
   "outputs": [],
   "source": [
    "StartDia\n",
    "str(StartDia)"
   ]
  },
  {
   "cell_type": "code",
   "execution_count": null,
   "id": "4df37b34-4d2b-4fa4-aaf8-94aa7b0967e3",
   "metadata": {
    "tags": [],
    "vscode": {
     "languageId": "r"
    }
   },
   "outputs": [],
   "source": []
  },
  {
   "cell_type": "code",
   "execution_count": null,
   "id": "024bf4e2-972e-4353-9b04-715868eb3222",
   "metadata": {
    "jupyter": {
     "source_hidden": true
    },
    "tags": [],
    "vscode": {
     "languageId": "r"
    }
   },
   "outputs": [],
   "source": [
    "# Various variable declarations\n",
    "\n",
    "X <- \"X \"\n",
    "Z <- \"Z \"\n",
    "\n",
    "TotalStockRemove <- StartDia - EndDia     # the TOTAL amount of matterial to be removed \n",
    "Radius <- StartDia / 2    # define the radius of the stock    \n",
    "Diameter <- StartDia    # to define the diameter of the stock and preserve the original value of StartDia\n",
    "\n",
    "Turns <- TotalStockRemove / Cut  # To determine the max number of turns that could happen\n",
    "\n",
    "Turns   # the integer component will be used for determining the nrows in df "
   ]
  },
  {
   "cell_type": "markdown",
   "id": "009f98ca-0c28-442b-b8cb-babf27521de8",
   "metadata": {
    "jupyter": {
     "source_hidden": true
    },
    "tags": []
   },
   "source": [
    "####  Fist for-loop.  Used to initialize a df with values for X Z moves during roughing cycle"
   ]
  },
  {
   "cell_type": "code",
   "execution_count": null,
   "id": "576e3d22-9458-46d6-95f6-d49504878430",
   "metadata": {
    "jupyter": {
     "source_hidden": true
    },
    "tags": [],
    "vscode": {
     "languageId": "r"
    }
   },
   "outputs": [],
   "source": [
    "# Establish a dataframe w/ X and Z values\n",
    "\n",
    "if (Leng >= 0)         # to change sign in case neg value entered for Z during prompt\n",
    "    Leng <- Leng *-1;\n",
    "\n",
    "ChangingDiameter <- StartDia  # create the variable used to track the reductions of the stock with each turn of the part\n",
    "\n",
    "#Initialize an empty dataframe to store the X and Z values\n",
    "result_df <- data.frame(X = numeric(0), Z = numeric(0))\n",
    "\n",
    "# Turns is integer porton of the number used to determine the max number of turns (TotalStockRemove / Cut) that will occur.  \n",
    "# The remaining decimal value of diameter will be addressed in the final rough / finish cut options \n",
    "\n",
    "for (i in 1:Turns) {   \n",
    "   \n",
    "    # Create a new row for each Turn.   \n",
    "      new_row <- data.frame(X = ChangingDiameter, Z = Leng)    # Include on each row the changing X values, and (unchanging) Z values, \n",
    "      result_df <- rbind(result_df, new_row)                   # bind the new row to the dataframe\n",
    "   \n",
    "      paste(\"X\", format(ChangingDiameter, nsmall = 3), \"Z\", format(Leng, nsmall = 2))   # create X elements for gcode (G00 X.254)\n",
    "    \n",
    "      ChangingDiameter <- ChangingDiameter - Cut                          #  Update changing stock diameter\n",
    "\n",
    "    }\n"
   ]
  },
  {
   "cell_type": "markdown",
   "id": "dd771335-8edb-4240-b5d4-8d4069a1b705",
   "metadata": {
    "tags": [],
    "vscode": {
     "languageId": "r"
    }
   },
   "source": [
    "# Input:"
   ]
  },
  {
   "cell_type": "code",
   "execution_count": null,
   "id": "842812b2-b5dd-4a06-81fc-2e052644e6f2",
   "metadata": {
    "jupyter": {
     "source_hidden": true
    },
    "tags": [],
    "vscode": {
     "languageId": "r"
    }
   },
   "outputs": [],
   "source": [
    "# Get the number of rows in the dataframe\n",
    "n <- nrow(result_df)\n",
    "n\n",
    "result_df$X[n]    # show last X value in the df - used to verify values in Rough cut options\n",
    "# str(result_df)\n",
    "head(result_df, 3)\n",
    "tail(result_df, 3)"
   ]
  },
  {
   "cell_type": "code",
   "execution_count": null,
   "id": "77a79fbf-651a-485b-bb62-6fe4434b0fc6",
   "metadata": {
    "tags": [],
    "vscode": {
     "languageId": "r"
    }
   },
   "outputs": [],
   "source": []
  },
  {
   "cell_type": "code",
   "execution_count": null,
   "id": "f3f9e966-8574-4b14-9483-27cdb674d737",
   "metadata": {
    "jupyter": {
     "source_hidden": true
    },
    "tags": [],
    "vscode": {
     "languageId": "r"
    }
   },
   "outputs": [],
   "source": [
    "# Review the last X value in df - will likely not be the same as (Changing_Diameter). Used integer portion\n",
    "ChangingDiameter\n",
    "Reduced_Diameter <- result_df$X[n]     # This is the actual diameter of the stock based on the number of turns.\n",
    "Reduced_Diameter\n",
    "str(Reduced_Diameter)\n",
    "\n",
    "# the difference in values is .015 ... Cut\n",
    "Reduced_Diameter - ChangingDiameter"
   ]
  },
  {
   "cell_type": "code",
   "execution_count": null,
   "id": "ebd0b2be-f496-4537-8347-390d671237cd",
   "metadata": {
    "tags": [],
    "vscode": {
     "languageId": "r"
    }
   },
   "outputs": [],
   "source": []
  },
  {
   "cell_type": "markdown",
   "id": "0343d9ea-4af9-42a2-be03-8a539089b7f8",
   "metadata": {},
   "source": [
    "### Part 1 - Final roughing cut options. \n"
   ]
  },
  {
   "cell_type": "code",
   "execution_count": null,
   "id": "f6c8127f-5a2f-43a1-aec9-587b779c7713",
   "metadata": {
    "jupyter": {
     "source_hidden": true
    },
    "tags": [],
    "vscode": {
     "languageId": "r"
    }
   },
   "outputs": [],
   "source": [
    "options(scipen = 999)  # Set scipen to a large value to remove ee values"
   ]
  },
  {
   "cell_type": "code",
   "execution_count": null,
   "id": "01581b3b-1cda-42b2-99c4-4d99052ab395",
   "metadata": {
    "jupyter": {
     "source_hidden": true
    },
    "tags": [],
    "vscode": {
     "languageId": "r"
    }
   },
   "outputs": [],
   "source": [
    "#  Rough cut option:  prompt user whether to take a final rough cut or not. \n",
    "#  This cut should NOT create a cut that exceeds the desired final diameter of the stock.  \n",
    "#  And if this cut is taken, them remaining after the cut should not leave a remaining \n",
    "#  stock diameter needing a finish cut that is too small .... less than .001.\n",
    "\n",
    "valid_input <- FALSE    # Boolean var used to control continued entry w/in loop\n",
    "\n",
    "while (!valid_input) {    \n",
    "    \n",
    "    Reduced_Diameter <<- as.numeric(format(Reduced_Diameter, nsmall = 4))\n",
    "    LastRoughDia <<- as.numeric(format(Reduced_Diameter - Cut, nsmall = 4))                     # s/be okay to track w/in loop\n",
    "    # str(LastRoughDia)\n",
    "    # str(EndDia)\n",
    "    Remaining_Uncut_Diameter <<- as.numeric(LastRoughDia - EndDia, nsmall = 4)\n",
    "    CurrentDia <<- format(Reduced_Diameter - EndDia, nsmall = 4)\n",
    "\n",
    "    # Prompt the user for input    \n",
    "    user_input <<- readline(\n",
    "        paste(\"Welcome the final rough cut option: \\n \\n\" ,\n",
    "            \"The stock diameter is currently : \" , Reduced_Diameter, \"\\n\",\n",
    "            \"The roughing cut dimension is:\", Cut, \"\\n\",\n",
    "            \"One additional roughing cut will reduce the stock diameter to:\", LastRoughDia, \"\\n\",  \n",
    "            \"The final diameter is targeted to be:\", format(EndDia, nsmall = 4), \"\\n\",            \n",
    "            # \"The remaining diameter to be turned off is currently: \", CurrentDia, \"\\n\",           \n",
    "            \"An additional roughing cut will leave,\", Remaining_Uncut_Diameter, \",stock remaining for the finish cut.\", \"\\n\",\n",
    "            \"\\n\", \"Enter Y to make one last rough cut now. Or enter N and go directly \\n\",\n",
    "             \"to the finish cuts options.\"))\n",
    "\n",
    "    # Convert input to uppercase for case-insensitive comparison\n",
    "    user_input <- toupper(user_input)\n",
    "\n",
    "    # Check if the input is 'Y' or 'N'\n",
    "    if (user_input == 'Y' && Reduced_Diameter >= LastRoughDia) {\n",
    "        \n",
    "\n",
    "        Cut <- as.numeric(Cut)\n",
    "        Reduced_Diameter <- as.numeric(Reduced_Diameter)\n",
    "        Reduced_Diameter <- format(Reduced_Diameter - Cut, nsmall = 4)        # Update diameter after the last rough cut  \n",
    "\n",
    "        # Create a new row for each iteration with X and Z values and add it to the dataframe\n",
    "        new_row <- data.frame(X = Reduced_Diameter, Z = Leng)            \n",
    "        # paste(\"The new diameter is \", new_row)\n",
    "        Output_gcode_df <<- rbind(result_df, new_row)\n",
    "              \n",
    "        cat(\"You entered Yes (Y). One last rough cut was taken.  Exiting rough cuts \",\n",
    "              \"and proceding to the finish cut options.\")\n",
    "        break\n",
    "\n",
    "        } else if (user_input == 'N') {\n",
    "        print(\"You entered No (N).  Moving on to the finish cut options fct.\")        \n",
    "        Output_gcode_df <<- result_df\n",
    "        valid_input <- TRUE                 # Set valid_input to TRUE to exit the loop\n",
    "      } else {\n",
    "        print(\"Invalid input. Please enter Y or N.\")   # The loop will continue prompting the user for input        \n",
    "      }\n",
    "}\n",
    "\n",
    "# FILEPATH: /c:/Gcode/gcode_DRO-WorkingOriginal.ipynb\n",
    "#  \n",
    "# CurrentDia\n",
    "    "
   ]
  },
  {
   "cell_type": "code",
   "execution_count": null,
   "id": "3d44e265-9f91-4601-90c9-f530262cc18a",
   "metadata": {
    "jupyter": {
     "source_hidden": true
    },
    "tags": [],
    "vscode": {
     "languageId": "r"
    }
   },
   "outputs": [],
   "source": [
    "# Remaining_Uncut_Diameter\n",
    "# LastRoughDia\n",
    "# EndDia"
   ]
  },
  {
   "cell_type": "markdown",
   "id": "7de086a9-5a7c-4591-982c-d6bec02f39bf",
   "metadata": {},
   "source": [
    "# Input:"
   ]
  },
  {
   "cell_type": "code",
   "execution_count": null,
   "id": "6bf9bf39-272b-4be1-b68f-36f3462c4fbe",
   "metadata": {
    "jupyter": {
     "source_hidden": true
    },
    "tags": [],
    "vscode": {
     "languageId": "r"
    }
   },
   "outputs": [],
   "source": [
    "tail(Output_gcode_df, 3)"
   ]
  },
  {
   "cell_type": "code",
   "execution_count": null,
   "id": "2517cf6d-5bfa-45da-97fe-1d6ea2612bf8",
   "metadata": {
    "tags": [],
    "vscode": {
     "languageId": "r"
    }
   },
   "outputs": [],
   "source": [
    "# stopper   # intentional stop\n"
   ]
  },
  {
   "cell_type": "code",
   "execution_count": null,
   "id": "9b6acfd2-c6a7-4d01-a998-e63cdd376452",
   "metadata": {
    "vscode": {
     "languageId": "r"
    }
   },
   "outputs": [],
   "source": []
  },
  {
   "cell_type": "markdown",
   "id": "3632c36e-ff92-43c8-a9c4-52fef97e49a0",
   "metadata": {},
   "source": [
    "## Part - The finish cut(s) options\n"
   ]
  },
  {
   "cell_type": "code",
   "execution_count": null,
   "id": "25d63cc6-13bc-473c-8545-ee43c4d2be20",
   "metadata": {
    "vscode": {
     "languageId": "r"
    }
   },
   "outputs": [],
   "source": []
  },
  {
   "cell_type": "code",
   "execution_count": null,
   "id": "ab77a5ea-989d-418f-ad53-de2a7bfe97f7",
   "metadata": {
    "jupyter": {
     "source_hidden": true
    },
    "tags": [],
    "vscode": {
     "languageId": "r"
    }
   },
   "outputs": [],
   "source": [
    "valid_input <- FALSE\n",
    "\n",
    "while (!valid_input) {\n",
    " \n",
    "    \n",
    "    \n",
    "    Reduced_Diameter <- as.numeric(format(Reduced_Diameter, nsmall = 4))\n",
    "    Remaining_Uncut_Diameter <- Reduced_Diameter - EndDia\n",
    "    \n",
    "    \n",
    "    user_input <<- readline(\n",
    "        paste(\"Welcome to finish cuts.  The current diameter is now:\" , Reduced_Diameter, \"\\n\", \n",
    "              \"The final diameter is targeted to be:\",format(EndDia, nsmall = 3), \"\\n\", \n",
    "              \"The current remaining stock diameter to be turned off is: \", CurrentDia, \"\\n \\n\",\n",
    "              \"Enter Y or N to enter finish cut dimensions:\" ))\n",
    "    \n",
    "      # Convert input to uppercase for case-insensitive comparison\n",
    "      user_input <- toupper(user_input)\n",
    "    \n",
    "    # print(paste(\"user_input is : \", user_input, \"\\n\"))\n",
    "    \n",
    "    \n",
    "    if (user_input == 'Y' )   {    \n",
    "\n",
    "       # condiion: if stock remains to be removed above the EndDia \n",
    "       if(!is.na(Remaining_Uncut_Diameter >= 0 )) {\n",
    "           \n",
    "            # Prompt the user to input a cut size\n",
    "            user_input2 <<- readline(\n",
    "                paste(\"The diameter of stock remaining to be removed is:\", format(Remaining_Uncut_Diameter, nsmall = 3), \n",
    "                \"Enter the size of this finish cut (.0xx) :\" ))\n",
    "           \n",
    "            FinisCut <- as.numeric(user_input2)\n",
    "           \n",
    "           CurrentDia <- CurrentDia - FinisCut\n",
    "           \n",
    "           \n",
    "           if(Reduced_Diameter - FinisCut <= 0) {\n",
    "               print(paste(\"Error.  Input makes negative part diameter: \", Reduced_Diameter - FinisCut, \" Exiting with error\"))\n",
    "                valid_input <- TRUE\n",
    "               break\n",
    "               }\n",
    "\n",
    "            # Reduced_Diameter <- as.numeric(Reduced_Diameter)\n",
    "            Reduced_Diameter <- Reduced_Diameter - FinisCut     # Update value for the finish cut  \n",
    "           \n",
    "           format(Reduced_Diameter, nsmall = 3) \n",
    "           \n",
    "           print(paste(\"Reduced Diameter is now ... \", Reduced_Diameter, \", and FinishCut was .... \", FinisCut, \"\\n\"))            \n",
    "\n",
    "            # Create a new row for each iteration with X and Z values and add it to the dataframe\n",
    "             new_row <- data.frame(X = Reduced_Diameter, Z = Leng)           \n",
    "             paste(\"The finished stock diameter is targeted to be: \", Reduced_Diameter)\n",
    "             Output_gcode_df <- rbind(result_df, new_row)\n",
    "                                      \n",
    "             Remaining_Uncut_Diameter <- Reduced_Diameter - EndDia\n",
    "           \n",
    "           }\n",
    "           \n",
    "               if(!is.na(Remaining_Uncut_Diameter >= 0 )) {\n",
    "           \n",
    "                    # Prompt the user to input a cut size\n",
    "                    user_input2 <<- readline(\n",
    "                        paste(\"The diameter of stock that remains to be removed is:\", format(Remaining_Uncut_Diameter, nsmall = 4),\"\\n\",   \n",
    "                              \"Enter the size of the first finish cut (.0xx) Do not exceed diameter of stock remaining:\",\"\\n\" ))\n",
    "                    FinisCut <- as.numeric(user_input2)\n",
    "\n",
    "                    # Reduced_Diameter <- as.numeric(Reduced_Diameter)\n",
    "                    Reduced_Diameter <- Reduced_Diameter - FinisCut     # Taking finish cut  \n",
    "\n",
    "                   format(Reduced_Diameter, nsmall = 3) \n",
    "\n",
    "                   print(paste(\"Reduced Diameter is now ... \", Reduced_Diameter, \", and FinishCut was .... \", FinisCut))\n",
    "\n",
    "\n",
    "                    # Create a new row for each iteration with X and Z values and add it to the dataframe\n",
    "                     new_row <- data.frame(X = Reduced_Diameter, Z = Leng)           \n",
    "                     paste(\"The finished stock diameter is to be: \", Reduced_Diameter)\n",
    "                     Output_gcode_df <- rbind(result_df, new_row)\n",
    "\n",
    "                     Remaining_Uncut_Diameter <- Reduced_Diameter - EndDia\n",
    "        \n",
    "        } else if (Remaining_Uncut_Diameter <= 0) {\n",
    "           print(\"Another cut would make the final diameter under the desired value\")\n",
    "           valid_input <- TRUE          # Set valid_input to TRUE to exit the loop\n",
    "           }\n",
    "        \n",
    "        \n",
    "         \n",
    "       } else if (user_input == 'N') {\n",
    "        # print(\"Exiting ... \")\n",
    "        Output_gcode_df <<- result_df\n",
    "        valid_input <- TRUE                # Set valid_input to TRUE to exit the loop\n",
    "      } else {\n",
    "        print(\"Invalid input. Please enter Y or N.\")\n",
    "        # The loop will continue prompting the user for input\n",
    "      }\n",
    "     \n",
    "      valid_input <- TRUE\n",
    "   }     \n",
    "        \n",
    "cat(\n",
    "     \"\\n\", \"Exiting ... new gcode file named, gcode_file.csv created in working folder.\",\"\\n\",\n",
    "    \"The finished diameter is: \", Reduced_Diameter, \"\\n\",\n",
    "    \"Go to the next notebook, gcode.Part2.ipynb\", \"\\n\",\n",
    "    \"Begin the next notebook from the top empty cell. Restart Kernel and Run all Cells .\")\n",
    "      \n",
    "  \n",
    "#  Restart kernel and run again with any data entry errors  "
   ]
  },
  {
   "cell_type": "markdown",
   "id": "84f0b3fd-94ee-4811-986b-3f610fcd33f2",
   "metadata": {},
   "source": [
    "# Input:"
   ]
  },
  {
   "cell_type": "markdown",
   "id": "c9a9eeed-ed4c-429a-a89a-4fa9a0002d7f",
   "metadata": {},
   "source": [
    "#### Restart kernel and run the notebook from the top empty cell with data entry error in finish cut."
   ]
  },
  {
   "cell_type": "code",
   "execution_count": null,
   "id": "08a3189f-71cb-4a64-9684-a76de0ecf7a9",
   "metadata": {
    "tags": [],
    "vscode": {
     "languageId": "r"
    }
   },
   "outputs": [],
   "source": []
  },
  {
   "cell_type": "code",
   "execution_count": null,
   "id": "bd9006ad-31b3-4af7-9196-80d1fe215ffc",
   "metadata": {
    "jupyter": {
     "source_hidden": true
    },
    "tags": [],
    "vscode": {
     "languageId": "r"
    }
   },
   "outputs": [],
   "source": [
    "# Add a second pass along the surface of part (to be used while manually adjusting tool postion to touching surface of part)\n",
    "fly_by <- data.frame(X = StartDia, Z = Leng)\n",
    "# fly_by\n",
    "\n",
    "DRO_df <- rbind(fly_by, Output_gcode_df)\n",
    "head(DRO_df, 3)"
   ]
  },
  {
   "cell_type": "code",
   "execution_count": null,
   "id": "ee1fcce2-d133-46dc-be78-6679a375f162",
   "metadata": {
    "tags": []
   },
   "outputs": [],
   "source": []
  },
  {
   "cell_type": "code",
   "execution_count": null,
   "id": "3d1ecf9c-3370-4e4e-ab4e-ebb70d447965",
   "metadata": {
    "vscode": {
     "languageId": "r"
    }
   },
   "outputs": [],
   "source": []
  },
  {
   "cell_type": "markdown",
   "id": "ee624846-d4be-412e-9567-45f9c1f455c0",
   "metadata": {
    "jupyter": {
     "source_hidden": true
    },
    "tags": []
   },
   "source": [
    "### The number of repetitions may become important in following notebooks\n",
    "\n",
    "#### Turns have been saved to a .csv file\n"
   ]
  },
  {
   "cell_type": "code",
   "execution_count": null,
   "id": "8908d163-fb75-465d-9583-7a3aca6e7381",
   "metadata": {
    "jupyter": {
     "source_hidden": true
    },
    "tags": [],
    "vscode": {
     "languageId": "r"
    }
   },
   "outputs": [],
   "source": [
    "# Using this var is a WIP\n",
    "\n",
    "repetitions <- nrow(Output_gcode_df)\n",
    "repetitions\n",
    "writeLines(as.character(repetitions), \"repetitions.txt\")"
   ]
  },
  {
   "cell_type": "markdown",
   "id": "3c40bfa3-0283-44de-83f4-4fad2486fc91",
   "metadata": {},
   "source": [
    "## Write the df to .csv file"
   ]
  },
  {
   "cell_type": "code",
   "execution_count": null,
   "id": "1d8f8c69-764f-4e6b-81ae-358377c8ddf0",
   "metadata": {
    "vscode": {
     "languageId": "r"
    }
   },
   "outputs": [],
   "source": [
    "# Write the updated gcode data to a new .csv file\n",
    "\n",
    "write.csv(DRO_df, file = \"gcode_file.csv\", row.names = FALSE)"
   ]
  },
  {
   "cell_type": "code",
   "execution_count": null,
   "id": "7f88d0b6-c595-4d23-ad97-cf0a82875c91",
   "metadata": {
    "vscode": {
     "languageId": "r"
    }
   },
   "outputs": [],
   "source": []
  },
  {
   "cell_type": "markdown",
   "id": "c8769cc7-3091-4969-a95b-a412da902d10",
   "metadata": {},
   "source": [
    "## Lathe Done !\n",
    "\n",
    "#### Move on to next file: gcode_Part2.ipynb"
   ]
  },
  {
   "cell_type": "code",
   "execution_count": null,
   "id": "563a83e1-11f1-47b0-89e5-42b2fdc9472b",
   "metadata": {},
   "outputs": [],
   "source": []
  },
  {
   "cell_type": "code",
   "execution_count": null,
   "id": "5bead9a8-b70f-43df-a6ac-464a1412b8d8",
   "metadata": {
    "jupyter": {
     "source_hidden": true
    },
    "tags": [],
    "vscode": {
     "languageId": "r"
    }
   },
   "outputs": [],
   "source": [
    "# Read the data from the existing .csv file\n",
    "gcode <- read.csv(\"gcode_file.csv\", header = T)\n",
    "nrow(gcode)\n",
    "head(gcode) \n",
    "str(gcode)\n"
   ]
  },
  {
   "cell_type": "code",
   "execution_count": null,
   "id": "e85de7cc-58f5-432f-8e1c-6965a38b5b09",
   "metadata": {},
   "outputs": [],
   "source": []
  },
  {
   "cell_type": "code",
   "execution_count": null,
   "id": "b5f21576-8ecb-4dc1-8f4a-3baaa66737cf",
   "metadata": {},
   "outputs": [],
   "source": [
    "#  stopper #   Intentional stop.  Optional graphic output section"
   ]
  },
  {
   "cell_type": "code",
   "execution_count": null,
   "id": "315a424a-ad3c-4d3f-ad8b-5a270729383e",
   "metadata": {},
   "outputs": [],
   "source": []
  },
  {
   "cell_type": "code",
   "execution_count": null,
   "id": "7169f287-5963-42c2-afec-3316fe4dd774",
   "metadata": {
    "jupyter": {
     "source_hidden": true
    },
    "tags": []
   },
   "outputs": [],
   "source": [
    "\n",
    "nrow(gcode)\n",
    "n <- nrow(gcode)\n",
    "npt <- seq(1, n, by = 1)\n",
    "npt\n",
    "length(npt)\n",
    "npts <- data.frame(n = npt)\n",
    "head(npts)"
   ]
  },
  {
   "cell_type": "code",
   "execution_count": null,
   "id": "15d6e36d-b75e-4881-8250-080dad24183e",
   "metadata": {
    "jupyter": {
     "source_hidden": true
    },
    "tags": []
   },
   "outputs": [],
   "source": [
    "# df and varables used for shiny output\n",
    "X <- data.frame(X = gcode$X)\n",
    "df <- data.frame(c(npts, X))\n",
    "head(df)"
   ]
  },
  {
   "cell_type": "code",
   "execution_count": null,
   "id": "65e9cfb9-2486-4428-b89f-1f2d6c4120e4",
   "metadata": {},
   "outputs": [],
   "source": [
    "# Define UI\n",
    "ui <- fluidPage(\n",
    "  titlePanel(\"Interactive Plot with Shiny and ggplot2\"),\n",
    "  sidebarLayout(\n",
    "    sidebarPanel(\n",
    "      # Input for selecting variable\n",
    "      selectInput(\"variable\", \"Select Variable:\",\n",
    "                  choices = c(\"X\", \"Z\"),\n",
    "                  selected = \"X\")\n",
    "    ),\n",
    "    mainPanel(\n",
    "      plotOutput(\"plot\")\n",
    "    )\n",
    "  )\n",
    ")\n",
    "\n",
    "# Define server logic\n",
    "server <- function(input, output) {\n",
    "  \n",
    "  # Assuming 'df' is your dataframe containing the data\n",
    "  \n",
    "  # Reactive expression to generate plot based on selected variable\n",
    "  selected_var <- reactive({\n",
    "    df[, input$variable]\n",
    "  })\n",
    "  \n",
    "  # Generate plot\n",
    "  output$plot <- renderPlot({\n",
    "    ggplot(df, aes_string(x = selected_var(), y = \"n\")) +\n",
    "      geom_point() +\n",
    "      labs(x = input$variable, y = \"Turns\", title = \"Scatter Plot\")  # Change the y label here\n",
    "  })\n",
    "}\n",
    "\n",
    "# Run the application\n",
    "shinyApp(ui = ui, server = server)\n"
   ]
  },
  {
   "cell_type": "code",
   "execution_count": null,
   "id": "f1884596-decd-4cc8-b97c-cde3dfb9941d",
   "metadata": {},
   "outputs": [],
   "source": [
    "library(shiny)\n",
    "library(ggplot2)\n",
    "\n",
    "\n",
    "\n",
    "# Define UI\n",
    "ui <- fluidPage(\n",
    "  titlePanel(\"Interactive Plot with Shiny and ggplot2\"),\n",
    "  sidebarLayout(\n",
    "    sidebarPanel(\n",
    "      # Input for selecting variable\n",
    "      selectInput(\"variable\", \"Select Variable:\",\n",
    "                  choices = c(\"X\", \"Z\"),\n",
    "                  selected = \"X\")\n",
    "    ),\n",
    "    mainPanel(\n",
    "      plotOutput(\"plot\")\n",
    "    )\n",
    "  )\n",
    ")\n",
    "\n",
    "# Define server logic\n",
    "server <- function(input, output) {\n",
    "  \n",
    "  # Reactive expression to generate plot based on selected variable\n",
    "  selected_var <- reactive({\n",
    "    df[, input$variable]\n",
    "  })\n",
    "  \n",
    "  # Generate plot\n",
    "  output$plot <- renderPlot({\n",
    "    ggplot(df, aes_string(x = selected_var(), y = \"n\")) +\n",
    "      geom_point() +\n",
    "      labs(\"Cuts\" = input$variable, y = \"Turns\", title = \"Scatter Plot\")\n",
    "  })    \n",
    "}\n",
    "\n",
    "# Run the application\n",
    "shinyApp(ui = ui, server = server)\n",
    "\n",
    "# Click on link to open shiny webpage"
   ]
  },
  {
   "cell_type": "code",
   "execution_count": null,
   "id": "6cc8e486-e2fd-4b28-b565-ebfcbd9640eb",
   "metadata": {},
   "outputs": [],
   "source": [
    "stopper"
   ]
  },
  {
   "cell_type": "code",
   "execution_count": null,
   "id": "71f7d3c8-325f-4d53-a417-6b4fb1468c87",
   "metadata": {
    "tags": [],
    "vscode": {
     "languageId": "r"
    }
   },
   "outputs": [],
   "source": [
    "# output$speedPlot <- renderPlot({\n",
    "#   ggplot() +\n",
    "#     geom_line(aes(x = 1:100, y = speedData$currentSpeed), color = \"blue\", size = 1, linetype = \"solid\") +\n",
    "#     geom_line(aes(x = 1:100, y = speedData$averageSpeed), color = \"red\", size = 1, linetype = \"dashed\") +\n",
    "#     labs(x = \"Time\", y = \"Speed\") +\n",
    "#     theme_minimal()\n",
    "#   # You can modify this plot as per your data and requirements\n",
    "# })\n"
   ]
  },
  {
   "cell_type": "code",
   "execution_count": null,
   "id": "97fa18db-9469-4294-94d4-aa645617483c",
   "metadata": {
    "vscode": {
     "languageId": "r"
    }
   },
   "outputs": [],
   "source": []
  },
  {
   "cell_type": "code",
   "execution_count": null,
   "id": "312ab050-7732-40c8-be2a-104099c3948f",
   "metadata": {
    "vscode": {
     "languageId": "r"
    }
   },
   "outputs": [],
   "source": []
  },
  {
   "cell_type": "code",
   "execution_count": null,
   "id": "02453216-2f0f-4224-bf48-8260dead1421",
   "metadata": {
    "vscode": {
     "languageId": "r"
    }
   },
   "outputs": [],
   "source": [
    "stopper  # Used to stop further processing of Notebook cells"
   ]
  },
  {
   "cell_type": "code",
   "execution_count": null,
   "id": "184fcb14-81b2-4e93-9ec6-a54550b3d1e6",
   "metadata": {
    "vscode": {
     "languageId": "r"
    }
   },
   "outputs": [],
   "source": []
  },
  {
   "cell_type": "markdown",
   "id": "97e0855e-b068-472a-8eff-388c1d1ef79a",
   "metadata": {
    "vscode": {
     "languageId": "r"
    }
   },
   "source": [
    "#### Code wasteland below"
   ]
  },
  {
   "cell_type": "markdown",
   "id": "2eca4dc5-ca7e-4c77-a350-388bd5a85ffa",
   "metadata": {
    "tags": []
   },
   "source": [
    "\n",
    "# Example variable\n",
    "my_variable <- 10\n",
    "\n",
    "# Display the value of my_variable in the prompt message\n",
    "user_input <- readline(paste(\"Enter a value (current value of my_variable is\", my_variable, \"): \"))\n",
    "\n",
    "# Show the user input\n",
    "print(user_input)"
   ]
  },
  {
   "cell_type": "code",
   "execution_count": null,
   "id": "9fd48ec8-8185-4c30-83bf-05966eeb9939",
   "metadata": {
    "vscode": {
     "languageId": "r"
    }
   },
   "outputs": [],
   "source": []
  },
  {
   "cell_type": "markdown",
   "id": "ae53d5bf-4716-4940-9ee2-b215c5226950",
   "metadata": {
    "tags": []
   },
   "source": [
    "Reduced_Diameter <- result_df$X[n]\n",
    "Reduced_Diameter\n",
    "\n",
    "\n",
    "\n",
    "LastCuts <<- readline(paste(\"The current diameter is:\" , Reduced_Diameter, \": Cut size is:\", Cut, \"Make one more \", Cut, \"sized cut? Enter Y for yes\" ))\n",
    "    \n",
    "\n",
    "\n",
    "\n",
    "\n",
    "\n",
    "    \n",
    "    LastCuts <- as.numeric(LastCuts)\n",
    "    str(LastCuts)\n",
    "    Reduced_Diameter <- Reduced_Diameter - Cut\n",
    "    Reduced_Diameter\n",
    "\n",
    "\n",
    "\n",
    "FinalCut  <- readline(paste(\"The diameter has been reduced to:\", testCutSize, \": Enter value (.0xx) for final cut: \"))\n",
    "     FinalCut <- as.numeric(FinalCut)\n",
    "FinalCut <- testCutSize - FinalCut\n",
    "testCutSize\n",
    "\n",
    "\n",
    "\n",
    "\n",
    "FinalCut \n",
    "as.character(FinalCut) \n",
    "\n",
    "FinalCut <- as.numeric(unlist(strsplit(FinalCut, \", \")))   # Convert Char to numeric data type\n",
    "is.numeric(FinalCut)\n",
    "\n",
    "\n",
    "\n"
   ]
  },
  {
   "cell_type": "code",
   "execution_count": null,
   "id": "eae8420d-ebfa-43b3-ad62-f5b2361d9b89",
   "metadata": {
    "vscode": {
     "languageId": "r"
    }
   },
   "outputs": [],
   "source": []
  },
  {
   "cell_type": "code",
   "execution_count": null,
   "id": "008c6927-696b-4741-9a5d-f9a8ba45167d",
   "metadata": {
    "tags": [],
    "vscode": {
     "languageId": "r"
    }
   },
   "outputs": [],
   "source": [
    "testCutSize <- result_df$X[n]\n",
    "\n",
    "\n",
    "# LastCut <<- readline(paste(\"The finish cut(s) loop. Diameter is:\" , testCutSize, \": Enter next cut size or 0 to quit: \"))\n",
    "    \n",
    "if (!is.na(FinalCut)) {\n",
    "    if (FinalCut >= 0 ) {\n",
    "        print(paste(\"final cut is: \", FinalCut))\n",
    "    } else {\n",
    "        print(\"FinalCut is something eles\")\n",
    "    }\n",
    "} else {\n",
    "    print(\"wrong input\")\n",
    "    }\n",
    "   "
   ]
  },
  {
   "cell_type": "code",
   "execution_count": null,
   "id": "4fab9a96-5d14-4ed7-b504-637b6496028a",
   "metadata": {
    "vscode": {
     "languageId": "r"
    }
   },
   "outputs": [],
   "source": []
  },
  {
   "cell_type": "markdown",
   "id": "b6ff4be8-6a7a-43ca-a5fc-cbabe8e0b59b",
   "metadata": {},
   "source": [
    "## Try converting the df to string, "
   ]
  },
  {
   "cell_type": "code",
   "execution_count": null,
   "id": "d0f1b724-5bfd-456c-87fe-fb5497dd724a",
   "metadata": {
    "vscode": {
     "languageId": "r"
    }
   },
   "outputs": [],
   "source": [
    "#  Adding a column to an existing dataframe\n",
    "\n",
    "df_X <- cbind(gCode = \"G1\", Output_gcode_df)\n",
    "df_X\n"
   ]
  },
  {
   "cell_type": "code",
   "execution_count": null,
   "id": "17fb238e-2610-48d2-9826-2f321f2c6592",
   "metadata": {
    "vscode": {
     "languageId": "r"
    }
   },
   "outputs": [],
   "source": [
    "vector_X <- df_X$X\n",
    "vector_Z <- df_X$Z"
   ]
  },
  {
   "cell_type": "code",
   "execution_count": null,
   "id": "825fd7af-79f2-4ce3-84a3-dd63d20857bc",
   "metadata": {
    "vscode": {
     "languageId": "r"
    }
   },
   "outputs": [],
   "source": [
    "vector_X"
   ]
  },
  {
   "cell_type": "code",
   "execution_count": null,
   "id": "a4f144b0-0def-4ae9-888a-19614142dfcc",
   "metadata": {
    "vscode": {
     "languageId": "r"
    }
   },
   "outputs": [],
   "source": [
    "# d <- data.frame(x = 1, y = 1:10, char = char))\n",
    "testDF <- data.frame(gcode = \"G01\", X = \"X\", Xg = vector_X, Z = \"Z\", Zg = vector_Z, F = \"F\", Speed = Feed)"
   ]
  },
  {
   "cell_type": "code",
   "execution_count": null,
   "id": "32a9a80d-79e4-44da-b1de-84f74807034a",
   "metadata": {
    "vscode": {
     "languageId": "r"
    }
   },
   "outputs": [],
   "source": [
    "string_list <- list()\n",
    "\n",
    "for(i in 1:nrow(testDF)) {\n",
    "    row_string <- paste(testDF[i, ], collapse = \" \")  # Concatenate row elements into a string\n",
    "    string_list <- c(string_list, list(row_string))   # Add the row string to the list\n",
    "    }\n"
   ]
  },
  {
   "cell_type": "code",
   "execution_count": null,
   "id": "14404145-e611-49b3-90f0-408c876175d9",
   "metadata": {
    "vscode": {
     "languageId": "r"
    }
   },
   "outputs": [],
   "source": [
    "# Need to seperate the list by rows\n",
    "# Combine the single string with newline characters\n",
    "\n",
    "\n",
    "combined_string <- paste(string_list, collapse = \"\\n\")\n",
    "combined_string\n",
    "is.list(combined_string)\n",
    "\n",
    "str(combined_string)"
   ]
  },
  {
   "cell_type": "code",
   "execution_count": null,
   "id": "5d81158e-6dd8-4ca9-85b3-c04ca1f78bb3",
   "metadata": {
    "vscode": {
     "languageId": "r"
    }
   },
   "outputs": [],
   "source": [
    "# updated_list <- c(string_list, new_string)\n",
    "\n",
    "full_string <- c(combined_string, G0_gcode1)"
   ]
  },
  {
   "cell_type": "code",
   "execution_count": null,
   "id": "ef6ad1da-fc89-4533-9736-4995c748c0a8",
   "metadata": {
    "vscode": {
     "languageId": "r"
    }
   },
   "outputs": [],
   "source": [
    "# Define the file path and name for the output .csv file\n",
    "file_path <- \"gcode_file.csv\"\n",
    "\n",
    "# Write the dataframe to a .csv file\n",
    "# write.csv(text = combined_string, file = file_path, row.names = FALSE)    # this worked, then it didn't\n",
    "\n",
    "# Write the string to a .csv file using writeLines()\n",
    "writeLines(text = full_string, con = file(file_path))"
   ]
  },
  {
   "cell_type": "code",
   "execution_count": null,
   "id": "5c52ab6a-748b-450e-a5da-7f5cfa86881f",
   "metadata": {
    "vscode": {
     "languageId": "r"
    }
   },
   "outputs": [],
   "source": [
    "file_path <- \"gcode_file.csv\"\n",
    "\n",
    "# Open the file in append mode using a file connection\n",
    "file_conn <- file(file_path, open = \"a\")\n",
    "\n",
    "# Append the text to the file using writeLines()\n",
    "writeLines(text = full_string, file_conn)\n",
    "\n",
    "# Close the file connection\n",
    "close(file_conn)"
   ]
  },
  {
   "cell_type": "code",
   "execution_count": null,
   "id": "ee65dacc-c57b-4027-b324-a83a1faeb13d",
   "metadata": {
    "vscode": {
     "languageId": "r"
    }
   },
   "outputs": [],
   "source": []
  },
  {
   "cell_type": "code",
   "execution_count": null,
   "id": "e013c1cd-587b-47a5-a75e-cc2bb502522f",
   "metadata": {
    "vscode": {
     "languageId": "r"
    }
   },
   "outputs": [],
   "source": []
  },
  {
   "cell_type": "code",
   "execution_count": null,
   "id": "bb3fec42-30ec-453b-827d-114590c5fe0b",
   "metadata": {
    "vscode": {
     "languageId": "r"
    }
   },
   "outputs": [],
   "source": [
    "print(paste(\"X\", format(RadDROzero, nsmall = 3), \"Z\", format(Leng, nsmall = 2)))\n",
    "    "
   ]
  },
  {
   "cell_type": "markdown",
   "id": "919e7790-fe7f-4756-80d2-e62e8707968c",
   "metadata": {},
   "source": [
    "###  What do I want?  Add G01 to each line.  Add X and Z.  \n",
    "\n",
    "### This will involve merging or binding columns"
   ]
  },
  {
   "cell_type": "code",
   "execution_count": null,
   "id": "8c085b4a-f8d6-4568-b39d-c2a28fe2e800",
   "metadata": {
    "vscode": {
     "languageId": "r"
    }
   },
   "outputs": [],
   "source": []
  },
  {
   "cell_type": "code",
   "execution_count": null,
   "id": "0c908b73-1184-47c7-982b-a74b53d3d27c",
   "metadata": {
    "vscode": {
     "languageId": "r"
    }
   },
   "outputs": [],
   "source": []
  },
  {
   "cell_type": "code",
   "execution_count": null,
   "id": "b14a5f0f-4a4d-487b-b575-f3f8356aa4e3",
   "metadata": {
    "vscode": {
     "languageId": "r"
    }
   },
   "outputs": [],
   "source": [
    "df_X"
   ]
  },
  {
   "cell_type": "markdown",
   "id": "3656c711-c633-472d-91b4-afe5de6e316e",
   "metadata": {},
   "source": [
    "### Extract the columns\n",
    "\n",
    "    It's far easier to create a new df from scratch than to modify an existing df"
   ]
  },
  {
   "cell_type": "code",
   "execution_count": null,
   "id": "044cbb47-4581-4775-a30b-8d40a659232b",
   "metadata": {
    "vscode": {
     "languageId": "r"
    }
   },
   "outputs": [],
   "source": []
  },
  {
   "cell_type": "markdown",
   "id": "3606b148-81af-463c-a391-ba3077a74773",
   "metadata": {},
   "source": [
    "## Build a new G01 data.frame using the X Z vectors\n",
    "\n",
    "    It far easier to build a df from scratch than to modify an existing df"
   ]
  },
  {
   "cell_type": "code",
   "execution_count": null,
   "id": "76dbd6ea-11a5-44a7-8544-dc9f63595cf0",
   "metadata": {
    "vscode": {
     "languageId": "r"
    }
   },
   "outputs": [],
   "source": [
    "testDF    # the new df with all the components for the gcode G01 \n",
    "nrow(testDF)"
   ]
  },
  {
   "cell_type": "code",
   "execution_count": null,
   "id": "e42534dd-43dc-4fe8-ae8d-b7b6428f3102",
   "metadata": {
    "vscode": {
     "languageId": "r"
    }
   },
   "outputs": [],
   "source": []
  },
  {
   "cell_type": "markdown",
   "id": "a291018e-e6fc-4533-a7ca-15e9a7d0a64f",
   "metadata": {},
   "source": [
    "##  Unpack the df again"
   ]
  },
  {
   "cell_type": "markdown",
   "id": "6d56ea77-e097-4977-9fa8-da37a4ed8808",
   "metadata": {},
   "source": [
    "## Looks Right - note this is a list"
   ]
  },
  {
   "cell_type": "code",
   "execution_count": null,
   "id": "62ef1822-ba8e-4276-b6f7-004fa11703cf",
   "metadata": {
    "vscode": {
     "languageId": "r"
    }
   },
   "outputs": [],
   "source": [
    "string_list\n",
    "length(string_list)\n",
    "is.list(string_list)\n"
   ]
  },
  {
   "cell_type": "markdown",
   "id": "df27ff8a-e66c-458d-9580-c626adf0d817",
   "metadata": {},
   "source": [
    "### This is NOT a list.  Is just a character vector, aka string"
   ]
  },
  {
   "cell_type": "code",
   "execution_count": null,
   "id": "8ea45596-7b72-40d8-a8ee-3b728b8527f9",
   "metadata": {
    "vscode": {
     "languageId": "r"
    }
   },
   "outputs": [],
   "source": []
  },
  {
   "cell_type": "markdown",
   "id": "38158676-b1de-4a69-90c8-521a48c4f8b3",
   "metadata": {},
   "source": [
    "## Append the G00 character vector to the G01 character vector"
   ]
  },
  {
   "cell_type": "code",
   "execution_count": null,
   "id": "f44caf82-1fd7-4c48-8263-07406150efdc",
   "metadata": {
    "vscode": {
     "languageId": "r"
    }
   },
   "outputs": [],
   "source": [
    "# Create a new row - the G00 line, to be inserted into the existing string\n",
    "\n",
    "new_row <- c(\"G00\", \"X\", \".250\", \"Z\",\".75\", \"F\", Feed*2)  # Replace \"Data\" with your content\n",
    "new_row\n",
    "G0_gcode <- paste(new_row, collapse = \" \")\n",
    "G0_gcode\n",
    "G0_gcode1 <- paste(G0_gcode, collapse = \"\\n\")     \n",
    "G0_gcode1\n",
    "str(G0_gcode1)"
   ]
  },
  {
   "cell_type": "code",
   "execution_count": null,
   "id": "f691c660-0781-4934-8658-56391cf7eb39",
   "metadata": {
    "vscode": {
     "languageId": "r"
    }
   },
   "outputs": [],
   "source": [
    "full_string\n",
    "is.list(full_string)\n",
    "str(full_string)"
   ]
  },
  {
   "cell_type": "code",
   "execution_count": null,
   "id": "6b824fc6-086d-4cc1-ada8-7cc4409c0158",
   "metadata": {
    "vscode": {
     "languageId": "r"
    }
   },
   "outputs": [],
   "source": []
  },
  {
   "cell_type": "markdown",
   "id": "8f5c3802-afe5-4a2a-ae79-02a42f44f8ac",
   "metadata": {},
   "source": [
    "### The addtion of G00 was easy when using vectors, aka strings, rather than trying to mod a df"
   ]
  },
  {
   "cell_type": "code",
   "execution_count": null,
   "id": "e36c0d11-c5db-4d93-8ccc-e79dca06fee7",
   "metadata": {
    "vscode": {
     "languageId": "r"
    }
   },
   "outputs": [],
   "source": []
  },
  {
   "cell_type": "markdown",
   "id": "df62b3a5-1be5-46a2-8e38-e75f8d090dc6",
   "metadata": {},
   "source": [
    "### Other code that didn't work out"
   ]
  },
  {
   "cell_type": "code",
   "execution_count": null,
   "id": "d154ee5a-8b53-4da3-9f69-d75542234d49",
   "metadata": {
    "vscode": {
     "languageId": "r"
    }
   },
   "outputs": [],
   "source": [
    "\n",
    "# New row of text to insert\n",
    "new_row <- c(\"G00\", \"X\", \".250\", \"Z\",\".75\", \"F\", Feed*2)  # Replace \"Data\" with your content\n",
    "new_row\n",
    "G0_gcode <- paste(new_row, collapse = \" \")\n",
    "G0_gcode\n",
    "G0_gcode1 <- paste(G0_gcode, collapse = \"\\n\")\n",
    "G0_gcode1"
   ]
  },
  {
   "cell_type": "code",
   "execution_count": null,
   "id": "7e8fbccf-cba1-4a7a-9e42-47ccb40ea893",
   "metadata": {
    "vscode": {
     "languageId": "r"
    }
   },
   "outputs": [],
   "source": [
    "# Write the updated data to a new .csv file\n",
    "write.csv(G0_gcode1, file = \"gcode_file.csv\", append = TRUE, row.names = FALSE)  # Replace \"updated_data.csv\" with your desired file name"
   ]
  },
  {
   "cell_type": "code",
   "execution_count": null,
   "id": "4ff66e6a-c265-4a4f-8823-8e8348191aff",
   "metadata": {
    "vscode": {
     "languageId": "r"
    }
   },
   "outputs": [],
   "source": []
  },
  {
   "cell_type": "code",
   "execution_count": null,
   "id": "0d66380c-2541-431f-b9f5-37bf9fc7d753",
   "metadata": {
    "vscode": {
     "languageId": "r"
    }
   },
   "outputs": [],
   "source": [
    "# Determine the position to insert the new row (for example, after the 3rd row)\n",
    "insert_index <- 2\n",
    "\n",
    "# Insert the new row into the existing data\n",
    "updated_data <- rbind(existing_data[1:insert_index, ], \n",
    "                new_row, existing_data[(insert_index + 1):nrow(existing_data), ])"
   ]
  },
  {
   "cell_type": "code",
   "execution_count": null,
   "id": "ca8357c5-877b-4cd3-bac3-d2e5adf6ef66",
   "metadata": {
    "vscode": {
     "languageId": "r"
    }
   },
   "outputs": [],
   "source": []
  },
  {
   "cell_type": "code",
   "execution_count": null,
   "id": "82d58de9-0f9c-4148-bff5-1b2ea9ffb890",
   "metadata": {
    "vscode": {
     "languageId": "r"
    }
   },
   "outputs": [],
   "source": []
  },
  {
   "cell_type": "code",
   "execution_count": null,
   "id": "34252cf1-c90d-4c02-beb7-331c83f19eed",
   "metadata": {
    "vscode": {
     "languageId": "r"
    }
   },
   "outputs": [],
   "source": [
    "# Your character string\n",
    "my_string <- \"'G01'' ''X''0.235''Z''-0.75'\"\n",
    "\n",
    "# Remove ' character using gsub\n",
    "cleaned_string <- gsub(\"'\", \"\", my_string)\n",
    "\n",
    "# Print the cleaned string\n",
    "print(cleaned_string)"
   ]
  },
  {
   "cell_type": "code",
   "execution_count": null,
   "id": "98ddd72e-7248-4f74-8216-c315642e9938",
   "metadata": {
    "vscode": {
     "languageId": "r"
    }
   },
   "outputs": [],
   "source": [
    "testDF[1,]\n",
    "gcode <- as.character(testDF[1,])\n",
    "gcode\n",
    "is.character(gcode)\n",
    "is.vector(gcode)\n"
   ]
  },
  {
   "cell_type": "code",
   "execution_count": null,
   "id": "42c92761-8cbf-43b9-abd6-0b71572a67e5",
   "metadata": {
    "vscode": {
     "languageId": "r"
    }
   },
   "outputs": [],
   "source": []
  },
  {
   "cell_type": "code",
   "execution_count": null,
   "id": "10a62dde-1efe-4cfc-8ad8-08b8fca2bebb",
   "metadata": {
    "vscode": {
     "languageId": "r"
    }
   },
   "outputs": [],
   "source": []
  },
  {
   "cell_type": "code",
   "execution_count": null,
   "id": "de0ab4dc-8e97-49d7-b7d6-52b8e62f5628",
   "metadata": {
    "vscode": {
     "languageId": "r"
    }
   },
   "outputs": [],
   "source": [
    "str(cleaned_string)"
   ]
  },
  {
   "cell_type": "code",
   "execution_count": null,
   "id": "c40c8a92-7534-43dc-bed9-b4ab5a8b73f5",
   "metadata": {
    "vscode": {
     "languageId": "r"
    }
   },
   "outputs": [],
   "source": []
  }
 ],
 "metadata": {
  "kernelspec": {
   "display_name": "R",
   "language": "R",
   "name": "ir"
  },
  "language_info": {
   "codemirror_mode": "r",
   "file_extension": ".r",
   "mimetype": "text/x-r-source",
   "name": "R",
   "pygments_lexer": "r",
   "version": "4.3.0"
  }
 },
 "nbformat": 4,
 "nbformat_minor": 5
}
