{
 "cells": [
  {
   "cell_type": "code",
   "execution_count": null,
   "id": "642a2811-23e5-449f-9ac8-51d13e062d4f",
   "metadata": {
    "vscode": {
     "languageId": "r"
    }
   },
   "outputs": [],
   "source": []
  },
  {
   "cell_type": "code",
   "execution_count": null,
   "id": "83ed8400-4e02-4104-b57e-8a76f88da05f",
   "metadata": {
    "vscode": {
     "languageId": "r"
    }
   },
   "outputs": [],
   "source": []
  },
  {
   "cell_type": "markdown",
   "id": "78451132-719d-4bd6-a4dc-d960be04c43e",
   "metadata": {
    "tags": []
   },
   "source": [
    "### The first of the three gcode .ipynb associated notebooks:  \n",
    "\n",
    "    gcode_DRO ...\n",
    "    gcode_Part2.ipynb\n",
    "    gcode_Part3.ipynb\n",
    "\n",
    "####  In these gcode notebooks, the cut size (Cut) is reducing the diameter by the Cut size with each roughing pass.\n",
    "\n",
    "    Ex.  Start diameter = .500\n",
    "         Cut = .015\n",
    "         Changing diameter = .500 - .015 = .485\n",
    "\n"
   ]
  },
  {
   "cell_type": "code",
   "execution_count": null,
   "id": "f829ff93-d02a-4c21-8ed1-fa39e8f8e352",
   "metadata": {
    "vscode": {
     "languageId": "r"
    }
   },
   "outputs": [],
   "source": []
  },
  {
   "cell_type": "code",
   "execution_count": null,
   "id": "33f8e63d-9221-4e57-a1ee-6100c3432d18",
   "metadata": {
    "jupyter": {
     "source_hidden": true
    },
    "tags": [],
    "vscode": {
     "languageId": "r"
    }
   },
   "outputs": [],
   "source": [
    "\n",
    "Turn_Data <- function() {\n",
    "    StartDia <<- readline(\"What is Stock Diameter?\")\n",
    "    EndDia <<- readline(\"What is the Finish Diameter?\")\n",
    "    Cut <<- readline(\"What is the depth of the cut? Aluminum .015-.020 \")\n",
    "    Leng <<- readline(\"What is the length of the travel along the Z axis? s/b from 0 to 2.0 inch range.\")\n",
    "    # Spin <<- readline(\"What is the Spindle Speed ... max 2800?\")       # not used\n",
    "    # Feed <<- readline(\"What is the Feedrate ... 4 is slow, 10 fast?\")   # not used \n",
    "    \n",
    "    # Convert input strings to numeric values\n",
    "    StartDia <<- as.numeric(unlist(strsplit(StartDia, \", \")))\n",
    "    EndDia <<- as.numeric(unlist(strsplit(EndDia, \", \")))\n",
    "    EndDia <- format(EndDia, nsmall = 3)\n",
    "    Cut <<- as.numeric(unlist(strsplit(Cut, \", \")))\n",
    "    Leng <<- as.numeric(unlist(strsplit(Leng, \", \")))\n",
    "    # Spin <<- as.numeric(unlist(strsplit(Spin, \", \")))\n",
    "    # Feed <<- as.numeric(unlist(strsplit(Feed, \", \")))\n",
    "}\n"
   ]
  },
  {
   "cell_type": "markdown",
   "id": "33a64750-1df7-46fd-bf48-b8e5f6a790e5",
   "metadata": {
    "tags": []
   },
   "source": [
    "# Input:"
   ]
  },
  {
   "cell_type": "code",
   "execution_count": null,
   "id": "631b1a3d-9545-4dc8-8651-2b3cc39c3649",
   "metadata": {
    "tags": [],
    "vscode": {
     "languageId": "r"
    }
   },
   "outputs": [],
   "source": []
  },
  {
   "cell_type": "code",
   "execution_count": null,
   "id": "2274949f-27bc-4d46-bf28-e26f24f3568d",
   "metadata": {
    "tags": [],
    "vscode": {
     "languageId": "r"
    }
   },
   "outputs": [],
   "source": [
    "Turn_Data()"
   ]
  },
  {
   "cell_type": "code",
   "execution_count": null,
   "id": "7f984410-61dc-420a-80c0-19ad3a82629f",
   "metadata": {
    "tags": [],
    "vscode": {
     "languageId": "r"
    }
   },
   "outputs": [],
   "source": []
  },
  {
   "cell_type": "code",
   "execution_count": null,
   "id": "4df37b34-4d2b-4fa4-aaf8-94aa7b0967e3",
   "metadata": {
    "tags": [],
    "vscode": {
     "languageId": "r"
    }
   },
   "outputs": [],
   "source": []
  },
  {
   "cell_type": "code",
   "execution_count": null,
   "id": "024bf4e2-972e-4353-9b04-715868eb3222",
   "metadata": {
    "jupyter": {
     "source_hidden": true
    },
    "tags": [],
    "vscode": {
     "languageId": "r"
    }
   },
   "outputs": [],
   "source": [
    "X <- \"X \"\n",
    "Z <- \"Z \"\n",
    "\n",
    "TurnOff <- StartDia - EndDia     # the TOTAL amount of matterial to be removed \n",
    "Radius <- StartDia / 2        \n",
    "Diameter <- StartDia\n",
    "\n",
    "Reps <- TurnOff / Cut  # To determine the number of cuts to reduce the stock toward finished diameter\n",
    "\n",
    "# TurnOff    # review values\n",
    "# Radius\n",
    "# Diameter\n",
    "# CutDia\n",
    "# CutRad\n",
    "# Reps"
   ]
  },
  {
   "cell_type": "markdown",
   "id": "009f98ca-0c28-442b-b8cb-babf27521de8",
   "metadata": {},
   "source": [
    "####  Fist for-loop.  Used to initialize a df with values for X Z moves during roughing cycle"
   ]
  },
  {
   "cell_type": "code",
   "execution_count": null,
   "id": "576e3d22-9458-46d6-95f6-d49504878430",
   "metadata": {
    "jupyter": {
     "source_hidden": true
    },
    "tags": [],
    "vscode": {
     "languageId": "r"
    }
   },
   "outputs": [],
   "source": [
    "# Establish a dataframe w/ X and Z values\n",
    "\n",
    "if (Leng >= 0)         # to change sign in case neg value entered for Z during prompt\n",
    "    Leng <- Leng *-1;\n",
    "\n",
    "ChangingDiameter <- StartDia  # to track the reductions in the diameter \n",
    "\n",
    "#Initialize an empty dataframe to store the values\n",
    "result_df <- data.frame(X = numeric(0), Z = numeric(0))\n",
    "\n",
    "# Reps is used to \n",
    "for (i in 1:Reps) {   \n",
    "   \n",
    "    # Create a new row for each iteration with X and Z values and add it to the dataframe\n",
    "      new_row <- data.frame(X = ChangingDiameter, Z = Leng)\n",
    "      result_df <- rbind(result_df, new_row)\n",
    "   \n",
    "      paste(\"X\", format(ChangingDiameter, nsmall = 3), \"Z\", format(Leng, nsmall = 2))\n",
    "    \n",
    "      ChangingDiameter <- ChangingDiameter - Cut   #  Update the var that tracks the changing X values\n",
    "\n",
    "    }\n"
   ]
  },
  {
   "cell_type": "markdown",
   "id": "dd771335-8edb-4240-b5d4-8d4069a1b705",
   "metadata": {
    "tags": [],
    "vscode": {
     "languageId": "r"
    }
   },
   "source": [
    "# Input:"
   ]
  },
  {
   "cell_type": "code",
   "execution_count": null,
   "id": "842812b2-b5dd-4a06-81fc-2e052644e6f2",
   "metadata": {
    "jupyter": {
     "source_hidden": true
    },
    "tags": [],
    "vscode": {
     "languageId": "r"
    }
   },
   "outputs": [],
   "source": [
    "# The df created from the for loop\n",
    "n <- nrow(result_df)\n",
    "n\n",
    "result_df$X[n]\n",
    "# str(result_df)\n",
    "head(result_df, 3)\n",
    "tail(result_df, 3)"
   ]
  },
  {
   "cell_type": "code",
   "execution_count": null,
   "id": "77a79fbf-651a-485b-bb62-6fe4434b0fc6",
   "metadata": {
    "tags": [],
    "vscode": {
     "languageId": "r"
    }
   },
   "outputs": [],
   "source": []
  },
  {
   "cell_type": "code",
   "execution_count": null,
   "id": "f3f9e966-8574-4b14-9483-27cdb674d737",
   "metadata": {
    "jupyter": {
     "source_hidden": true
    },
    "tags": [],
    "vscode": {
     "languageId": "r"
    }
   },
   "outputs": [],
   "source": [
    "# Review the last X value in df - s/b same as (Changing_Diameter), from the X-Z data fram\n",
    "ChangingDiameter\n",
    "Reduced_Diameter <- result_df$X[n]\n",
    "Reduced_Diameter\n",
    "str(Reduced_Diameter)"
   ]
  },
  {
   "cell_type": "code",
   "execution_count": null,
   "id": "ebd0b2be-f496-4537-8347-390d671237cd",
   "metadata": {
    "tags": [],
    "vscode": {
     "languageId": "r"
    }
   },
   "outputs": [],
   "source": []
  },
  {
   "cell_type": "markdown",
   "id": "0343d9ea-4af9-42a2-be03-8a539089b7f8",
   "metadata": {},
   "source": [
    "### Part 1 - Final roughing cut options. \n"
   ]
  },
  {
   "cell_type": "code",
   "execution_count": null,
   "id": "f6c8127f-5a2f-43a1-aec9-587b779c7713",
   "metadata": {
    "tags": [],
    "vscode": {
     "languageId": "r"
    }
   },
   "outputs": [],
   "source": []
  },
  {
   "cell_type": "code",
   "execution_count": null,
   "id": "01581b3b-1cda-42b2-99c4-4d99052ab395",
   "metadata": {
    "jupyter": {
     "source_hidden": true
    },
    "tags": [],
    "vscode": {
     "languageId": "r"
    }
   },
   "outputs": [],
   "source": [
    "# Add necessary imports and variable definitions here\n",
    "\n",
    "valid_input <- FALSE    # Boolean var used to control continued entry w/in loop\n",
    "\n",
    "while (!valid_input) {   \n",
    " \n",
    "    \n",
    "    Reduced_Diameter <- as.numeric(format(Reduced_Diameter, nsmall = 3))\n",
    "\n",
    "    LastRoughDia <<- Reduced_Diameter - Cut                # s/be okay to track w/in loop\n",
    "    Remaining_Uncut_Diameter <<- LastRoughDia - EndDia\n",
    "\n",
    "    # Prompt the user for input    \n",
    "    user_input <<- readline(paste(\"The stock diameter is currently : \" , Reduced_Diameter, \". The roughing cut size is:\", Cut, \". The final diameter is to be:\", format(EndDia, nsmall = 3), \". \\n\", \"One more rough cut will reduce the stock diameter to:\", LastRoughDia, \" - leaving a diameter to be removed in the final cut decision tree : \", Remaining_Uncut_Diameter, \". \\n\", \"Enter Y to make one last rough cut. Or enter N and go directly to the final cut decision tree.\"))\n",
    "\n",
    "    # Convert input to uppercase for case-insensitive comparison\n",
    "    user_input <- toupper(user_input)\n",
    "\n",
    "    # Check if the input is 'Y' or 'N'\n",
    "    if (user_input == 'Y' && Reduced_Diameter >= LastRoughDia) {\n",
    "        \n",
    "\n",
    "        Cut <- as.numeric(Cut)\n",
    "        Reduced_Diameter <- as.numeric(Reduced_Diameter)\n",
    "        Reduced_Diameter <- Reduced_Diameter - Cut        # Update diameter after the last rough cut  \n",
    "\n",
    "        # Create a new row for each iteration with X and Z values and add it to the dataframe\n",
    "        new_row <- data.frame(X = Reduced_Diameter, Z = Leng)            \n",
    "        # paste(\"The new diameter is \", new_row)\n",
    "        Output_gcode_df <<- rbind(result_df, new_row)\n",
    "              \n",
    "        print(\"You entered Yes (Y). Last rough cut was taken and now going to the final cut decision tree\")\n",
    "\n",
    "        valid_input <- TRUE  # Set valid_input to TRUE to exit the loop\n",
    "\n",
    "      } else if (user_input == 'N') {\n",
    "        print(\"You entered No (N).  Moving on to the Finish Cut decision tree.\")\n",
    "        Output_gcode_df <<- result_df\n",
    "        valid_input <- TRUE  # Set valid_input to TRUE to exit the loop\n",
    "      } else {\n",
    "        print(\"Invalid input. Please enter Y or N.\")\n",
    "        # The loop will continue prompting the user for input\n",
    "      }\n",
    "}\n",
    "\n",
    "# FILEPATH: /c:/Gcode/gcode_DRO-WorkingOriginal.ipynb\n",
    "# Reduced_Diameter            # var the maintains the changing X values from each roughing turn\n",
    "# tail(Output_gcode_df, 3)    # this new df replaces result_df. This df will include (rbind) the last rough cut (if performed) \n",
    "\n",
    "# nrow(Output_gcode_df)     # test whether the same of not\n",
    "# nrow(result_df)\n",
    "    \n",
    "    "
   ]
  },
  {
   "cell_type": "code",
   "execution_count": null,
   "id": "3d44e265-9f91-4601-90c9-f530262cc18a",
   "metadata": {
    "vscode": {
     "languageId": "r"
    }
   },
   "outputs": [],
   "source": []
  },
  {
   "cell_type": "markdown",
   "id": "7de086a9-5a7c-4591-982c-d6bec02f39bf",
   "metadata": {},
   "source": [
    "# Input:"
   ]
  },
  {
   "cell_type": "code",
   "execution_count": null,
   "id": "6bf9bf39-272b-4be1-b68f-36f3462c4fbe",
   "metadata": {
    "tags": [],
    "vscode": {
     "languageId": "r"
    }
   },
   "outputs": [],
   "source": [
    "head(Output_gcode_df, 3)"
   ]
  },
  {
   "cell_type": "code",
   "execution_count": null,
   "id": "2517cf6d-5bfa-45da-97fe-1d6ea2612bf8",
   "metadata": {
    "tags": [],
    "vscode": {
     "languageId": "r"
    }
   },
   "outputs": [],
   "source": [
    "stopper\n"
   ]
  },
  {
   "cell_type": "markdown",
   "id": "3632c36e-ff92-43c8-a9c4-52fef97e49a0",
   "metadata": {},
   "source": [
    "## Part - The finish cut(s) options\n"
   ]
  },
  {
   "cell_type": "code",
   "execution_count": null,
   "id": "25d63cc6-13bc-473c-8545-ee43c4d2be20",
   "metadata": {},
   "outputs": [],
   "source": []
  },
  {
   "cell_type": "code",
   "execution_count": null,
   "id": "ab77a5ea-989d-418f-ad53-de2a7bfe97f7",
   "metadata": {
    "jupyter": {
     "source_hidden": true
    },
    "tags": [],
    "vscode": {
     "languageId": "r"
    }
   },
   "outputs": [],
   "source": [
    "valid_input <- FALSE\n",
    "\n",
    "while (!valid_input) {\n",
    " \n",
    "    \n",
    "    Reduced_Diameter <- as.numeric(format(Reduced_Diameter, nsmall = 3))\n",
    "    Remaining_Uncut_Diameter <- Reduced_Diameter - EndDia\n",
    "    \n",
    "    \n",
    "    user_input <<- readline(paste(\"Welcome to finish cuts.  The current diameter is now:\" , Reduced_Diameter, \". The final diameter is to be:\",format(EndDia, nsmall = 3), \":  Enter Y or N to enter finish cut dimensions:\" ))\n",
    "    \n",
    "      # Convert input to uppercase for case-insensitive comparison\n",
    "      user_input <- toupper(user_input)\n",
    "    \n",
    "    print(paste(\"user_input is : \", user_input, \"\\n\"))\n",
    "    \n",
    "    \n",
    "    if (user_input == 'Y' )   {    \n",
    "\n",
    "       # condiion: if stock remains to be removed above the EndDia \n",
    "       if(!is.na(Remaining_Uncut_Diameter >= 0 )) {\n",
    "           \n",
    "            # Prompt the user to input a cut size\n",
    "            user_input2 <<- readline(paste(\"The diameter of stock remaining to be removed is:\", format(Remaining_Uncut_Diameter, nsmall = 3), \"Enter the size of this finish cut (.0xx) :\" ))\n",
    "            FinisCut <- as.numeric(user_input2)\n",
    "           \n",
    "           \n",
    "           if(Reduced_Diameter - FinisCut <= 0) {\n",
    "               print(paste(\"Error.  Input makes negative part diameter: \", Reduced_Diameter - FinisCut, \" Exiting with error\"))\n",
    "                valid_input <- TRUE\n",
    "               break\n",
    "               }\n",
    "\n",
    "            # Reduced_Diameter <- as.numeric(Reduced_Diameter)\n",
    "            Reduced_Diameter <- Reduced_Diameter - FinisCut     # Taking finish cut  \n",
    "           \n",
    "           format(Reduced_Diameter, nsmall = 3) \n",
    "           \n",
    "           print(paste(\"Reduced Diameter is now ... \", Reduced_Diameter, \", and FinishCut was .... \", FinisCut, \"\\n\"))            \n",
    "\n",
    "            # Create a new row for each iteration with X and Z values and add it to the dataframe\n",
    "             new_row <- data.frame(X = Reduced_Diameter, Z = Leng)           \n",
    "             paste(\"The finished stock diameter is to be: \", Reduced_Diameter)\n",
    "             Output_gcode_df <- rbind(result_df, new_row)\n",
    "                                      \n",
    "             Remaining_Uncut_Diameter <- Reduced_Diameter - EndDia\n",
    "           \n",
    "           }\n",
    "           \n",
    "               if(!is.na(Remaining_Uncut_Diameter >= 0 )) {\n",
    "           \n",
    "                    # Prompt the user to input a cut size\n",
    "                    user_input2 <<- readline(paste(\"The diameter of stock that remains to be removed is:\", format(Remaining_Uncut_Diameter, nsmall = 3), \"Enter the size of the first finish cut (.0xx) Do not exceed diameter of stock remaining:\" ))\n",
    "                    FinisCut <- as.numeric(user_input2)\n",
    "\n",
    "                    # Reduced_Diameter <- as.numeric(Reduced_Diameter)\n",
    "                    Reduced_Diameter <- Reduced_Diameter - FinisCut     # Taking finish cut  \n",
    "\n",
    "                   format(Reduced_Diameter, nsmall = 3) \n",
    "\n",
    "                   print(paste(\"Reduced Diameter is now ... \", Reduced_Diameter, \", and FinishCut was .... \", FinisCut, \"\\n\"))\n",
    "\n",
    "\n",
    "                    # Create a new row for each iteration with X and Z values and add it to the dataframe\n",
    "                     new_row <- data.frame(X = Reduced_Diameter, Z = Leng)           \n",
    "                     paste(\"The finished stock diameter is to be: \", Reduced_Diameter)\n",
    "                     Output_gcode_df <- rbind(result_df, new_row)\n",
    "\n",
    "                     Remaining_Uncut_Diameter <- Reduced_Diameter - EndDia\n",
    "        \n",
    "        } else if (Remaining_Uncut_Diameter <= 0) {\n",
    "           print(\"Another cut would make the final diameter under the desired value\")\n",
    "           valid_input <- TRUE          # Set valid_input to TRUE to exit the loop\n",
    "           }\n",
    "        \n",
    "        \n",
    "         \n",
    "       } else if (user_input == 'N') {\n",
    "        print(\"You entered No (N)\")\n",
    "        Output_gcode_df <<- result_df\n",
    "        valid_input <- TRUE                # Set valid_input to TRUE to exit the loop\n",
    "      } else {\n",
    "        print(\"Invalid input. Please enter Y or N.\")\n",
    "        # The loop will continue prompting the user for input\n",
    "      }\n",
    "     \n",
    "      valid_input <- TRUE\n",
    "   }     \n",
    "        \n",
    "print(paste(\"Exit with gcode file named, gcode_file.csv. Final stock diameter : \", Reduced_Diameter ))\n",
    "  \n",
    "#  Restart kernel and run again with any data entry errors  "
   ]
  },
  {
   "cell_type": "markdown",
   "id": "84f0b3fd-94ee-4811-986b-3f610fcd33f2",
   "metadata": {},
   "source": [
    "# Input:"
   ]
  },
  {
   "cell_type": "markdown",
   "id": "c9a9eeed-ed4c-429a-a89a-4fa9a0002d7f",
   "metadata": {},
   "source": [
    "### Restart kernel and run notbooe from the start again with any data entry errors"
   ]
  },
  {
   "cell_type": "code",
   "execution_count": null,
   "id": "08a3189f-71cb-4a64-9684-a76de0ecf7a9",
   "metadata": {
    "tags": [],
    "vscode": {
     "languageId": "r"
    }
   },
   "outputs": [],
   "source": []
  },
  {
   "cell_type": "markdown",
   "id": "ee624846-d4be-412e-9567-45f9c1f455c0",
   "metadata": {
    "tags": []
   },
   "source": [
    "### Note: the number of repetitions may become important in following notebooks\n",
    "\n",
    "#### Reps have been saved to a .csv file\n"
   ]
  },
  {
   "cell_type": "code",
   "execution_count": null,
   "id": "8908d163-fb75-465d-9583-7a3aca6e7381",
   "metadata": {
    "tags": [],
    "vscode": {
     "languageId": "r"
    }
   },
   "outputs": [],
   "source": [
    "repetitions <- nrow(Output_gcode_df)\n",
    "repetitions\n",
    "writeLines(as.character(repetitions), \"repetitions.txt\")"
   ]
  },
  {
   "cell_type": "markdown",
   "id": "3c40bfa3-0283-44de-83f4-4fad2486fc91",
   "metadata": {},
   "source": [
    "## Write the df to .csv file"
   ]
  },
  {
   "cell_type": "code",
   "execution_count": null,
   "id": "1d8f8c69-764f-4e6b-81ae-358377c8ddf0",
   "metadata": {
    "vscode": {
     "languageId": "r"
    }
   },
   "outputs": [],
   "source": [
    "# Write the updated gcode data to a new .csv file\n",
    "\n",
    "write.csv(Output_gcode_df, file = \"gcode_file.csv\", row.names = FALSE)"
   ]
  },
  {
   "cell_type": "code",
   "execution_count": null,
   "id": "7f88d0b6-c595-4d23-ad97-cf0a82875c91",
   "metadata": {
    "vscode": {
     "languageId": "r"
    }
   },
   "outputs": [],
   "source": []
  },
  {
   "cell_type": "code",
   "execution_count": null,
   "id": "5bead9a8-b70f-43df-a6ac-464a1412b8d8",
   "metadata": {
    "vscode": {
     "languageId": "r"
    }
   },
   "outputs": [],
   "source": [
    "# Read the data from the existing .csv file\n",
    "gcode <- read.csv(\"gcode_file.csv\", header = T)\n",
    "gcode"
   ]
  },
  {
   "cell_type": "code",
   "execution_count": null,
   "id": "97fa18db-9469-4294-94d4-aa645617483c",
   "metadata": {
    "vscode": {
     "languageId": "r"
    }
   },
   "outputs": [],
   "source": []
  },
  {
   "cell_type": "markdown",
   "id": "c8769cc7-3091-4969-a95b-a412da902d10",
   "metadata": {},
   "source": [
    "## Done !!!\n",
    "\n",
    "#### Move on to next file: gcode_Part2.ipynb"
   ]
  },
  {
   "cell_type": "code",
   "execution_count": null,
   "id": "312ab050-7732-40c8-be2a-104099c3948f",
   "metadata": {
    "vscode": {
     "languageId": "r"
    }
   },
   "outputs": [],
   "source": []
  },
  {
   "cell_type": "code",
   "execution_count": null,
   "id": "02453216-2f0f-4224-bf48-8260dead1421",
   "metadata": {
    "vscode": {
     "languageId": "r"
    }
   },
   "outputs": [],
   "source": [
    "stopper  # Used to stop further processing of Notebook cells"
   ]
  },
  {
   "cell_type": "code",
   "execution_count": null,
   "id": "184fcb14-81b2-4e93-9ec6-a54550b3d1e6",
   "metadata": {
    "vscode": {
     "languageId": "r"
    }
   },
   "outputs": [],
   "source": []
  },
  {
   "cell_type": "markdown",
   "id": "97e0855e-b068-472a-8eff-388c1d1ef79a",
   "metadata": {
    "vscode": {
     "languageId": "r"
    }
   },
   "source": [
    "#### Code wasteland below"
   ]
  },
  {
   "cell_type": "markdown",
   "id": "2eca4dc5-ca7e-4c77-a350-388bd5a85ffa",
   "metadata": {
    "tags": []
   },
   "source": [
    "\n",
    "# Example variable\n",
    "my_variable <- 10\n",
    "\n",
    "# Display the value of my_variable in the prompt message\n",
    "user_input <- readline(paste(\"Enter a value (current value of my_variable is\", my_variable, \"): \"))\n",
    "\n",
    "# Show the user input\n",
    "print(user_input)"
   ]
  },
  {
   "cell_type": "code",
   "execution_count": null,
   "id": "9fd48ec8-8185-4c30-83bf-05966eeb9939",
   "metadata": {
    "vscode": {
     "languageId": "r"
    }
   },
   "outputs": [],
   "source": []
  },
  {
   "cell_type": "markdown",
   "id": "ae53d5bf-4716-4940-9ee2-b215c5226950",
   "metadata": {
    "tags": []
   },
   "source": [
    "Reduced_Diameter <- result_df$X[n]\n",
    "Reduced_Diameter\n",
    "\n",
    "\n",
    "\n",
    "LastCuts <<- readline(paste(\"The current diameter is:\" , Reduced_Diameter, \": Cut size is:\", Cut, \"Make one more \", Cut, \"sized cut? Enter Y for yes\" ))\n",
    "    \n",
    "\n",
    "\n",
    "\n",
    "\n",
    "\n",
    "    \n",
    "    LastCuts <- as.numeric(LastCuts)\n",
    "    str(LastCuts)\n",
    "    Reduced_Diameter <- Reduced_Diameter - Cut\n",
    "    Reduced_Diameter\n",
    "\n",
    "\n",
    "\n",
    "FinalCut  <- readline(paste(\"The diameter has been reduced to:\", testCutSize, \": Enter value (.0xx) for final cut: \"))\n",
    "     FinalCut <- as.numeric(FinalCut)\n",
    "FinalCut <- testCutSize - FinalCut\n",
    "testCutSize\n",
    "\n",
    "\n",
    "\n",
    "\n",
    "FinalCut \n",
    "as.character(FinalCut) \n",
    "\n",
    "FinalCut <- as.numeric(unlist(strsplit(FinalCut, \", \")))   # Convert Char to numeric data type\n",
    "is.numeric(FinalCut)\n",
    "\n",
    "\n",
    "\n"
   ]
  },
  {
   "cell_type": "code",
   "execution_count": null,
   "id": "eae8420d-ebfa-43b3-ad62-f5b2361d9b89",
   "metadata": {
    "vscode": {
     "languageId": "r"
    }
   },
   "outputs": [],
   "source": []
  },
  {
   "cell_type": "code",
   "execution_count": null,
   "id": "008c6927-696b-4741-9a5d-f9a8ba45167d",
   "metadata": {
    "tags": [],
    "vscode": {
     "languageId": "r"
    }
   },
   "outputs": [],
   "source": [
    "testCutSize <- result_df$X[n]\n",
    "\n",
    "\n",
    "# LastCut <<- readline(paste(\"The finish cut(s) loop. Diameter is:\" , testCutSize, \": Enter next cut size or 0 to quit: \"))\n",
    "    \n",
    "if (!is.na(FinalCut)) {\n",
    "    if (FinalCut >= 0 ) {\n",
    "        print(paste(\"final cut is: \", FinalCut))\n",
    "    } else {\n",
    "        print(\"FinalCut is something eles\")\n",
    "    }\n",
    "} else {\n",
    "    print(\"wrong input\")\n",
    "    }\n",
    "   "
   ]
  },
  {
   "cell_type": "code",
   "execution_count": null,
   "id": "4fab9a96-5d14-4ed7-b504-637b6496028a",
   "metadata": {
    "vscode": {
     "languageId": "r"
    }
   },
   "outputs": [],
   "source": []
  },
  {
   "cell_type": "markdown",
   "id": "b6ff4be8-6a7a-43ca-a5fc-cbabe8e0b59b",
   "metadata": {},
   "source": [
    "## Try converting the df to string, "
   ]
  },
  {
   "cell_type": "code",
   "execution_count": null,
   "id": "d0f1b724-5bfd-456c-87fe-fb5497dd724a",
   "metadata": {
    "vscode": {
     "languageId": "r"
    }
   },
   "outputs": [],
   "source": [
    "#  Adding a column to an existing dataframe\n",
    "\n",
    "df_X <- cbind(gCode = \"G1\", Output_gcode_df)\n",
    "df_X\n"
   ]
  },
  {
   "cell_type": "code",
   "execution_count": null,
   "id": "17fb238e-2610-48d2-9826-2f321f2c6592",
   "metadata": {
    "vscode": {
     "languageId": "r"
    }
   },
   "outputs": [],
   "source": [
    "vector_X <- df_X$X\n",
    "vector_Z <- df_X$Z"
   ]
  },
  {
   "cell_type": "code",
   "execution_count": null,
   "id": "825fd7af-79f2-4ce3-84a3-dd63d20857bc",
   "metadata": {
    "vscode": {
     "languageId": "r"
    }
   },
   "outputs": [],
   "source": [
    "vector_X"
   ]
  },
  {
   "cell_type": "code",
   "execution_count": null,
   "id": "a4f144b0-0def-4ae9-888a-19614142dfcc",
   "metadata": {
    "vscode": {
     "languageId": "r"
    }
   },
   "outputs": [],
   "source": [
    "# d <- data.frame(x = 1, y = 1:10, char = char))\n",
    "testDF <- data.frame(gcode = \"G01\", X = \"X\", Xg = vector_X, Z = \"Z\", Zg = vector_Z, F = \"F\", Speed = Feed)"
   ]
  },
  {
   "cell_type": "code",
   "execution_count": null,
   "id": "32a9a80d-79e4-44da-b1de-84f74807034a",
   "metadata": {
    "vscode": {
     "languageId": "r"
    }
   },
   "outputs": [],
   "source": [
    "string_list <- list()\n",
    "\n",
    "for(i in 1:nrow(testDF)) {\n",
    "    row_string <- paste(testDF[i, ], collapse = \" \")  # Concatenate row elements into a string\n",
    "    string_list <- c(string_list, list(row_string))   # Add the row string to the list\n",
    "    }\n"
   ]
  },
  {
   "cell_type": "code",
   "execution_count": null,
   "id": "14404145-e611-49b3-90f0-408c876175d9",
   "metadata": {
    "vscode": {
     "languageId": "r"
    }
   },
   "outputs": [],
   "source": [
    "# Need to seperate the list by rows\n",
    "# Combine the single string with newline characters\n",
    "\n",
    "\n",
    "combined_string <- paste(string_list, collapse = \"\\n\")\n",
    "combined_string\n",
    "is.list(combined_string)\n",
    "\n",
    "str(combined_string)"
   ]
  },
  {
   "cell_type": "code",
   "execution_count": null,
   "id": "5d81158e-6dd8-4ca9-85b3-c04ca1f78bb3",
   "metadata": {
    "vscode": {
     "languageId": "r"
    }
   },
   "outputs": [],
   "source": [
    "# updated_list <- c(string_list, new_string)\n",
    "\n",
    "full_string <- c(combined_string, G0_gcode1)"
   ]
  },
  {
   "cell_type": "code",
   "execution_count": null,
   "id": "ef6ad1da-fc89-4533-9736-4995c748c0a8",
   "metadata": {
    "vscode": {
     "languageId": "r"
    }
   },
   "outputs": [],
   "source": [
    "# Define the file path and name for the output .csv file\n",
    "file_path <- \"gcode_file.csv\"\n",
    "\n",
    "# Write the dataframe to a .csv file\n",
    "# write.csv(text = combined_string, file = file_path, row.names = FALSE)    # this worked, then it didn't\n",
    "\n",
    "# Write the string to a .csv file using writeLines()\n",
    "writeLines(text = full_string, con = file(file_path))"
   ]
  },
  {
   "cell_type": "code",
   "execution_count": null,
   "id": "5c52ab6a-748b-450e-a5da-7f5cfa86881f",
   "metadata": {
    "vscode": {
     "languageId": "r"
    }
   },
   "outputs": [],
   "source": [
    "file_path <- \"gcode_file.csv\"\n",
    "\n",
    "# Open the file in append mode using a file connection\n",
    "file_conn <- file(file_path, open = \"a\")\n",
    "\n",
    "# Append the text to the file using writeLines()\n",
    "writeLines(text = full_string, file_conn)\n",
    "\n",
    "# Close the file connection\n",
    "close(file_conn)"
   ]
  },
  {
   "cell_type": "code",
   "execution_count": null,
   "id": "ee65dacc-c57b-4027-b324-a83a1faeb13d",
   "metadata": {
    "vscode": {
     "languageId": "r"
    }
   },
   "outputs": [],
   "source": []
  },
  {
   "cell_type": "code",
   "execution_count": null,
   "id": "e013c1cd-587b-47a5-a75e-cc2bb502522f",
   "metadata": {
    "vscode": {
     "languageId": "r"
    }
   },
   "outputs": [],
   "source": []
  },
  {
   "cell_type": "code",
   "execution_count": null,
   "id": "bb3fec42-30ec-453b-827d-114590c5fe0b",
   "metadata": {
    "vscode": {
     "languageId": "r"
    }
   },
   "outputs": [],
   "source": [
    "print(paste(\"X\", format(RadDROzero, nsmall = 3), \"Z\", format(Leng, nsmall = 2)))\n",
    "    "
   ]
  },
  {
   "cell_type": "markdown",
   "id": "919e7790-fe7f-4756-80d2-e62e8707968c",
   "metadata": {},
   "source": [
    "###  What do I want?  Add G01 to each line.  Add X and Z.  \n",
    "\n",
    "### This will involve merging or binding columns"
   ]
  },
  {
   "cell_type": "code",
   "execution_count": null,
   "id": "8c085b4a-f8d6-4568-b39d-c2a28fe2e800",
   "metadata": {
    "vscode": {
     "languageId": "r"
    }
   },
   "outputs": [],
   "source": []
  },
  {
   "cell_type": "code",
   "execution_count": null,
   "id": "0c908b73-1184-47c7-982b-a74b53d3d27c",
   "metadata": {
    "vscode": {
     "languageId": "r"
    }
   },
   "outputs": [],
   "source": []
  },
  {
   "cell_type": "code",
   "execution_count": null,
   "id": "b14a5f0f-4a4d-487b-b575-f3f8356aa4e3",
   "metadata": {
    "vscode": {
     "languageId": "r"
    }
   },
   "outputs": [],
   "source": [
    "df_X"
   ]
  },
  {
   "cell_type": "markdown",
   "id": "3656c711-c633-472d-91b4-afe5de6e316e",
   "metadata": {},
   "source": [
    "### Extract the columns\n",
    "\n",
    "    It's far easier to create a new df from scratch than to modify an existing df"
   ]
  },
  {
   "cell_type": "code",
   "execution_count": null,
   "id": "044cbb47-4581-4775-a30b-8d40a659232b",
   "metadata": {
    "vscode": {
     "languageId": "r"
    }
   },
   "outputs": [],
   "source": []
  },
  {
   "cell_type": "markdown",
   "id": "3606b148-81af-463c-a391-ba3077a74773",
   "metadata": {},
   "source": [
    "## Build a new G01 data.frame using the X Z vectors\n",
    "\n",
    "    It far easier to build a df from scratch than to modify an existing df"
   ]
  },
  {
   "cell_type": "code",
   "execution_count": null,
   "id": "76dbd6ea-11a5-44a7-8544-dc9f63595cf0",
   "metadata": {
    "vscode": {
     "languageId": "r"
    }
   },
   "outputs": [],
   "source": [
    "testDF    # the new df with all the components for the gcode G01 \n",
    "nrow(testDF)"
   ]
  },
  {
   "cell_type": "code",
   "execution_count": null,
   "id": "e42534dd-43dc-4fe8-ae8d-b7b6428f3102",
   "metadata": {
    "vscode": {
     "languageId": "r"
    }
   },
   "outputs": [],
   "source": []
  },
  {
   "cell_type": "markdown",
   "id": "a291018e-e6fc-4533-a7ca-15e9a7d0a64f",
   "metadata": {},
   "source": [
    "##  Unpack the df again"
   ]
  },
  {
   "cell_type": "markdown",
   "id": "6d56ea77-e097-4977-9fa8-da37a4ed8808",
   "metadata": {},
   "source": [
    "## Looks Right - note this is a list"
   ]
  },
  {
   "cell_type": "code",
   "execution_count": null,
   "id": "62ef1822-ba8e-4276-b6f7-004fa11703cf",
   "metadata": {
    "vscode": {
     "languageId": "r"
    }
   },
   "outputs": [],
   "source": [
    "string_list\n",
    "length(string_list)\n",
    "is.list(string_list)\n"
   ]
  },
  {
   "cell_type": "markdown",
   "id": "df27ff8a-e66c-458d-9580-c626adf0d817",
   "metadata": {},
   "source": [
    "### This is NOT a list.  Is just a character vector, aka string"
   ]
  },
  {
   "cell_type": "code",
   "execution_count": null,
   "id": "8ea45596-7b72-40d8-a8ee-3b728b8527f9",
   "metadata": {
    "vscode": {
     "languageId": "r"
    }
   },
   "outputs": [],
   "source": []
  },
  {
   "cell_type": "markdown",
   "id": "38158676-b1de-4a69-90c8-521a48c4f8b3",
   "metadata": {},
   "source": [
    "## Append the G00 character vector to the G01 character vector"
   ]
  },
  {
   "cell_type": "code",
   "execution_count": null,
   "id": "f44caf82-1fd7-4c48-8263-07406150efdc",
   "metadata": {
    "vscode": {
     "languageId": "r"
    }
   },
   "outputs": [],
   "source": [
    "# Create a new row - the G00 line, to be inserted into the existing string\n",
    "\n",
    "new_row <- c(\"G00\", \"X\", \".250\", \"Z\",\".75\", \"F\", Feed*2)  # Replace \"Data\" with your content\n",
    "new_row\n",
    "G0_gcode <- paste(new_row, collapse = \" \")\n",
    "G0_gcode\n",
    "G0_gcode1 <- paste(G0_gcode, collapse = \"\\n\")     \n",
    "G0_gcode1\n",
    "str(G0_gcode1)"
   ]
  },
  {
   "cell_type": "code",
   "execution_count": null,
   "id": "f691c660-0781-4934-8658-56391cf7eb39",
   "metadata": {
    "vscode": {
     "languageId": "r"
    }
   },
   "outputs": [],
   "source": [
    "full_string\n",
    "is.list(full_string)\n",
    "str(full_string)"
   ]
  },
  {
   "cell_type": "code",
   "execution_count": null,
   "id": "6b824fc6-086d-4cc1-ada8-7cc4409c0158",
   "metadata": {
    "vscode": {
     "languageId": "r"
    }
   },
   "outputs": [],
   "source": []
  },
  {
   "cell_type": "markdown",
   "id": "8f5c3802-afe5-4a2a-ae79-02a42f44f8ac",
   "metadata": {},
   "source": [
    "### The addtion of G00 was easy when using vectors, aka strings, rather than trying to mod a df"
   ]
  },
  {
   "cell_type": "code",
   "execution_count": null,
   "id": "e36c0d11-c5db-4d93-8ccc-e79dca06fee7",
   "metadata": {
    "vscode": {
     "languageId": "r"
    }
   },
   "outputs": [],
   "source": []
  },
  {
   "cell_type": "markdown",
   "id": "df62b3a5-1be5-46a2-8e38-e75f8d090dc6",
   "metadata": {},
   "source": [
    "### Other code that didn't work out"
   ]
  },
  {
   "cell_type": "code",
   "execution_count": null,
   "id": "d154ee5a-8b53-4da3-9f69-d75542234d49",
   "metadata": {
    "vscode": {
     "languageId": "r"
    }
   },
   "outputs": [],
   "source": [
    "\n",
    "# New row of text to insert\n",
    "new_row <- c(\"G00\", \"X\", \".250\", \"Z\",\".75\", \"F\", Feed*2)  # Replace \"Data\" with your content\n",
    "new_row\n",
    "G0_gcode <- paste(new_row, collapse = \" \")\n",
    "G0_gcode\n",
    "G0_gcode1 <- paste(G0_gcode, collapse = \"\\n\")\n",
    "G0_gcode1"
   ]
  },
  {
   "cell_type": "code",
   "execution_count": null,
   "id": "7e8fbccf-cba1-4a7a-9e42-47ccb40ea893",
   "metadata": {
    "vscode": {
     "languageId": "r"
    }
   },
   "outputs": [],
   "source": [
    "# Write the updated data to a new .csv file\n",
    "write.csv(G0_gcode1, file = \"gcode_file.csv\", append = TRUE, row.names = FALSE)  # Replace \"updated_data.csv\" with your desired file name"
   ]
  },
  {
   "cell_type": "code",
   "execution_count": null,
   "id": "4ff66e6a-c265-4a4f-8823-8e8348191aff",
   "metadata": {
    "vscode": {
     "languageId": "r"
    }
   },
   "outputs": [],
   "source": []
  },
  {
   "cell_type": "code",
   "execution_count": null,
   "id": "0d66380c-2541-431f-b9f5-37bf9fc7d753",
   "metadata": {
    "vscode": {
     "languageId": "r"
    }
   },
   "outputs": [],
   "source": [
    "# Determine the position to insert the new row (for example, after the 3rd row)\n",
    "insert_index <- 2\n",
    "\n",
    "# Insert the new row into the existing data\n",
    "updated_data <- rbind(existing_data[1:insert_index, ], \n",
    "                new_row, existing_data[(insert_index + 1):nrow(existing_data), ])"
   ]
  },
  {
   "cell_type": "code",
   "execution_count": null,
   "id": "ca8357c5-877b-4cd3-bac3-d2e5adf6ef66",
   "metadata": {
    "vscode": {
     "languageId": "r"
    }
   },
   "outputs": [],
   "source": []
  },
  {
   "cell_type": "code",
   "execution_count": null,
   "id": "82d58de9-0f9c-4148-bff5-1b2ea9ffb890",
   "metadata": {
    "vscode": {
     "languageId": "r"
    }
   },
   "outputs": [],
   "source": []
  },
  {
   "cell_type": "code",
   "execution_count": null,
   "id": "34252cf1-c90d-4c02-beb7-331c83f19eed",
   "metadata": {
    "vscode": {
     "languageId": "r"
    }
   },
   "outputs": [],
   "source": [
    "# Your character string\n",
    "my_string <- \"'G01'' ''X''0.235''Z''-0.75'\"\n",
    "\n",
    "# Remove ' character using gsub\n",
    "cleaned_string <- gsub(\"'\", \"\", my_string)\n",
    "\n",
    "# Print the cleaned string\n",
    "print(cleaned_string)"
   ]
  },
  {
   "cell_type": "code",
   "execution_count": null,
   "id": "98ddd72e-7248-4f74-8216-c315642e9938",
   "metadata": {
    "vscode": {
     "languageId": "r"
    }
   },
   "outputs": [],
   "source": [
    "testDF[1,]\n",
    "gcode <- as.character(testDF[1,])\n",
    "gcode\n",
    "is.character(gcode)\n",
    "is.vector(gcode)\n"
   ]
  },
  {
   "cell_type": "code",
   "execution_count": null,
   "id": "42c92761-8cbf-43b9-abd6-0b71572a67e5",
   "metadata": {
    "vscode": {
     "languageId": "r"
    }
   },
   "outputs": [],
   "source": []
  },
  {
   "cell_type": "code",
   "execution_count": null,
   "id": "10a62dde-1efe-4cfc-8ad8-08b8fca2bebb",
   "metadata": {
    "vscode": {
     "languageId": "r"
    }
   },
   "outputs": [],
   "source": []
  },
  {
   "cell_type": "code",
   "execution_count": null,
   "id": "de0ab4dc-8e97-49d7-b7d6-52b8e62f5628",
   "metadata": {
    "vscode": {
     "languageId": "r"
    }
   },
   "outputs": [],
   "source": [
    "str(cleaned_string)"
   ]
  },
  {
   "cell_type": "code",
   "execution_count": null,
   "id": "c40c8a92-7534-43dc-bed9-b4ab5a8b73f5",
   "metadata": {
    "vscode": {
     "languageId": "r"
    }
   },
   "outputs": [],
   "source": []
  }
 ],
 "metadata": {
  "kernelspec": {
   "display_name": "R",
   "language": "R",
   "name": "ir"
  },
  "language_info": {
   "codemirror_mode": "r",
   "file_extension": ".r",
   "mimetype": "text/x-r-source",
   "name": "R",
   "pygments_lexer": "r",
   "version": "4.3.0"
  }
 },
 "nbformat": 4,
 "nbformat_minor": 5
}
