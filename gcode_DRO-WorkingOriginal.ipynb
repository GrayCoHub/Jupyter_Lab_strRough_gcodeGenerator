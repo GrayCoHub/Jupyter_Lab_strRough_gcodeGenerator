{
 "cells": [
  {
   "cell_type": "code",
   "execution_count": null,
   "id": "642a2811-23e5-449f-9ac8-51d13e062d4f",
   "metadata": {},
   "outputs": [],
   "source": []
  },
  {
   "cell_type": "code",
   "execution_count": null,
   "id": "83ed8400-4e02-4104-b57e-8a76f88da05f",
   "metadata": {},
   "outputs": [],
   "source": []
  },
  {
   "cell_type": "markdown",
   "id": "48d526d1-d3e8-402c-a855-5a76ac20a5f5",
   "metadata": {},
   "source": [
    "# The first of three gcode .ipynb files:  \n",
    "\n",
    "    gcode_DRO ...\n",
    "    gcode_Part2.ipynb\n",
    "    gcode_Part3.ipynb"
   ]
  },
  {
   "cell_type": "markdown",
   "id": "85d1f6a0-8fb1-4a33-b3dc-6f60a35ac973",
   "metadata": {},
   "source": [
    "## There are 3 sets of user inputs in this file.\n",
    "\n",
    "\n",
    "##### Remember ....   <<-   is used to create a global variable"
   ]
  },
  {
   "cell_type": "code",
   "execution_count": 1,
   "id": "33f8e63d-9221-4e57-a1ee-6100c3432d18",
   "metadata": {
    "jupyter": {
     "source_hidden": true
    },
    "tags": []
   },
   "outputs": [],
   "source": [
    "\n",
    "Turn_Data <- function() {\n",
    "    StartDia <<- readline(\"What is Stock Diameter?\")\n",
    "    EndDia <<- readline(\"What is the Finish Diameter?\")\n",
    "    Cut <<- readline(\"What is the depth of the cut? Aluminum .015-.020 \")\n",
    "    Leng <<- readline(\"What is the length of the cut along the negative -Z axis?\")\n",
    "    Spin <<- readline(\"What is the Spindle Speed ... max 2800?\")\n",
    "    Feed <<- readline(\"What is the Feedrate ... 4 is slow, 10 fast?\")\n",
    "    \n",
    "    # Convert input strings to numeric values\n",
    "    StartDia <<- as.numeric(unlist(strsplit(StartDia, \", \")))\n",
    "    EndDia <<- as.numeric(unlist(strsplit(EndDia, \", \")))\n",
    "    EndDia <- format(EndDia, nsmall = 3)\n",
    "    Cut <<- as.numeric(unlist(strsplit(Cut, \", \")))\n",
    "    Leng <<- as.numeric(unlist(strsplit(Leng, \", \")))\n",
    "    Spin <<- as.numeric(unlist(strsplit(Spin, \", \")))\n",
    "    Feed <<- as.numeric(unlist(strsplit(Feed, \", \")))\n",
    "}\n"
   ]
  },
  {
   "cell_type": "markdown",
   "id": "33a64750-1df7-46fd-bf48-b8e5f6a790e5",
   "metadata": {},
   "source": [
    "# Input:"
   ]
  },
  {
   "cell_type": "code",
   "execution_count": null,
   "id": "631b1a3d-9545-4dc8-8651-2b3cc39c3649",
   "metadata": {
    "jupyter": {
     "source_hidden": true
    },
    "tags": []
   },
   "outputs": [],
   "source": []
  },
  {
   "cell_type": "code",
   "execution_count": 2,
   "id": "2274949f-27bc-4d46-bf28-e26f24f3568d",
   "metadata": {
    "jupyter": {
     "source_hidden": true
    },
    "tags": []
   },
   "outputs": [
    {
     "name": "stdin",
     "output_type": "stream",
     "text": [
      "What is Stock Diameter? .4925\n",
      "What is the Finish Diameter? .2545\n",
      "What is the depth of the cut? Aluminum .015-.020  .015\n",
      "What is the length of the cut along the negative -Z axis? 1.0\n",
      "What is the Spindle Speed ... max 2800? 2800\n",
      "What is the Feedrate ... 4 is slow, 10 fast? 5\n"
     ]
    }
   ],
   "source": [
    "Turn_Data()"
   ]
  },
  {
   "cell_type": "code",
   "execution_count": null,
   "id": "d5013365-a9a3-4285-8a4a-7e75ac3527ff",
   "metadata": {
    "jupyter": {
     "source_hidden": true
    },
    "tags": []
   },
   "outputs": [],
   "source": []
  },
  {
   "cell_type": "code",
   "execution_count": 3,
   "id": "44696f80-0702-47b6-9e2c-2f6828e4a69a",
   "metadata": {
    "jupyter": {
     "source_hidden": true
    },
    "tags": []
   },
   "outputs": [
    {
     "data": {
      "text/html": [
       "TRUE"
      ],
      "text/latex": [
       "TRUE"
      ],
      "text/markdown": [
       "TRUE"
      ],
      "text/plain": [
       "[1] TRUE"
      ]
     },
     "metadata": {},
     "output_type": "display_data"
    },
    {
     "data": {
      "text/html": [
       "0.015"
      ],
      "text/latex": [
       "0.015"
      ],
      "text/markdown": [
       "0.015"
      ],
      "text/plain": [
       "[1] 0.015"
      ]
     },
     "metadata": {},
     "output_type": "display_data"
    }
   ],
   "source": [
    "is.numeric(Cut)\n",
    "Cut"
   ]
  },
  {
   "cell_type": "code",
   "execution_count": null,
   "id": "7f984410-61dc-420a-80c0-19ad3a82629f",
   "metadata": {
    "jupyter": {
     "source_hidden": true
    },
    "tags": []
   },
   "outputs": [],
   "source": []
  },
  {
   "cell_type": "markdown",
   "id": "481a987c-ab44-446e-9680-f028a3f9d515",
   "metadata": {
    "tags": []
   },
   "source": [
    "#### Know: In a lathe, the cut size (Cut) reduces the diameter 2 x Ct, the radius is reduced 1/2 x Ct"
   ]
  },
  {
   "cell_type": "markdown",
   "id": "00763092-1b63-4b68-8cf1-6e62a7856b2b",
   "metadata": {
    "tags": []
   },
   "source": [
    "## Lathe gcodes\n",
    "\n",
    "\n",
    "    G07 - lathe radius mode\n",
    "    G18 - the ZX plane mode\n",
    "    G20 - Set units to inches\n",
    "    G49 - Set tool offset compensation to zero (used w/Fusion360 )\n",
    "    G90 - Distance Mode: ABSOLUTE\n",
    "    \n",
    "    Opt\n",
    "    G53 - Safe position (Non Modal)\n",
    "    G54 - Touchoff position for X and Z\n",
    "    G94 - Feed per minute.  Sherline cannot change spindle speed, t/f, cannot use G95\n",
    "    "
   ]
  },
  {
   "cell_type": "code",
   "execution_count": null,
   "id": "4df37b34-4d2b-4fa4-aaf8-94aa7b0967e3",
   "metadata": {
    "jupyter": {
     "source_hidden": true
    },
    "tags": []
   },
   "outputs": [],
   "source": []
  },
  {
   "cell_type": "code",
   "execution_count": 4,
   "id": "8034289e-4c34-4c65-a077-3f2674cf587e",
   "metadata": {
    "jupyter": {
     "source_hidden": true
    },
    "tags": []
   },
   "outputs": [],
   "source": [
    "X <- \"X \"\n",
    "Z <- \"Z \""
   ]
  },
  {
   "cell_type": "code",
   "execution_count": 5,
   "id": "f65f6547-fbfb-4d7b-9d2f-4d3f878353b1",
   "metadata": {
    "jupyter": {
     "source_hidden": true
    },
    "tags": []
   },
   "outputs": [
    {
     "data": {
      "text/html": [
       "'X '"
      ],
      "text/latex": [
       "'X '"
      ],
      "text/markdown": [
       "'X '"
      ],
      "text/plain": [
       "[1] \"X \""
      ]
     },
     "metadata": {},
     "output_type": "display_data"
    }
   ],
   "source": [
    "X"
   ]
  },
  {
   "cell_type": "code",
   "execution_count": 6,
   "id": "ec901263-be3d-4610-8102-553a2313d3c3",
   "metadata": {
    "jupyter": {
     "source_hidden": true
    },
    "tags": []
   },
   "outputs": [
    {
     "data": {
      "text/html": [
       "0.015"
      ],
      "text/latex": [
       "0.015"
      ],
      "text/markdown": [
       "0.015"
      ],
      "text/plain": [
       "[1] 0.015"
      ]
     },
     "metadata": {},
     "output_type": "display_data"
    }
   ],
   "source": [
    "# Preserve Cut value\n",
    "CutSize <- Cut\n",
    "CutSize"
   ]
  },
  {
   "cell_type": "code",
   "execution_count": null,
   "id": "e84ec8b0-f2d0-435e-99a3-8c42ea118d9f",
   "metadata": {
    "jupyter": {
     "source_hidden": true
    },
    "tags": []
   },
   "outputs": [],
   "source": []
  },
  {
   "cell_type": "code",
   "execution_count": 7,
   "id": "e9f826c2-c316-4b71-be4c-f5d1ceb1f16f",
   "metadata": {
    "jupyter": {
     "source_hidden": true
    },
    "tags": []
   },
   "outputs": [
    {
     "data": {
      "text/html": [
       "0.238"
      ],
      "text/latex": [
       "0.238"
      ],
      "text/markdown": [
       "0.238"
      ],
      "text/plain": [
       "[1] 0.238"
      ]
     },
     "metadata": {},
     "output_type": "display_data"
    },
    {
     "data": {
      "text/html": [
       "0.24625"
      ],
      "text/latex": [
       "0.24625"
      ],
      "text/markdown": [
       "0.24625"
      ],
      "text/plain": [
       "[1] 0.24625"
      ]
     },
     "metadata": {},
     "output_type": "display_data"
    },
    {
     "data": {
      "text/html": [
       "0.4925"
      ],
      "text/latex": [
       "0.4925"
      ],
      "text/markdown": [
       "0.4925"
      ],
      "text/plain": [
       "[1] 0.4925"
      ]
     },
     "metadata": {},
     "output_type": "display_data"
    },
    {
     "data": {
      "text/html": [
       "0.03"
      ],
      "text/latex": [
       "0.03"
      ],
      "text/markdown": [
       "0.03"
      ],
      "text/plain": [
       "[1] 0.03"
      ]
     },
     "metadata": {},
     "output_type": "display_data"
    },
    {
     "data": {
      "text/html": [
       "0.0075"
      ],
      "text/latex": [
       "0.0075"
      ],
      "text/markdown": [
       "0.0075"
      ],
      "text/plain": [
       "[1] 0.0075"
      ]
     },
     "metadata": {},
     "output_type": "display_data"
    },
    {
     "data": {
      "text/html": [
       "15.8666666666667"
      ],
      "text/latex": [
       "15.8666666666667"
      ],
      "text/markdown": [
       "15.8666666666667"
      ],
      "text/plain": [
       "[1] 15.86667"
      ]
     },
     "metadata": {},
     "output_type": "display_data"
    },
    {
     "data": {
      "text/html": [
       "15"
      ],
      "text/latex": [
       "15"
      ],
      "text/markdown": [
       "15"
      ],
      "text/plain": [
       "[1] 15"
      ]
     },
     "metadata": {},
     "output_type": "display_data"
    },
    {
     "data": {
      "text/html": [
       "0.866666666666667"
      ],
      "text/latex": [
       "0.866666666666667"
      ],
      "text/markdown": [
       "0.866666666666667"
      ],
      "text/plain": [
       "[1] 0.8666667"
      ]
     },
     "metadata": {},
     "output_type": "display_data"
    },
    {
     "data": {
      "text/html": [
       "0.013"
      ],
      "text/latex": [
       "0.013"
      ],
      "text/markdown": [
       "0.013"
      ],
      "text/plain": [
       "[1] 0.013"
      ]
     },
     "metadata": {},
     "output_type": "display_data"
    }
   ],
   "source": [
    "Remove <- StartDia - EndDia     # the TOTAL amount of matterial to be removed \n",
    "Radius <- StartDia / 2        \n",
    "Diameter <- StartDia\n",
    "\n",
    "Remove\n",
    "Radius\n",
    "Diameter\n",
    "\n",
    "\n",
    "CutDia <- CutSize * 2       # Reduction in diameter for each cut\n",
    "CutRad <- CutSize / 2       # Reduction in radius for each cut\n",
    "\n",
    "CutDia\n",
    "CutRad\n",
    "\n",
    "\n",
    "CutCount <- Remove / Cut  # To determine the number of cuts to reduce the stock toward finished diameter\n",
    "\n",
    "CutCount            # S/B 16.6\n",
    "MajorCuts <- trunc(CutCount)\n",
    "MajorCuts\n",
    "FinishCut <- CutCount %% 1\n",
    "FinishCut\n",
    "FinishCut * Cut\n"
   ]
  },
  {
   "cell_type": "markdown",
   "id": "3d5179b5-a50b-4e81-a34d-2503bff669c4",
   "metadata": {
    "tags": []
   },
   "source": [
    "#####  Know: In this lathe app, the cut size (Cut) is reducing the diameter by the Cut size, and the radius is reduced xx x Cut\n",
    "\n",
    "    Ex.  Start diameter = .500\n",
    "         Cut = .015\n",
    "         Remaining diameter = .500 - .015 = .485\n",
    "\n"
   ]
  },
  {
   "cell_type": "code",
   "execution_count": 8,
   "id": "576e3d22-9458-46d6-95f6-d49504878430",
   "metadata": {
    "jupyter": {
     "source_hidden": true
    },
    "tags": []
   },
   "outputs": [
    {
     "name": "stdout",
     "output_type": "stream",
     "text": [
      "[1] \"X 0.4925 Z -1.00\"\n",
      "[1] \"X 0.4775 Z -1.00\"\n",
      "[1] \"X 0.4625 Z -1.00\"\n",
      "[1] \"X 0.4475 Z -1.00\"\n",
      "[1] \"X 0.4325 Z -1.00\"\n",
      "[1] \"X 0.4175 Z -1.00\"\n",
      "[1] \"X 0.4025 Z -1.00\"\n",
      "[1] \"X 0.3875 Z -1.00\"\n",
      "[1] \"X 0.3725 Z -1.00\"\n",
      "[1] \"X 0.3575 Z -1.00\"\n",
      "[1] \"X 0.3425 Z -1.00\"\n",
      "[1] \"X 0.3275 Z -1.00\"\n",
      "[1] \"X 0.3125 Z -1.00\"\n",
      "[1] \"X 0.2975 Z -1.00\"\n",
      "[1] \"X 0.2825 Z -1.00\"\n"
     ]
    }
   ],
   "source": [
    "# need gcode to change for each toolpath along the Z axis - reposition the X by the Cut\n",
    "# there will be count for number of cuts turning the part down to size \n",
    "# Need a var to keep the diminishing Stock diameter  (diameter - CutD )\n",
    "# need a Radius var, and need to keep track of the diminishing radius ( Radius - CutR)\n",
    "# Need an if stmt to ensure the material isn't being cut below EndDia\n",
    "# Need to calc the measured value of the left over (.333333 ) from the CutCount \n",
    "# Need a For stmt to cycle each cut\n",
    "\n",
    "\n",
    "# Down and Dirty - just gitter done!\n",
    "\n",
    "# Move the cutter tip to just touch the outside edge of the part, then reset the X G54 touchoff to zero (use LinuxCNC t/o X button)\n",
    "# Next, reset the Distance Mode to G91 (INCREMENTAL)\n",
    "# The plan:  make -X moves by the desired cut size (.015 - .02 for Aluminum)\n",
    "\n",
    "# Assign a variable.  This assisgns the depth of the cut.     #100 = -.015\n",
    "\n",
    "\n",
    "if (Leng >= 0) \n",
    "    Leng <- Leng *-1;\n",
    "\n",
    "\n",
    "\n",
    "ChangingDiameter <- StartDia \n",
    "\n",
    "     #Initialize an empty dataframe to store the values\n",
    "        result_df <- data.frame(X = numeric(0), Z = numeric(0))\n",
    "\n",
    "\n",
    "for (i in 1:CutCount) {\n",
    "    \n",
    "\n",
    "    \n",
    "    # Create a new row for each iteration with X and Z values and add it to the dataframe\n",
    "      new_row <- data.frame(X = ChangingDiameter, Z = Leng)\n",
    "      result_df <- rbind(result_df, new_row)\n",
    "   \n",
    "      print(paste(\"X\", format(ChangingDiameter, nsmall = 3), \"Z\", format(Leng, nsmall = 2)))\n",
    "    \n",
    "      ChangingDiameter <- ChangingDiameter - Cut   \n",
    "\n",
    "    }\n",
    "\n",
    "DecisionCut <- ChangingDiameter + Cut\n",
    "\n"
   ]
  },
  {
   "cell_type": "code",
   "execution_count": null,
   "id": "2e0a00eb-79aa-4808-a63e-f45859c2bd28",
   "metadata": {
    "jupyter": {
     "source_hidden": true
    },
    "tags": []
   },
   "outputs": [],
   "source": []
  },
  {
   "cell_type": "code",
   "execution_count": 9,
   "id": "23ab3abc-0f05-463c-a681-6401e5e10577",
   "metadata": {
    "jupyter": {
     "source_hidden": true
    },
    "tags": []
   },
   "outputs": [
    {
     "data": {
      "text/html": [
       "0.2825"
      ],
      "text/latex": [
       "0.2825"
      ],
      "text/markdown": [
       "0.2825"
      ],
      "text/plain": [
       "[1] 0.2825"
      ]
     },
     "metadata": {},
     "output_type": "display_data"
    }
   ],
   "source": [
    "DecisionCut\n",
    "\n"
   ]
  },
  {
   "cell_type": "code",
   "execution_count": null,
   "id": "4d7447e4-7187-422a-b352-56496cc2234c",
   "metadata": {
    "jupyter": {
     "source_hidden": true
    },
    "tags": []
   },
   "outputs": [],
   "source": []
  },
  {
   "cell_type": "code",
   "execution_count": 10,
   "id": "842812b2-b5dd-4a06-81fc-2e052644e6f2",
   "metadata": {},
   "outputs": [
    {
     "data": {
      "text/html": [
       "<table class=\"dataframe\">\n",
       "<caption>A data.frame: 15 × 2</caption>\n",
       "<thead>\n",
       "\t<tr><th scope=col>X</th><th scope=col>Z</th></tr>\n",
       "\t<tr><th scope=col>&lt;dbl&gt;</th><th scope=col>&lt;dbl&gt;</th></tr>\n",
       "</thead>\n",
       "<tbody>\n",
       "\t<tr><td>0.4925</td><td>-1</td></tr>\n",
       "\t<tr><td>0.4775</td><td>-1</td></tr>\n",
       "\t<tr><td>0.4625</td><td>-1</td></tr>\n",
       "\t<tr><td>0.4475</td><td>-1</td></tr>\n",
       "\t<tr><td>0.4325</td><td>-1</td></tr>\n",
       "\t<tr><td>0.4175</td><td>-1</td></tr>\n",
       "\t<tr><td>0.4025</td><td>-1</td></tr>\n",
       "\t<tr><td>0.3875</td><td>-1</td></tr>\n",
       "\t<tr><td>0.3725</td><td>-1</td></tr>\n",
       "\t<tr><td>0.3575</td><td>-1</td></tr>\n",
       "\t<tr><td>0.3425</td><td>-1</td></tr>\n",
       "\t<tr><td>0.3275</td><td>-1</td></tr>\n",
       "\t<tr><td>0.3125</td><td>-1</td></tr>\n",
       "\t<tr><td>0.2975</td><td>-1</td></tr>\n",
       "\t<tr><td>0.2825</td><td>-1</td></tr>\n",
       "</tbody>\n",
       "</table>\n"
      ],
      "text/latex": [
       "A data.frame: 15 × 2\n",
       "\\begin{tabular}{ll}\n",
       " X & Z\\\\\n",
       " <dbl> & <dbl>\\\\\n",
       "\\hline\n",
       "\t 0.4925 & -1\\\\\n",
       "\t 0.4775 & -1\\\\\n",
       "\t 0.4625 & -1\\\\\n",
       "\t 0.4475 & -1\\\\\n",
       "\t 0.4325 & -1\\\\\n",
       "\t 0.4175 & -1\\\\\n",
       "\t 0.4025 & -1\\\\\n",
       "\t 0.3875 & -1\\\\\n",
       "\t 0.3725 & -1\\\\\n",
       "\t 0.3575 & -1\\\\\n",
       "\t 0.3425 & -1\\\\\n",
       "\t 0.3275 & -1\\\\\n",
       "\t 0.3125 & -1\\\\\n",
       "\t 0.2975 & -1\\\\\n",
       "\t 0.2825 & -1\\\\\n",
       "\\end{tabular}\n"
      ],
      "text/markdown": [
       "\n",
       "A data.frame: 15 × 2\n",
       "\n",
       "| X &lt;dbl&gt; | Z &lt;dbl&gt; |\n",
       "|---|---|\n",
       "| 0.4925 | -1 |\n",
       "| 0.4775 | -1 |\n",
       "| 0.4625 | -1 |\n",
       "| 0.4475 | -1 |\n",
       "| 0.4325 | -1 |\n",
       "| 0.4175 | -1 |\n",
       "| 0.4025 | -1 |\n",
       "| 0.3875 | -1 |\n",
       "| 0.3725 | -1 |\n",
       "| 0.3575 | -1 |\n",
       "| 0.3425 | -1 |\n",
       "| 0.3275 | -1 |\n",
       "| 0.3125 | -1 |\n",
       "| 0.2975 | -1 |\n",
       "| 0.2825 | -1 |\n",
       "\n"
      ],
      "text/plain": [
       "   X      Z \n",
       "1  0.4925 -1\n",
       "2  0.4775 -1\n",
       "3  0.4625 -1\n",
       "4  0.4475 -1\n",
       "5  0.4325 -1\n",
       "6  0.4175 -1\n",
       "7  0.4025 -1\n",
       "8  0.3875 -1\n",
       "9  0.3725 -1\n",
       "10 0.3575 -1\n",
       "11 0.3425 -1\n",
       "12 0.3275 -1\n",
       "13 0.3125 -1\n",
       "14 0.2975 -1\n",
       "15 0.2825 -1"
      ]
     },
     "metadata": {},
     "output_type": "display_data"
    }
   ],
   "source": [
    "result_df"
   ]
  },
  {
   "cell_type": "code",
   "execution_count": 11,
   "id": "77a79fbf-651a-485b-bb62-6fe4434b0fc6",
   "metadata": {
    "jupyter": {
     "source_hidden": true
    },
    "tags": []
   },
   "outputs": [
    {
     "data": {
      "text/html": [
       "15"
      ],
      "text/latex": [
       "15"
      ],
      "text/markdown": [
       "15"
      ],
      "text/plain": [
       "[1] 15"
      ]
     },
     "metadata": {},
     "output_type": "display_data"
    },
    {
     "data": {
      "text/html": [
       "0.2825"
      ],
      "text/latex": [
       "0.2825"
      ],
      "text/markdown": [
       "0.2825"
      ],
      "text/plain": [
       "[1] 0.2825"
      ]
     },
     "metadata": {},
     "output_type": "display_data"
    }
   ],
   "source": [
    "n <- nrow(result_df)\n",
    "n\n",
    "result_df$X[n]\n"
   ]
  },
  {
   "cell_type": "code",
   "execution_count": null,
   "id": "86961461-a05f-4480-a06e-9bbac27c4006",
   "metadata": {
    "jupyter": {
     "source_hidden": true
    },
    "tags": []
   },
   "outputs": [],
   "source": []
  },
  {
   "cell_type": "code",
   "execution_count": 12,
   "id": "7b44655e-6839-402f-b0db-797db7358012",
   "metadata": {
    "jupyter": {
     "source_hidden": true
    },
    "tags": []
   },
   "outputs": [
    {
     "data": {
      "text/html": [
       "0.12"
      ],
      "text/latex": [
       "0.12"
      ],
      "text/markdown": [
       "0.12"
      ],
      "text/plain": [
       "[1] 0.12"
      ]
     },
     "metadata": {},
     "output_type": "display_data"
    },
    {
     "data": {
      "text/html": [
       "0.24625"
      ],
      "text/latex": [
       "0.24625"
      ],
      "text/markdown": [
       "0.24625"
      ],
      "text/plain": [
       "[1] 0.24625"
      ]
     },
     "metadata": {},
     "output_type": "display_data"
    },
    {
     "data": {
      "text/html": [
       "0.12625"
      ],
      "text/latex": [
       "0.12625"
      ],
      "text/markdown": [
       "0.12625"
      ],
      "text/plain": [
       "[1] 0.12625"
      ]
     },
     "metadata": {},
     "output_type": "display_data"
    },
    {
     "data": {
      "text/html": [
       "0.003125"
      ],
      "text/latex": [
       "0.003125"
      ],
      "text/markdown": [
       "0.003125"
      ],
      "text/plain": [
       "[1] 0.003125"
      ]
     },
     "metadata": {},
     "output_type": "display_data"
    }
   ],
   "source": [
    ".015*8\n",
    "\n",
    "Radius\n",
    "\n",
    "RadRemainingDRO <- Radius - (.015 * 8)\n",
    "RadRemainingDRO    # Agrees with the last X from For Loop\n",
    "\n",
    "\n",
    "RadDROzero <- Radius / 2       #  The perm/final Rad value based on the toolpath\n",
    "\n",
    "\n",
    "RadRemainingDRO - RadDROzero\n",
    "\n"
   ]
  },
  {
   "cell_type": "markdown",
   "id": "dee47039-19dd-4660-ad33-6b193d7516fa",
   "metadata": {
    "tags": []
   },
   "source": [
    "### This is the remaining stock to be cut.  Agrees with RadRemainingDRO"
   ]
  },
  {
   "cell_type": "markdown",
   "id": "61f2c38b-41c1-48b1-a035-f959c5670f76",
   "metadata": {
    "tags": []
   },
   "source": [
    "\n",
    "RadDRO <- Radius /2  - RadRemainingDRO\n",
    "RadDRO\n"
   ]
  },
  {
   "cell_type": "code",
   "execution_count": null,
   "id": "19297e7a-ab37-46cf-b68b-6c4760f53454",
   "metadata": {
    "jupyter": {
     "source_hidden": true
    },
    "tags": []
   },
   "outputs": [],
   "source": []
  },
  {
   "cell_type": "code",
   "execution_count": 13,
   "id": "f3f9e966-8574-4b14-9483-27cdb674d737",
   "metadata": {
    "jupyter": {
     "source_hidden": true
    },
    "tags": []
   },
   "outputs": [
    {
     "data": {
      "text/html": [
       "'0.2825'"
      ],
      "text/latex": [
       "'0.2825'"
      ],
      "text/markdown": [
       "'0.2825'"
      ],
      "text/plain": [
       "[1] \"0.2825\""
      ]
     },
     "metadata": {},
     "output_type": "display_data"
    }
   ],
   "source": [
    "RemainingCutSize <- result_df$X[n]\n",
    "RemainingCutSize <- format(RemainingCutSize, nsmall = 3 )\n",
    "RemainingCutSize\n"
   ]
  },
  {
   "cell_type": "code",
   "execution_count": null,
   "id": "ebd0b2be-f496-4537-8347-390d671237cd",
   "metadata": {
    "jupyter": {
     "source_hidden": true
    },
    "tags": []
   },
   "outputs": [],
   "source": []
  },
  {
   "cell_type": "code",
   "execution_count": 14,
   "id": "434f01f7-35ad-4451-ace1-aeea8aed83ea",
   "metadata": {
    "jupyter": {
     "source_hidden": true
    },
    "tags": []
   },
   "outputs": [
    {
     "data": {
      "text/html": [
       "0.015"
      ],
      "text/latex": [
       "0.015"
      ],
      "text/markdown": [
       "0.015"
      ],
      "text/plain": [
       "[1] 0.015"
      ]
     },
     "metadata": {},
     "output_type": "display_data"
    },
    {
     "name": "stdout",
     "output_type": "stream",
     "text": [
      " num 0.015\n"
     ]
    }
   ],
   "source": [
    "Cut\n",
    "str(Cut)"
   ]
  },
  {
   "cell_type": "code",
   "execution_count": null,
   "id": "1fea02b3-7dd8-4897-8d40-1487a335ea8e",
   "metadata": {
    "jupyter": {
     "source_hidden": true
    },
    "tags": []
   },
   "outputs": [],
   "source": []
  },
  {
   "cell_type": "markdown",
   "id": "0343d9ea-4af9-42a2-be03-8a539089b7f8",
   "metadata": {},
   "source": [
    "## Part 1 - Decision: To make more rough cut of Cut size?\n"
   ]
  },
  {
   "cell_type": "code",
   "execution_count": null,
   "id": "0442d949-7a9c-40bc-80e0-05ec04dab61b",
   "metadata": {
    "jupyter": {
     "source_hidden": true
    },
    "tags": []
   },
   "outputs": [],
   "source": []
  },
  {
   "cell_type": "code",
   "execution_count": null,
   "id": "f6c8127f-5a2f-43a1-aec9-587b779c7713",
   "metadata": {
    "jupyter": {
     "source_hidden": true
    },
    "tags": []
   },
   "outputs": [],
   "source": []
  },
  {
   "cell_type": "code",
   "execution_count": 15,
   "id": "01581b3b-1cda-42b2-99c4-4d99052ab395",
   "metadata": {
    "jupyter": {
     "source_hidden": true
    },
    "tags": []
   },
   "outputs": [
    {
     "name": "stdin",
     "output_type": "stream",
     "text": [
      "The stock diameter has been reduced to:  0.2825 : The roughing cut size is: 0.015 . The final diameter will be: 0.2545 \n",
      " Enter Y to make one last rough cut. Or enter N to go directly to final cut options. y\n"
     ]
    },
    {
     "name": "stdout",
     "output_type": "stream",
     "text": [
      "[1] \"You entered Yes (Y)\"\n",
      "[1] \"The new diameter is  0.2675\" \"The new diameter is  -1\"    \n"
     ]
    },
    {
     "data": {
      "text/html": [
       "0.2675"
      ],
      "text/latex": [
       "0.2675"
      ],
      "text/markdown": [
       "0.2675"
      ],
      "text/plain": [
       "[1] 0.2675"
      ]
     },
     "metadata": {},
     "output_type": "display_data"
    },
    {
     "data": {
      "text/html": [
       "<table class=\"dataframe\">\n",
       "<caption>A data.frame: 16 × 2</caption>\n",
       "<thead>\n",
       "\t<tr><th scope=col>X</th><th scope=col>Z</th></tr>\n",
       "\t<tr><th scope=col>&lt;dbl&gt;</th><th scope=col>&lt;dbl&gt;</th></tr>\n",
       "</thead>\n",
       "<tbody>\n",
       "\t<tr><td>0.4925</td><td>-1</td></tr>\n",
       "\t<tr><td>0.4775</td><td>-1</td></tr>\n",
       "\t<tr><td>0.4625</td><td>-1</td></tr>\n",
       "\t<tr><td>0.4475</td><td>-1</td></tr>\n",
       "\t<tr><td>0.4325</td><td>-1</td></tr>\n",
       "\t<tr><td>0.4175</td><td>-1</td></tr>\n",
       "\t<tr><td>0.4025</td><td>-1</td></tr>\n",
       "\t<tr><td>0.3875</td><td>-1</td></tr>\n",
       "\t<tr><td>0.3725</td><td>-1</td></tr>\n",
       "\t<tr><td>0.3575</td><td>-1</td></tr>\n",
       "\t<tr><td>0.3425</td><td>-1</td></tr>\n",
       "\t<tr><td>0.3275</td><td>-1</td></tr>\n",
       "\t<tr><td>0.3125</td><td>-1</td></tr>\n",
       "\t<tr><td>0.2975</td><td>-1</td></tr>\n",
       "\t<tr><td>0.2825</td><td>-1</td></tr>\n",
       "\t<tr><td>0.2675</td><td>-1</td></tr>\n",
       "</tbody>\n",
       "</table>\n"
      ],
      "text/latex": [
       "A data.frame: 16 × 2\n",
       "\\begin{tabular}{ll}\n",
       " X & Z\\\\\n",
       " <dbl> & <dbl>\\\\\n",
       "\\hline\n",
       "\t 0.4925 & -1\\\\\n",
       "\t 0.4775 & -1\\\\\n",
       "\t 0.4625 & -1\\\\\n",
       "\t 0.4475 & -1\\\\\n",
       "\t 0.4325 & -1\\\\\n",
       "\t 0.4175 & -1\\\\\n",
       "\t 0.4025 & -1\\\\\n",
       "\t 0.3875 & -1\\\\\n",
       "\t 0.3725 & -1\\\\\n",
       "\t 0.3575 & -1\\\\\n",
       "\t 0.3425 & -1\\\\\n",
       "\t 0.3275 & -1\\\\\n",
       "\t 0.3125 & -1\\\\\n",
       "\t 0.2975 & -1\\\\\n",
       "\t 0.2825 & -1\\\\\n",
       "\t 0.2675 & -1\\\\\n",
       "\\end{tabular}\n"
      ],
      "text/markdown": [
       "\n",
       "A data.frame: 16 × 2\n",
       "\n",
       "| X &lt;dbl&gt; | Z &lt;dbl&gt; |\n",
       "|---|---|\n",
       "| 0.4925 | -1 |\n",
       "| 0.4775 | -1 |\n",
       "| 0.4625 | -1 |\n",
       "| 0.4475 | -1 |\n",
       "| 0.4325 | -1 |\n",
       "| 0.4175 | -1 |\n",
       "| 0.4025 | -1 |\n",
       "| 0.3875 | -1 |\n",
       "| 0.3725 | -1 |\n",
       "| 0.3575 | -1 |\n",
       "| 0.3425 | -1 |\n",
       "| 0.3275 | -1 |\n",
       "| 0.3125 | -1 |\n",
       "| 0.2975 | -1 |\n",
       "| 0.2825 | -1 |\n",
       "| 0.2675 | -1 |\n",
       "\n"
      ],
      "text/plain": [
       "   X      Z \n",
       "1  0.4925 -1\n",
       "2  0.4775 -1\n",
       "3  0.4625 -1\n",
       "4  0.4475 -1\n",
       "5  0.4325 -1\n",
       "6  0.4175 -1\n",
       "7  0.4025 -1\n",
       "8  0.3875 -1\n",
       "9  0.3725 -1\n",
       "10 0.3575 -1\n",
       "11 0.3425 -1\n",
       "12 0.3275 -1\n",
       "13 0.3125 -1\n",
       "14 0.2975 -1\n",
       "15 0.2825 -1\n",
       "16 0.2675 -1"
      ]
     },
     "metadata": {},
     "output_type": "display_data"
    }
   ],
   "source": [
    "valid_input <- FALSE\n",
    "\n",
    "while (!valid_input) {\n",
    "  # Prompt the user for input\n",
    "    \n",
    "RemainingCutSize <- format(RemainingCutSize, nsmall = 3)\n",
    "    \n",
    "    user_input <<- readline(paste(\"The stock diameter has been reduced to: \" , RemainingCutSize, \": The roughing cut size is:\", Cut, \". The final diameter will be:\", format(EndDia, nsmall = 3), \"\\n\", \"Enter Y to make one last rough cut. Or enter N to go directly to final cut options.\"))\n",
    "    \n",
    "    # Convert input to uppercase for case-insensitive comparison\n",
    "  user_input <- toupper(user_input)\n",
    "  \n",
    "  # Check if the input is 'Y' or 'N'\n",
    "  if (user_input == 'Y') {\n",
    "    print(\"You entered Yes (Y)\")\n",
    "      \n",
    "   Cut <- as.numeric(Cut)\n",
    "    \n",
    "    RemainingCutSize <- as.numeric(RemainingCutSize)\n",
    "      \n",
    "   RemainingCutSize <- RemainingCutSize - Cut     # Update diameter after last rough cut         \n",
    "      \n",
    "      \n",
    "    # Create a new row for each iteration with X and Z values and add it to the dataframe\n",
    "    new_row <- data.frame(X = RemainingCutSize, Z = Leng)            \n",
    "    print(paste(\"The new diameter is \", new_row))\n",
    "    Output_gcode_df <<- rbind(result_df, new_row)\n",
    "              \n",
    "    valid_input <- TRUE  # Set valid_input to TRUE to exit the loop\n",
    "      \n",
    "  } else if (user_input == 'N') {\n",
    "    print(\"You entered No (N)\")\n",
    "    Output_gcode_df <<- result_df\n",
    "    valid_input <- TRUE  # Set valid_input to TRUE to exit the loop\n",
    "  } else {\n",
    "    print(\"Invalid input. Please enter Y or N.\")\n",
    "    # The loop will continue prompting the user for input\n",
    "  }\n",
    "}\n",
    "\n",
    "    \n",
    "RemainingCutSize  \n",
    "Output_gcode_df\n",
    "\n",
    "\n",
    "    \n",
    "    "
   ]
  },
  {
   "cell_type": "markdown",
   "id": "7de086a9-5a7c-4591-982c-d6bec02f39bf",
   "metadata": {},
   "source": [
    "# Input:"
   ]
  },
  {
   "cell_type": "code",
   "execution_count": 16,
   "id": "6bf9bf39-272b-4be1-b68f-36f3462c4fbe",
   "metadata": {
    "tags": []
   },
   "outputs": [
    {
     "data": {
      "text/html": [
       "<table class=\"dataframe\">\n",
       "<caption>A data.frame: 16 × 2</caption>\n",
       "<thead>\n",
       "\t<tr><th scope=col>X</th><th scope=col>Z</th></tr>\n",
       "\t<tr><th scope=col>&lt;dbl&gt;</th><th scope=col>&lt;dbl&gt;</th></tr>\n",
       "</thead>\n",
       "<tbody>\n",
       "\t<tr><td>0.4925</td><td>-1</td></tr>\n",
       "\t<tr><td>0.4775</td><td>-1</td></tr>\n",
       "\t<tr><td>0.4625</td><td>-1</td></tr>\n",
       "\t<tr><td>0.4475</td><td>-1</td></tr>\n",
       "\t<tr><td>0.4325</td><td>-1</td></tr>\n",
       "\t<tr><td>0.4175</td><td>-1</td></tr>\n",
       "\t<tr><td>0.4025</td><td>-1</td></tr>\n",
       "\t<tr><td>0.3875</td><td>-1</td></tr>\n",
       "\t<tr><td>0.3725</td><td>-1</td></tr>\n",
       "\t<tr><td>0.3575</td><td>-1</td></tr>\n",
       "\t<tr><td>0.3425</td><td>-1</td></tr>\n",
       "\t<tr><td>0.3275</td><td>-1</td></tr>\n",
       "\t<tr><td>0.3125</td><td>-1</td></tr>\n",
       "\t<tr><td>0.2975</td><td>-1</td></tr>\n",
       "\t<tr><td>0.2825</td><td>-1</td></tr>\n",
       "\t<tr><td>0.2675</td><td>-1</td></tr>\n",
       "</tbody>\n",
       "</table>\n"
      ],
      "text/latex": [
       "A data.frame: 16 × 2\n",
       "\\begin{tabular}{ll}\n",
       " X & Z\\\\\n",
       " <dbl> & <dbl>\\\\\n",
       "\\hline\n",
       "\t 0.4925 & -1\\\\\n",
       "\t 0.4775 & -1\\\\\n",
       "\t 0.4625 & -1\\\\\n",
       "\t 0.4475 & -1\\\\\n",
       "\t 0.4325 & -1\\\\\n",
       "\t 0.4175 & -1\\\\\n",
       "\t 0.4025 & -1\\\\\n",
       "\t 0.3875 & -1\\\\\n",
       "\t 0.3725 & -1\\\\\n",
       "\t 0.3575 & -1\\\\\n",
       "\t 0.3425 & -1\\\\\n",
       "\t 0.3275 & -1\\\\\n",
       "\t 0.3125 & -1\\\\\n",
       "\t 0.2975 & -1\\\\\n",
       "\t 0.2825 & -1\\\\\n",
       "\t 0.2675 & -1\\\\\n",
       "\\end{tabular}\n"
      ],
      "text/markdown": [
       "\n",
       "A data.frame: 16 × 2\n",
       "\n",
       "| X &lt;dbl&gt; | Z &lt;dbl&gt; |\n",
       "|---|---|\n",
       "| 0.4925 | -1 |\n",
       "| 0.4775 | -1 |\n",
       "| 0.4625 | -1 |\n",
       "| 0.4475 | -1 |\n",
       "| 0.4325 | -1 |\n",
       "| 0.4175 | -1 |\n",
       "| 0.4025 | -1 |\n",
       "| 0.3875 | -1 |\n",
       "| 0.3725 | -1 |\n",
       "| 0.3575 | -1 |\n",
       "| 0.3425 | -1 |\n",
       "| 0.3275 | -1 |\n",
       "| 0.3125 | -1 |\n",
       "| 0.2975 | -1 |\n",
       "| 0.2825 | -1 |\n",
       "| 0.2675 | -1 |\n",
       "\n"
      ],
      "text/plain": [
       "   X      Z \n",
       "1  0.4925 -1\n",
       "2  0.4775 -1\n",
       "3  0.4625 -1\n",
       "4  0.4475 -1\n",
       "5  0.4325 -1\n",
       "6  0.4175 -1\n",
       "7  0.4025 -1\n",
       "8  0.3875 -1\n",
       "9  0.3725 -1\n",
       "10 0.3575 -1\n",
       "11 0.3425 -1\n",
       "12 0.3275 -1\n",
       "13 0.3125 -1\n",
       "14 0.2975 -1\n",
       "15 0.2825 -1\n",
       "16 0.2675 -1"
      ]
     },
     "metadata": {},
     "output_type": "display_data"
    }
   ],
   "source": [
    "Output_gcode_df"
   ]
  },
  {
   "cell_type": "code",
   "execution_count": null,
   "id": "2517cf6d-5bfa-45da-97fe-1d6ea2612bf8",
   "metadata": {
    "tags": []
   },
   "outputs": [],
   "source": [
    "\n"
   ]
  },
  {
   "cell_type": "markdown",
   "id": "3632c36e-ff92-43c8-a9c4-52fef97e49a0",
   "metadata": {},
   "source": [
    "## Part - The finish cut(s)\n"
   ]
  },
  {
   "cell_type": "code",
   "execution_count": null,
   "id": "530a9753-3620-43dd-9098-0cdd20c94861",
   "metadata": {},
   "outputs": [],
   "source": []
  },
  {
   "cell_type": "code",
   "execution_count": 17,
   "id": "ab77a5ea-989d-418f-ad53-de2a7bfe97f7",
   "metadata": {
    "jupyter": {
     "source_hidden": true
    },
    "tags": []
   },
   "outputs": [
    {
     "name": "stdin",
     "output_type": "stream",
     "text": [
      "The current diameter is: 0.2675 . The final diameter is : 0.2545 :  Enter Y or N to make a final cut: y\n",
      "Enter the size of this finish cut (.0xx) : .013\n",
      "The current diameter is: 0.2545 . The final diameter is : 0.2545 :  Enter Y or N to make a final cut: n\n"
     ]
    },
    {
     "name": "stdout",
     "output_type": "stream",
     "text": [
      "[1] \"This notebook has completed its operation.  Write the file and then move on to gcode_Part3.ipynb\"\n"
     ]
    },
    {
     "data": {
      "text/html": [
       "'0.2545'"
      ],
      "text/latex": [
       "'0.2545'"
      ],
      "text/markdown": [
       "'0.2545'"
      ],
      "text/plain": [
       "[1] \"0.2545\""
      ]
     },
     "metadata": {},
     "output_type": "display_data"
    }
   ],
   "source": [
    "valid_input <- FALSE\n",
    "\n",
    "while (!valid_input) {\n",
    "  # Prompt the user for input\n",
    "    \n",
    "    RemainingCutSize <- format(RemainingCutSize, nsmall = 3)\n",
    "    \n",
    "    user_input <<- readline(paste(\"The current diameter is:\" , RemainingCutSize, \". The final diameter is :\", format(EndDia, nsmall = 3), \":  Enter Y or N to make a final cut:\" ))\n",
    "    \n",
    "      # Convert input to uppercase for case-insensitive comparison\n",
    "      user_input <- toupper(user_input)\n",
    "  \n",
    "      # Check if the input is 'Y' or 'N'\n",
    "  \n",
    "    if (user_input == 'Y') {      \n",
    "      \n",
    "        user_input <<- readline(paste(\"Enter the size of this finish cut (.0xx) :\" ))\n",
    "        FinisCut <- as.numeric(user_input)\n",
    "\n",
    "        # print(\"Part should have a dimension of:\")\n",
    "\n",
    "        RemainingCutSize <- as.numeric(RemainingCutSize)\n",
    "        RemainingCutSize <- RemainingCutSize - FinisCut     # Taking finish cut  \n",
    "        format(RemainingCutSize, nsmall = 3) \n",
    "      \n",
    "        # Create a new row for each iteration with X and Z values and add it to the dataframe\n",
    "         new_row <- data.frame(X = RemainingCutSize, Z = Leng)           \n",
    "         paste(\"The finished stock diameter is to be: \", RemainingCutSize)\n",
    "         Output_gcode_df <- rbind(result_df, new_row) \n",
    "   \n",
    "      \n",
    "        \n",
    "        \n",
    "    } else if(user_input == \"N\") {\n",
    "        print(\"This notebook has completed its operation.  Write the file and then move on to gcode_Part3.ipynb\")\n",
    "        break\n",
    "       } # end of first Y\n",
    "   }\n",
    "\n",
    "RemainingCutSize  # print current diameter \n",
    "\n",
    "  \n",
    "#  Restart kernel and run again with any data entry errors  "
   ]
  },
  {
   "cell_type": "markdown",
   "id": "84f0b3fd-94ee-4811-986b-3f610fcd33f2",
   "metadata": {},
   "source": [
    "# Input:"
   ]
  },
  {
   "cell_type": "code",
   "execution_count": 18,
   "id": "6577d121-64b8-4739-92bb-8c814b73bd28",
   "metadata": {
    "jupyter": {
     "source_hidden": true
    },
    "tags": []
   },
   "outputs": [],
   "source": [
    "# # Ask the user to enter Y or N\n",
    "# user_input <- readline(prompt = \"Enter Y or N: \")\n",
    "\n",
    "# # Convert user input to uppercase for case insensitivity\n",
    "# user_input <- toupper(user_input)\n",
    "\n",
    "# # Check if the user input is Y or N and set the Boolean variable accordingly\n",
    "# if (user_input == \"Y\") {\n",
    "#   answer <- TRUE\n",
    "# } else if (user_input == \"N\") {\n",
    "#   answer <- FALSE\n",
    "# } else {\n",
    "#   # Handle cases other than Y or N\n",
    "#   stop(\"Invalid input. Please enter Y or N.\")\n",
    "# }\n",
    "\n",
    "# # Check the value of the Boolean variable using an if-else statement\n",
    "# if (answer == TRUE) {\n",
    "#   print(\"The answer is Yes\")\n",
    "# } else {\n",
    "#   print(\"The answer is No\")\n",
    "# }\n"
   ]
  },
  {
   "cell_type": "markdown",
   "id": "c9a9eeed-ed4c-429a-a89a-4fa9a0002d7f",
   "metadata": {},
   "source": [
    "### Restart kernel and run again with any data entry errors"
   ]
  },
  {
   "cell_type": "code",
   "execution_count": null,
   "id": "33cf253d-fb91-4ee7-9970-a32629a0852f",
   "metadata": {
    "jupyter": {
     "source_hidden": true
    },
    "tags": []
   },
   "outputs": [],
   "source": []
  },
  {
   "cell_type": "markdown",
   "id": "45724a0b-5bf2-445b-a4e2-34900635c908",
   "metadata": {
    "tags": []
   },
   "source": [
    "## Okay ... over the hump"
   ]
  },
  {
   "cell_type": "code",
   "execution_count": null,
   "id": "08a3189f-71cb-4a64-9684-a76de0ecf7a9",
   "metadata": {
    "tags": []
   },
   "outputs": [],
   "source": []
  },
  {
   "cell_type": "markdown",
   "id": "ee624846-d4be-412e-9567-45f9c1f455c0",
   "metadata": {
    "tags": []
   },
   "source": [
    "### Note: the number of repetitions will be important in later parts of this process\n",
    "\n",
    "#### Save this number to a .csv file to be used later\n"
   ]
  },
  {
   "cell_type": "code",
   "execution_count": 19,
   "id": "8908d163-fb75-465d-9583-7a3aca6e7381",
   "metadata": {
    "tags": []
   },
   "outputs": [
    {
     "data": {
      "text/html": [
       "16"
      ],
      "text/latex": [
       "16"
      ],
      "text/markdown": [
       "16"
      ],
      "text/plain": [
       "[1] 16"
      ]
     },
     "metadata": {},
     "output_type": "display_data"
    }
   ],
   "source": [
    "repetitions <- nrow(Output_gcode_df)\n",
    "repetitions\n",
    "writeLines(as.character(repetitions), \"repetitions.txt\")"
   ]
  },
  {
   "cell_type": "markdown",
   "id": "3c40bfa3-0283-44de-83f4-4fad2486fc91",
   "metadata": {},
   "source": [
    "## Write the df to .csv file"
   ]
  },
  {
   "cell_type": "code",
   "execution_count": 20,
   "id": "1d8f8c69-764f-4e6b-81ae-358377c8ddf0",
   "metadata": {},
   "outputs": [],
   "source": [
    "# Write the updated gcode data to a new .csv file\n",
    "\n",
    "write.csv(Output_gcode_df, file = \"gcode_file.csv\", row.names = FALSE)"
   ]
  },
  {
   "cell_type": "code",
   "execution_count": null,
   "id": "7f88d0b6-c595-4d23-ad97-cf0a82875c91",
   "metadata": {},
   "outputs": [],
   "source": []
  },
  {
   "cell_type": "code",
   "execution_count": 21,
   "id": "5bead9a8-b70f-43df-a6ac-464a1412b8d8",
   "metadata": {},
   "outputs": [
    {
     "data": {
      "text/html": [
       "<table class=\"dataframe\">\n",
       "<caption>A data.frame: 16 × 2</caption>\n",
       "<thead>\n",
       "\t<tr><th scope=col>X</th><th scope=col>Z</th></tr>\n",
       "\t<tr><th scope=col>&lt;dbl&gt;</th><th scope=col>&lt;int&gt;</th></tr>\n",
       "</thead>\n",
       "<tbody>\n",
       "\t<tr><td>0.4925</td><td>-1</td></tr>\n",
       "\t<tr><td>0.4775</td><td>-1</td></tr>\n",
       "\t<tr><td>0.4625</td><td>-1</td></tr>\n",
       "\t<tr><td>0.4475</td><td>-1</td></tr>\n",
       "\t<tr><td>0.4325</td><td>-1</td></tr>\n",
       "\t<tr><td>0.4175</td><td>-1</td></tr>\n",
       "\t<tr><td>0.4025</td><td>-1</td></tr>\n",
       "\t<tr><td>0.3875</td><td>-1</td></tr>\n",
       "\t<tr><td>0.3725</td><td>-1</td></tr>\n",
       "\t<tr><td>0.3575</td><td>-1</td></tr>\n",
       "\t<tr><td>0.3425</td><td>-1</td></tr>\n",
       "\t<tr><td>0.3275</td><td>-1</td></tr>\n",
       "\t<tr><td>0.3125</td><td>-1</td></tr>\n",
       "\t<tr><td>0.2975</td><td>-1</td></tr>\n",
       "\t<tr><td>0.2825</td><td>-1</td></tr>\n",
       "\t<tr><td>0.2545</td><td>-1</td></tr>\n",
       "</tbody>\n",
       "</table>\n"
      ],
      "text/latex": [
       "A data.frame: 16 × 2\n",
       "\\begin{tabular}{ll}\n",
       " X & Z\\\\\n",
       " <dbl> & <int>\\\\\n",
       "\\hline\n",
       "\t 0.4925 & -1\\\\\n",
       "\t 0.4775 & -1\\\\\n",
       "\t 0.4625 & -1\\\\\n",
       "\t 0.4475 & -1\\\\\n",
       "\t 0.4325 & -1\\\\\n",
       "\t 0.4175 & -1\\\\\n",
       "\t 0.4025 & -1\\\\\n",
       "\t 0.3875 & -1\\\\\n",
       "\t 0.3725 & -1\\\\\n",
       "\t 0.3575 & -1\\\\\n",
       "\t 0.3425 & -1\\\\\n",
       "\t 0.3275 & -1\\\\\n",
       "\t 0.3125 & -1\\\\\n",
       "\t 0.2975 & -1\\\\\n",
       "\t 0.2825 & -1\\\\\n",
       "\t 0.2545 & -1\\\\\n",
       "\\end{tabular}\n"
      ],
      "text/markdown": [
       "\n",
       "A data.frame: 16 × 2\n",
       "\n",
       "| X &lt;dbl&gt; | Z &lt;int&gt; |\n",
       "|---|---|\n",
       "| 0.4925 | -1 |\n",
       "| 0.4775 | -1 |\n",
       "| 0.4625 | -1 |\n",
       "| 0.4475 | -1 |\n",
       "| 0.4325 | -1 |\n",
       "| 0.4175 | -1 |\n",
       "| 0.4025 | -1 |\n",
       "| 0.3875 | -1 |\n",
       "| 0.3725 | -1 |\n",
       "| 0.3575 | -1 |\n",
       "| 0.3425 | -1 |\n",
       "| 0.3275 | -1 |\n",
       "| 0.3125 | -1 |\n",
       "| 0.2975 | -1 |\n",
       "| 0.2825 | -1 |\n",
       "| 0.2545 | -1 |\n",
       "\n"
      ],
      "text/plain": [
       "   X      Z \n",
       "1  0.4925 -1\n",
       "2  0.4775 -1\n",
       "3  0.4625 -1\n",
       "4  0.4475 -1\n",
       "5  0.4325 -1\n",
       "6  0.4175 -1\n",
       "7  0.4025 -1\n",
       "8  0.3875 -1\n",
       "9  0.3725 -1\n",
       "10 0.3575 -1\n",
       "11 0.3425 -1\n",
       "12 0.3275 -1\n",
       "13 0.3125 -1\n",
       "14 0.2975 -1\n",
       "15 0.2825 -1\n",
       "16 0.2545 -1"
      ]
     },
     "metadata": {},
     "output_type": "display_data"
    }
   ],
   "source": [
    "# Read the data from the existing .csv file\n",
    "gcode <- read.csv(\"gcode_file.csv\", header = T)\n",
    "gcode"
   ]
  },
  {
   "cell_type": "code",
   "execution_count": null,
   "id": "97fa18db-9469-4294-94d4-aa645617483c",
   "metadata": {},
   "outputs": [],
   "source": []
  },
  {
   "cell_type": "markdown",
   "id": "c8769cc7-3091-4969-a95b-a412da902d10",
   "metadata": {},
   "source": [
    "## Done !!!\n",
    "\n",
    "#### Move on to next file: gcode_Part2.ipynb"
   ]
  },
  {
   "cell_type": "code",
   "execution_count": null,
   "id": "312ab050-7732-40c8-be2a-104099c3948f",
   "metadata": {},
   "outputs": [],
   "source": []
  },
  {
   "cell_type": "code",
   "execution_count": 22,
   "id": "02453216-2f0f-4224-bf48-8260dead1421",
   "metadata": {},
   "outputs": [
    {
     "ename": "ERROR",
     "evalue": "Error in eval(expr, envir, enclos): object 'stopper' not found\n",
     "output_type": "error",
     "traceback": [
      "Error in eval(expr, envir, enclos): object 'stopper' not found\nTraceback:\n"
     ]
    }
   ],
   "source": [
    "stopper"
   ]
  },
  {
   "cell_type": "code",
   "execution_count": null,
   "id": "184fcb14-81b2-4e93-9ec6-a54550b3d1e6",
   "metadata": {},
   "outputs": [],
   "source": []
  },
  {
   "cell_type": "code",
   "execution_count": null,
   "id": "bf24b0d9-e875-483c-aad4-d6d8c30a5602",
   "metadata": {},
   "outputs": [],
   "source": []
  },
  {
   "cell_type": "markdown",
   "id": "2eca4dc5-ca7e-4c77-a350-388bd5a85ffa",
   "metadata": {
    "tags": []
   },
   "source": [
    "\n",
    "# Example variable\n",
    "my_variable <- 10\n",
    "\n",
    "# Display the value of my_variable in the prompt message\n",
    "user_input <- readline(paste(\"Enter a value (current value of my_variable is\", my_variable, \"): \"))\n",
    "\n",
    "# Show the user input\n",
    "print(user_input)"
   ]
  },
  {
   "cell_type": "code",
   "execution_count": null,
   "id": "9fd48ec8-8185-4c30-83bf-05966eeb9939",
   "metadata": {},
   "outputs": [],
   "source": []
  },
  {
   "cell_type": "markdown",
   "id": "ae53d5bf-4716-4940-9ee2-b215c5226950",
   "metadata": {
    "tags": []
   },
   "source": [
    "RemainingCutSize <- result_df$X[n]\n",
    "RemainingCutSize\n",
    "\n",
    "\n",
    "\n",
    "LastCuts <<- readline(paste(\"The current diameter is:\" , RemainingCutSize, \": Cut size is:\", Cut, \"Make one more \", Cut, \"sized cut? Enter Y for yes\" ))\n",
    "    \n",
    "\n",
    "\n",
    "\n",
    "\n",
    "\n",
    "    \n",
    "    LastCuts <- as.numeric(LastCuts)\n",
    "    str(LastCuts)\n",
    "    RemainingCutSize <- RemainingCutSize - Cut\n",
    "    RemainingCutSize\n",
    "\n",
    "\n",
    "\n",
    "FinalCut  <- readline(paste(\"The diameter has been reduced to:\", testCutSize, \": Enter value (.0xx) for final cut: \"))\n",
    "     FinalCut <- as.numeric(FinalCut)\n",
    "FinalCut <- testCutSize - FinalCut\n",
    "testCutSize\n",
    "\n",
    "\n",
    "\n",
    "\n",
    "FinalCut \n",
    "as.character(FinalCut) \n",
    "\n",
    "FinalCut <- as.numeric(unlist(strsplit(FinalCut, \", \")))   # Convert Char to numeric data type\n",
    "is.numeric(FinalCut)\n",
    "\n",
    "\n",
    "\n"
   ]
  },
  {
   "cell_type": "code",
   "execution_count": null,
   "id": "eae8420d-ebfa-43b3-ad62-f5b2361d9b89",
   "metadata": {},
   "outputs": [],
   "source": []
  },
  {
   "cell_type": "code",
   "execution_count": null,
   "id": "008c6927-696b-4741-9a5d-f9a8ba45167d",
   "metadata": {
    "tags": []
   },
   "outputs": [],
   "source": [
    "testCutSize <- result_df$X[n]\n",
    "\n",
    "\n",
    "# LastCut <<- readline(paste(\"The finish cut(s) loop. Diameter is:\" , testCutSize, \": Enter next cut size or 0 to quit: \"))\n",
    "    \n",
    "if (!is.na(FinalCut)) {\n",
    "    if (FinalCut >= 0 ) {\n",
    "        print(paste(\"final cut is: \", FinalCut))\n",
    "    } else {\n",
    "        print(\"FinalCut is something eles\")\n",
    "    }\n",
    "} else {\n",
    "    print(\"wrong input\")\n",
    "    }\n",
    "   "
   ]
  },
  {
   "cell_type": "code",
   "execution_count": null,
   "id": "53cf27a9-e3eb-45b6-87e9-0fca9b2788ca",
   "metadata": {},
   "outputs": [],
   "source": []
  },
  {
   "cell_type": "code",
   "execution_count": null,
   "id": "567f9a07-9e3e-4123-b991-a2796ca9b923",
   "metadata": {},
   "outputs": [],
   "source": []
  },
  {
   "cell_type": "code",
   "execution_count": null,
   "id": "29318a55-e4e6-4410-8ad5-5c484d317fa5",
   "metadata": {},
   "outputs": [],
   "source": []
  },
  {
   "cell_type": "code",
   "execution_count": null,
   "id": "b42000f8-2a68-400b-a1fc-ca14ebb25b9c",
   "metadata": {},
   "outputs": [],
   "source": []
  },
  {
   "cell_type": "code",
   "execution_count": null,
   "id": "8e4e9442-c9b7-449f-9300-895908a448e8",
   "metadata": {},
   "outputs": [],
   "source": []
  },
  {
   "cell_type": "code",
   "execution_count": null,
   "id": "3d1063cb-15e2-4cc8-8e37-6cad95621952",
   "metadata": {},
   "outputs": [],
   "source": []
  },
  {
   "cell_type": "code",
   "execution_count": null,
   "id": "4fab9a96-5d14-4ed7-b504-637b6496028a",
   "metadata": {},
   "outputs": [],
   "source": []
  },
  {
   "cell_type": "markdown",
   "id": "b6ff4be8-6a7a-43ca-a5fc-cbabe8e0b59b",
   "metadata": {},
   "source": [
    "## Try converting the df to string, "
   ]
  },
  {
   "cell_type": "code",
   "execution_count": null,
   "id": "d0f1b724-5bfd-456c-87fe-fb5497dd724a",
   "metadata": {},
   "outputs": [],
   "source": [
    "#  Adding a column to an existing dataframe\n",
    "\n",
    "df_X <- cbind(gCode = \"G1\", Output_gcode_df)\n",
    "df_X\n"
   ]
  },
  {
   "cell_type": "code",
   "execution_count": null,
   "id": "17fb238e-2610-48d2-9826-2f321f2c6592",
   "metadata": {},
   "outputs": [],
   "source": [
    "vector_X <- df_X$X\n",
    "vector_Z <- df_X$Z"
   ]
  },
  {
   "cell_type": "code",
   "execution_count": null,
   "id": "825fd7af-79f2-4ce3-84a3-dd63d20857bc",
   "metadata": {},
   "outputs": [],
   "source": [
    "vector_X"
   ]
  },
  {
   "cell_type": "code",
   "execution_count": null,
   "id": "a4f144b0-0def-4ae9-888a-19614142dfcc",
   "metadata": {},
   "outputs": [],
   "source": [
    "# d <- data.frame(x = 1, y = 1:10, char = char))\n",
    "testDF <- data.frame(gcode = \"G01\", X = \"X\", Xg = vector_X, Z = \"Z\", Zg = vector_Z, F = \"F\", Speed = Feed)"
   ]
  },
  {
   "cell_type": "code",
   "execution_count": null,
   "id": "32a9a80d-79e4-44da-b1de-84f74807034a",
   "metadata": {},
   "outputs": [],
   "source": [
    "string_list <- list()\n",
    "\n",
    "for(i in 1:nrow(testDF)) {\n",
    "    row_string <- paste(testDF[i, ], collapse = \" \")  # Concatenate row elements into a string\n",
    "    string_list <- c(string_list, list(row_string))   # Add the row string to the list\n",
    "    }\n"
   ]
  },
  {
   "cell_type": "code",
   "execution_count": null,
   "id": "14404145-e611-49b3-90f0-408c876175d9",
   "metadata": {},
   "outputs": [],
   "source": [
    "# Need to seperate the list by rows\n",
    "# Combine the single string with newline characters\n",
    "\n",
    "\n",
    "combined_string <- paste(string_list, collapse = \"\\n\")\n",
    "combined_string\n",
    "is.list(combined_string)\n",
    "\n",
    "str(combined_string)"
   ]
  },
  {
   "cell_type": "code",
   "execution_count": null,
   "id": "5d81158e-6dd8-4ca9-85b3-c04ca1f78bb3",
   "metadata": {},
   "outputs": [],
   "source": [
    "# updated_list <- c(string_list, new_string)\n",
    "\n",
    "full_string <- c(combined_string, G0_gcode1)"
   ]
  },
  {
   "cell_type": "code",
   "execution_count": null,
   "id": "ef6ad1da-fc89-4533-9736-4995c748c0a8",
   "metadata": {},
   "outputs": [],
   "source": [
    "# Define the file path and name for the output .csv file\n",
    "file_path <- \"gcode_file.csv\"\n",
    "\n",
    "# Write the dataframe to a .csv file\n",
    "# write.csv(text = combined_string, file = file_path, row.names = FALSE)    # this worked, then it didn't\n",
    "\n",
    "# Write the string to a .csv file using writeLines()\n",
    "writeLines(text = full_string, con = file(file_path))"
   ]
  },
  {
   "cell_type": "code",
   "execution_count": null,
   "id": "5c52ab6a-748b-450e-a5da-7f5cfa86881f",
   "metadata": {},
   "outputs": [],
   "source": [
    "file_path <- \"gcode_file.csv\"\n",
    "\n",
    "# Open the file in append mode using a file connection\n",
    "file_conn <- file(file_path, open = \"a\")\n",
    "\n",
    "# Append the text to the file using writeLines()\n",
    "writeLines(text = full_string, file_conn)\n",
    "\n",
    "# Close the file connection\n",
    "close(file_conn)"
   ]
  },
  {
   "cell_type": "code",
   "execution_count": null,
   "id": "ee65dacc-c57b-4027-b324-a83a1faeb13d",
   "metadata": {},
   "outputs": [],
   "source": []
  },
  {
   "cell_type": "code",
   "execution_count": null,
   "id": "e013c1cd-587b-47a5-a75e-cc2bb502522f",
   "metadata": {},
   "outputs": [],
   "source": []
  },
  {
   "cell_type": "code",
   "execution_count": null,
   "id": "bb3fec42-30ec-453b-827d-114590c5fe0b",
   "metadata": {},
   "outputs": [],
   "source": [
    "print(paste(\"X\", format(RadDROzero, nsmall = 3), \"Z\", format(Leng, nsmall = 2)))\n",
    "    "
   ]
  },
  {
   "cell_type": "markdown",
   "id": "919e7790-fe7f-4756-80d2-e62e8707968c",
   "metadata": {},
   "source": [
    "###  What do I want?  Add G01 to each line.  Add X and Z.  \n",
    "\n",
    "### This will involve merging or binding columns"
   ]
  },
  {
   "cell_type": "code",
   "execution_count": null,
   "id": "8c085b4a-f8d6-4568-b39d-c2a28fe2e800",
   "metadata": {},
   "outputs": [],
   "source": []
  },
  {
   "cell_type": "code",
   "execution_count": null,
   "id": "0c908b73-1184-47c7-982b-a74b53d3d27c",
   "metadata": {},
   "outputs": [],
   "source": []
  },
  {
   "cell_type": "code",
   "execution_count": null,
   "id": "b14a5f0f-4a4d-487b-b575-f3f8356aa4e3",
   "metadata": {},
   "outputs": [],
   "source": [
    "df_X"
   ]
  },
  {
   "cell_type": "markdown",
   "id": "3656c711-c633-472d-91b4-afe5de6e316e",
   "metadata": {},
   "source": [
    "### Extract the columns\n",
    "\n",
    "    It's far easier to create a new df from scratch than to modify an existing df"
   ]
  },
  {
   "cell_type": "code",
   "execution_count": null,
   "id": "044cbb47-4581-4775-a30b-8d40a659232b",
   "metadata": {},
   "outputs": [],
   "source": []
  },
  {
   "cell_type": "markdown",
   "id": "3606b148-81af-463c-a391-ba3077a74773",
   "metadata": {},
   "source": [
    "## Build a new G01 data.frame using the X Z vectors\n",
    "\n",
    "    It far easier to build a df from scratch than to modify an existing df"
   ]
  },
  {
   "cell_type": "code",
   "execution_count": null,
   "id": "76dbd6ea-11a5-44a7-8544-dc9f63595cf0",
   "metadata": {},
   "outputs": [],
   "source": [
    "testDF    # the new df with all the components for the gcode G01 \n",
    "nrow(testDF)"
   ]
  },
  {
   "cell_type": "code",
   "execution_count": null,
   "id": "e42534dd-43dc-4fe8-ae8d-b7b6428f3102",
   "metadata": {},
   "outputs": [],
   "source": []
  },
  {
   "cell_type": "markdown",
   "id": "a291018e-e6fc-4533-a7ca-15e9a7d0a64f",
   "metadata": {},
   "source": [
    "##  Unpack the df again"
   ]
  },
  {
   "cell_type": "markdown",
   "id": "6d56ea77-e097-4977-9fa8-da37a4ed8808",
   "metadata": {},
   "source": [
    "## Looks Right - note this is a list"
   ]
  },
  {
   "cell_type": "code",
   "execution_count": null,
   "id": "62ef1822-ba8e-4276-b6f7-004fa11703cf",
   "metadata": {},
   "outputs": [],
   "source": [
    "string_list\n",
    "length(string_list)\n",
    "is.list(string_list)\n"
   ]
  },
  {
   "cell_type": "markdown",
   "id": "df27ff8a-e66c-458d-9580-c626adf0d817",
   "metadata": {},
   "source": [
    "### This is NOT a list.  Is just a character vector, aka string"
   ]
  },
  {
   "cell_type": "code",
   "execution_count": null,
   "id": "8ea45596-7b72-40d8-a8ee-3b728b8527f9",
   "metadata": {},
   "outputs": [],
   "source": []
  },
  {
   "cell_type": "markdown",
   "id": "38158676-b1de-4a69-90c8-521a48c4f8b3",
   "metadata": {},
   "source": [
    "## Append the G00 character vector to the G01 character vector"
   ]
  },
  {
   "cell_type": "code",
   "execution_count": null,
   "id": "f44caf82-1fd7-4c48-8263-07406150efdc",
   "metadata": {},
   "outputs": [],
   "source": [
    "# Create a new row - the G00 line, to be inserted into the existing string\n",
    "\n",
    "new_row <- c(\"G00\", \"X\", \".250\", \"Z\",\".75\", \"F\", Feed*2)  # Replace \"Data\" with your content\n",
    "new_row\n",
    "G0_gcode <- paste(new_row, collapse = \" \")\n",
    "G0_gcode\n",
    "G0_gcode1 <- paste(G0_gcode, collapse = \"\\n\")     \n",
    "G0_gcode1\n",
    "str(G0_gcode1)"
   ]
  },
  {
   "cell_type": "code",
   "execution_count": null,
   "id": "f691c660-0781-4934-8658-56391cf7eb39",
   "metadata": {},
   "outputs": [],
   "source": [
    "full_string\n",
    "is.list(full_string)\n",
    "str(full_string)"
   ]
  },
  {
   "cell_type": "code",
   "execution_count": null,
   "id": "6b824fc6-086d-4cc1-ada8-7cc4409c0158",
   "metadata": {},
   "outputs": [],
   "source": []
  },
  {
   "cell_type": "markdown",
   "id": "8f5c3802-afe5-4a2a-ae79-02a42f44f8ac",
   "metadata": {},
   "source": [
    "### The addtion of G00 was easy when using vectors, aka strings, rather than trying to mod a df"
   ]
  },
  {
   "cell_type": "code",
   "execution_count": null,
   "id": "4cc6e9de-a8ef-404b-aa47-394e27632e3b",
   "metadata": {},
   "outputs": [],
   "source": []
  },
  {
   "cell_type": "code",
   "execution_count": null,
   "id": "b0b4af13-9534-46b9-86d1-3b466b8f625a",
   "metadata": {},
   "outputs": [],
   "source": []
  },
  {
   "cell_type": "code",
   "execution_count": null,
   "id": "3bf55ca1-66e8-4e73-b88d-219e2ef89951",
   "metadata": {},
   "outputs": [],
   "source": []
  },
  {
   "cell_type": "markdown",
   "id": "ae181480-6a41-45f5-b50c-35ded713e457",
   "metadata": {},
   "source": [
    "## All looks good"
   ]
  },
  {
   "cell_type": "code",
   "execution_count": null,
   "id": "3ed78f1b-d39b-41e0-b403-ee60a901e854",
   "metadata": {},
   "outputs": [],
   "source": [
    "xexit "
   ]
  },
  {
   "cell_type": "code",
   "execution_count": null,
   "id": "463420e4-ffac-46e4-8aa9-b7f19f47481a",
   "metadata": {},
   "outputs": [],
   "source": []
  },
  {
   "cell_type": "code",
   "execution_count": null,
   "id": "fa1ac7e1-35d3-4f53-b0ce-125931c449ca",
   "metadata": {},
   "outputs": [],
   "source": [
    "?writeLines"
   ]
  },
  {
   "cell_type": "code",
   "execution_count": null,
   "id": "e36c0d11-c5db-4d93-8ccc-e79dca06fee7",
   "metadata": {},
   "outputs": [],
   "source": []
  },
  {
   "cell_type": "markdown",
   "id": "df62b3a5-1be5-46a2-8e38-e75f8d090dc6",
   "metadata": {},
   "source": [
    "### Other code that didn't work out"
   ]
  },
  {
   "cell_type": "code",
   "execution_count": null,
   "id": "d154ee5a-8b53-4da3-9f69-d75542234d49",
   "metadata": {},
   "outputs": [],
   "source": [
    "\n",
    "# New row of text to insert\n",
    "new_row <- c(\"G00\", \"X\", \".250\", \"Z\",\".75\", \"F\", Feed*2)  # Replace \"Data\" with your content\n",
    "new_row\n",
    "G0_gcode <- paste(new_row, collapse = \" \")\n",
    "G0_gcode\n",
    "G0_gcode1 <- paste(G0_gcode, collapse = \"\\n\")\n",
    "G0_gcode1"
   ]
  },
  {
   "cell_type": "code",
   "execution_count": null,
   "id": "7e8fbccf-cba1-4a7a-9e42-47ccb40ea893",
   "metadata": {},
   "outputs": [],
   "source": [
    "# Write the updated data to a new .csv file\n",
    "write.csv(G0_gcode1, file = \"gcode_file.csv\", append = TRUE, row.names = FALSE)  # Replace \"updated_data.csv\" with your desired file name"
   ]
  },
  {
   "cell_type": "code",
   "execution_count": null,
   "id": "4ff66e6a-c265-4a4f-8823-8e8348191aff",
   "metadata": {},
   "outputs": [],
   "source": []
  },
  {
   "cell_type": "code",
   "execution_count": null,
   "id": "0d66380c-2541-431f-b9f5-37bf9fc7d753",
   "metadata": {},
   "outputs": [],
   "source": [
    "# Determine the position to insert the new row (for example, after the 3rd row)\n",
    "insert_index <- 2\n",
    "\n",
    "# Insert the new row into the existing data\n",
    "updated_data <- rbind(existing_data[1:insert_index, ], \n",
    "                new_row, existing_data[(insert_index + 1):nrow(existing_data), ])"
   ]
  },
  {
   "cell_type": "code",
   "execution_count": null,
   "id": "ca8357c5-877b-4cd3-bac3-d2e5adf6ef66",
   "metadata": {},
   "outputs": [],
   "source": []
  },
  {
   "cell_type": "code",
   "execution_count": null,
   "id": "89f4a788-193d-48ff-b637-830dabdd95d4",
   "metadata": {},
   "outputs": [],
   "source": []
  },
  {
   "cell_type": "code",
   "execution_count": null,
   "id": "82d58de9-0f9c-4148-bff5-1b2ea9ffb890",
   "metadata": {},
   "outputs": [],
   "source": []
  },
  {
   "cell_type": "code",
   "execution_count": null,
   "id": "34252cf1-c90d-4c02-beb7-331c83f19eed",
   "metadata": {},
   "outputs": [],
   "source": [
    "# Your character string\n",
    "my_string <- \"'G01'' ''X''0.235''Z''-0.75'\"\n",
    "\n",
    "# Remove ' character using gsub\n",
    "cleaned_string <- gsub(\"'\", \"\", my_string)\n",
    "\n",
    "# Print the cleaned string\n",
    "print(cleaned_string)"
   ]
  },
  {
   "cell_type": "code",
   "execution_count": null,
   "id": "98ddd72e-7248-4f74-8216-c315642e9938",
   "metadata": {},
   "outputs": [],
   "source": [
    "testDF[1,]\n",
    "gcode <- as.character(testDF[1,])\n",
    "gcode\n",
    "is.character(gcode)\n",
    "is.vector(gcode)\n"
   ]
  },
  {
   "cell_type": "code",
   "execution_count": null,
   "id": "42c92761-8cbf-43b9-abd6-0b71572a67e5",
   "metadata": {},
   "outputs": [],
   "source": []
  },
  {
   "cell_type": "code",
   "execution_count": null,
   "id": "10a62dde-1efe-4cfc-8ad8-08b8fca2bebb",
   "metadata": {},
   "outputs": [],
   "source": []
  },
  {
   "cell_type": "code",
   "execution_count": null,
   "id": "de0ab4dc-8e97-49d7-b7d6-52b8e62f5628",
   "metadata": {},
   "outputs": [],
   "source": [
    "str(cleaned_string)"
   ]
  },
  {
   "cell_type": "code",
   "execution_count": null,
   "id": "c40c8a92-7534-43dc-bed9-b4ab5a8b73f5",
   "metadata": {},
   "outputs": [],
   "source": []
  }
 ],
 "metadata": {
  "kernelspec": {
   "display_name": "R",
   "language": "R",
   "name": "ir"
  },
  "language_info": {
   "codemirror_mode": "r",
   "file_extension": ".r",
   "mimetype": "text/x-r-source",
   "name": "R",
   "pygments_lexer": "r",
   "version": "4.3.0"
  }
 },
 "nbformat": 4,
 "nbformat_minor": 5
}
