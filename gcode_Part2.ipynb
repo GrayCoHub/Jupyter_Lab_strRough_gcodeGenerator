{
 "cells": [
  {
   "cell_type": "code",
   "execution_count": null,
   "id": "f07defe2-f37e-4ea8-9399-189f694a0588",
   "metadata": {},
   "outputs": [],
   "source": []
  },
  {
   "cell_type": "markdown",
   "id": "6da4436d-ad3a-4abb-8e2d-fbde030abd19",
   "metadata": {},
   "source": [
    "## There are NO user inputs in this notebook\n",
    "\n",
    "##### This file outputs the file named:  gcode_file2.csv\n",
    "\n",
    "This is the second notebook file for processing gcode\n",
    "1- gcode_DRO-WorkingOriginal.ipynb\n",
    "2. gcode_Part3.ipynb\n"
   ]
  },
  {
   "cell_type": "code",
   "execution_count": null,
   "id": "232a6cd2-eee5-4df0-a8be-7aece4c46ca1",
   "metadata": {},
   "outputs": [],
   "source": []
  },
  {
   "cell_type": "markdown",
   "id": "1258f8a0-4104-4f93-aa77-4c4488600f34",
   "metadata": {},
   "source": [
    "### Create df to use in a For loop\n",
    "\n",
    "    #Initialize an empty dataframe to store the values\n",
    "        result_df <- data.frame(X = numeric(0), Z = numeric(0))\n",
    "\n",
    "\n",
    "    # Inside Loop: Create a new row for each iteration with X and Z values and add it to the dataframe\n",
    "      new_row <- data.frame(X = ChangingDiameter, Z = Leng)\n",
    "      result_df <- rbind(result_df, new_row)"
   ]
  },
  {
   "cell_type": "code",
   "execution_count": null,
   "id": "f19347c3-9476-4361-bf03-600102346b31",
   "metadata": {},
   "outputs": [],
   "source": []
  },
  {
   "cell_type": "markdown",
   "id": "5737a90d-96a4-4f3b-b61b-428c5c83c2c0",
   "metadata": {},
   "source": [
    "### Undefined df without column names.\n",
    "  \n",
    "      # Create an empty dataframe with 2 columns\n",
    "    undefined_df <- data.frame(matrix(nrow = 0, ncol = 2))\n",
    "\n",
    "       \n",
    "### Undefined df w/ column names   \n",
    "    Another Ex.\n",
    "    empty_df <- data.frame(Axis = character(0), Pos = character(0))\n"
   ]
  },
  {
   "cell_type": "code",
   "execution_count": null,
   "id": "790d47b6-6e00-42fd-86b4-f34802c9a303",
   "metadata": {},
   "outputs": [],
   "source": []
  },
  {
   "cell_type": "markdown",
   "id": "abe495c8-2d10-4bc9-8708-490fc517f49c",
   "metadata": {},
   "source": [
    "## Change column names\n",
    "\n",
    "    colnames(df) <- c(\"Alpha\", \"Bravo\", \"Charlie\", \"Delta\")"
   ]
  },
  {
   "cell_type": "code",
   "execution_count": null,
   "id": "4feb3972-d70e-4c49-aa4a-ed0022692a9a",
   "metadata": {},
   "outputs": [],
   "source": []
  },
  {
   "cell_type": "markdown",
   "id": "6189d545-86be-46e9-8a8f-99711d0d2f74",
   "metadata": {},
   "source": [
    "### rbind( )\n",
    "\n",
    "    This is one of the main tools to use in base R.\n",
    "    \n",
    "        chrVec <- rbind(letters[1:4], \"X\")\n",
    "    \n",
    "    Use rbind with as.data.frame, as.list, as.character, etc"
   ]
  },
  {
   "cell_type": "code",
   "execution_count": null,
   "id": "7b7de57c-9e30-4a3e-97db-981915a70792",
   "metadata": {},
   "outputs": [],
   "source": []
  },
  {
   "cell_type": "code",
   "execution_count": 1,
   "id": "f34033a6-ef86-4a3f-84b8-84007e1a9c62",
   "metadata": {
    "jupyter": {
     "source_hidden": true
    },
    "tags": []
   },
   "outputs": [
    {
     "data": {
      "text/html": [
       "<table class=\"dataframe\">\n",
       "<caption>A data.frame: 3 × 2</caption>\n",
       "<thead>\n",
       "\t<tr><th></th><th scope=col>X</th><th scope=col>Z</th></tr>\n",
       "\t<tr><th></th><th scope=col>&lt;dbl&gt;</th><th scope=col>&lt;int&gt;</th></tr>\n",
       "</thead>\n",
       "<tbody>\n",
       "\t<tr><th scope=row>1</th><td>0.4925</td><td>-1</td></tr>\n",
       "\t<tr><th scope=row>2</th><td>0.4775</td><td>-1</td></tr>\n",
       "\t<tr><th scope=row>3</th><td>0.4625</td><td>-1</td></tr>\n",
       "</tbody>\n",
       "</table>\n"
      ],
      "text/latex": [
       "A data.frame: 3 × 2\n",
       "\\begin{tabular}{r|ll}\n",
       "  & X & Z\\\\\n",
       "  & <dbl> & <int>\\\\\n",
       "\\hline\n",
       "\t1 & 0.4925 & -1\\\\\n",
       "\t2 & 0.4775 & -1\\\\\n",
       "\t3 & 0.4625 & -1\\\\\n",
       "\\end{tabular}\n"
      ],
      "text/markdown": [
       "\n",
       "A data.frame: 3 × 2\n",
       "\n",
       "| <!--/--> | X &lt;dbl&gt; | Z &lt;int&gt; |\n",
       "|---|---|---|\n",
       "| 1 | 0.4925 | -1 |\n",
       "| 2 | 0.4775 | -1 |\n",
       "| 3 | 0.4625 | -1 |\n",
       "\n"
      ],
      "text/plain": [
       "  X      Z \n",
       "1 0.4925 -1\n",
       "2 0.4775 -1\n",
       "3 0.4625 -1"
      ]
     },
     "metadata": {},
     "output_type": "display_data"
    }
   ],
   "source": [
    "# Read the data from the existing .csv file\n",
    "gcode <- read.csv(\"gcode_file.csv\", header = T)\n",
    "head(gcode, 3)"
   ]
  },
  {
   "cell_type": "code",
   "execution_count": 2,
   "id": "af934e69-0f15-47aa-b237-66271ae2f20b",
   "metadata": {
    "jupyter": {
     "source_hidden": true
    },
    "tags": []
   },
   "outputs": [
    {
     "data": {
      "text/html": [
       "<table class=\"dataframe\">\n",
       "<caption>A data.frame: 6 × 2</caption>\n",
       "<thead>\n",
       "\t<tr><th></th><th scope=col>Axis</th><th scope=col>Pos</th></tr>\n",
       "\t<tr><th></th><th scope=col>&lt;chr&gt;</th><th scope=col>&lt;dbl&gt;</th></tr>\n",
       "</thead>\n",
       "<tbody>\n",
       "\t<tr><th scope=row>1</th><td>X</td><td>0.4925</td></tr>\n",
       "\t<tr><th scope=row>2</th><td>X</td><td>0.4775</td></tr>\n",
       "\t<tr><th scope=row>3</th><td>X</td><td>0.4625</td></tr>\n",
       "\t<tr><th scope=row>4</th><td>X</td><td>0.4475</td></tr>\n",
       "\t<tr><th scope=row>5</th><td>X</td><td>0.4325</td></tr>\n",
       "\t<tr><th scope=row>6</th><td>X</td><td>0.4175</td></tr>\n",
       "</tbody>\n",
       "</table>\n"
      ],
      "text/latex": [
       "A data.frame: 6 × 2\n",
       "\\begin{tabular}{r|ll}\n",
       "  & Axis & Pos\\\\\n",
       "  & <chr> & <dbl>\\\\\n",
       "\\hline\n",
       "\t1 & X & 0.4925\\\\\n",
       "\t2 & X & 0.4775\\\\\n",
       "\t3 & X & 0.4625\\\\\n",
       "\t4 & X & 0.4475\\\\\n",
       "\t5 & X & 0.4325\\\\\n",
       "\t6 & X & 0.4175\\\\\n",
       "\\end{tabular}\n"
      ],
      "text/markdown": [
       "\n",
       "A data.frame: 6 × 2\n",
       "\n",
       "| <!--/--> | Axis &lt;chr&gt; | Pos &lt;dbl&gt; |\n",
       "|---|---|---|\n",
       "| 1 | X | 0.4925 |\n",
       "| 2 | X | 0.4775 |\n",
       "| 3 | X | 0.4625 |\n",
       "| 4 | X | 0.4475 |\n",
       "| 5 | X | 0.4325 |\n",
       "| 6 | X | 0.4175 |\n",
       "\n"
      ],
      "text/plain": [
       "  Axis Pos   \n",
       "1 X    0.4925\n",
       "2 X    0.4775\n",
       "3 X    0.4625\n",
       "4 X    0.4475\n",
       "5 X    0.4325\n",
       "6 X    0.4175"
      ]
     },
     "metadata": {},
     "output_type": "display_data"
    },
    {
     "data": {
      "text/html": [
       "<table class=\"dataframe\">\n",
       "<caption>A data.frame: 6 × 2</caption>\n",
       "<thead>\n",
       "\t<tr><th></th><th scope=col>Axis</th><th scope=col>Pos</th></tr>\n",
       "\t<tr><th></th><th scope=col>&lt;chr&gt;</th><th scope=col>&lt;int&gt;</th></tr>\n",
       "</thead>\n",
       "<tbody>\n",
       "\t<tr><th scope=row>1</th><td>Z</td><td>-1</td></tr>\n",
       "\t<tr><th scope=row>2</th><td>Z</td><td>-1</td></tr>\n",
       "\t<tr><th scope=row>3</th><td>Z</td><td>-1</td></tr>\n",
       "\t<tr><th scope=row>4</th><td>Z</td><td>-1</td></tr>\n",
       "\t<tr><th scope=row>5</th><td>Z</td><td>-1</td></tr>\n",
       "\t<tr><th scope=row>6</th><td>Z</td><td>-1</td></tr>\n",
       "</tbody>\n",
       "</table>\n"
      ],
      "text/latex": [
       "A data.frame: 6 × 2\n",
       "\\begin{tabular}{r|ll}\n",
       "  & Axis & Pos\\\\\n",
       "  & <chr> & <int>\\\\\n",
       "\\hline\n",
       "\t1 & Z & -1\\\\\n",
       "\t2 & Z & -1\\\\\n",
       "\t3 & Z & -1\\\\\n",
       "\t4 & Z & -1\\\\\n",
       "\t5 & Z & -1\\\\\n",
       "\t6 & Z & -1\\\\\n",
       "\\end{tabular}\n"
      ],
      "text/markdown": [
       "\n",
       "A data.frame: 6 × 2\n",
       "\n",
       "| <!--/--> | Axis &lt;chr&gt; | Pos &lt;int&gt; |\n",
       "|---|---|---|\n",
       "| 1 | Z | -1 |\n",
       "| 2 | Z | -1 |\n",
       "| 3 | Z | -1 |\n",
       "| 4 | Z | -1 |\n",
       "| 5 | Z | -1 |\n",
       "| 6 | Z | -1 |\n",
       "\n"
      ],
      "text/plain": [
       "  Axis Pos\n",
       "1 Z    -1 \n",
       "2 Z    -1 \n",
       "3 Z    -1 \n",
       "4 Z    -1 \n",
       "5 Z    -1 \n",
       "6 Z    -1 "
      ]
     },
     "metadata": {},
     "output_type": "display_data"
    }
   ],
   "source": [
    "# It's critical to have common column names in both df's\n",
    "\n",
    "x_df <- data.frame(Axis = \"X\", gcode$X)  # get the x values\n",
    "z_df <- data.frame(Axis = \"Z\", gcode$Z)  # get the Z values\n",
    "\n",
    "colnames(x_df) <- c(\"Axis\", \"Pos\")   # change and give common column names to both df's\n",
    "colnames(z_df) <- c(\"Axis\", \"Pos\")\n",
    "\n",
    "\n",
    "head(x_df)\n",
    "head(z_df)"
   ]
  },
  {
   "cell_type": "code",
   "execution_count": null,
   "id": "c6481e6e-a47f-4bdd-8305-af1a34bf02c7",
   "metadata": {},
   "outputs": [],
   "source": []
  },
  {
   "cell_type": "markdown",
   "id": "2812c892-6a2e-4a42-bb86-13dd90819f00",
   "metadata": {},
   "source": [
    "## Stop!  Quit fighting the dfs.  Work with lists instead!"
   ]
  },
  {
   "cell_type": "code",
   "execution_count": null,
   "id": "53f87448-0d2f-42ab-ba6a-b5a08524d772",
   "metadata": {},
   "outputs": [],
   "source": []
  },
  {
   "cell_type": "code",
   "execution_count": null,
   "id": "9349e7ed-3ff0-4ba9-9092-b38ebe226718",
   "metadata": {},
   "outputs": [],
   "source": []
  },
  {
   "cell_type": "markdown",
   "id": "00fb1a92-4aad-4dae-9e90-8b7044cac8ad",
   "metadata": {},
   "source": [
    "### This will alternate the rows from 2 df's\n",
    "\n",
    "##### Must have common column names in both dfs"
   ]
  },
  {
   "cell_type": "code",
   "execution_count": 3,
   "id": "f44612b7-bd2d-45e4-b499-4072d7b70aff",
   "metadata": {},
   "outputs": [],
   "source": [
    "# This uses the x_df, z_df created from the import .csv file\n",
    "\n",
    "code_df <- data.frame(Code = character(0))   # initialize empty df\n",
    "\n",
    "\n",
    "\n",
    "for(i in 1:nrow(x_df)) {\n",
    "    t <- as.list(rbind(x_df$Axis[i], x_df$Pos[i]))   # get X data from x_df, then make it a list \n",
    "    t <- paste(t, collapse = \" \")                    #  format the X list data\n",
    "    u <- as.list(rbind(z_df$Axis[i], z_df$Pos[i]))   # get the Z data from z_df, then make it a list   \n",
    "    u <- paste(u, collapse = \" \")                    # format the Z list data\n",
    "    w <- rbind(t, u)                                 # combine the X and Z list data in a new list\n",
    "   # print(w)\n",
    "    code_df <- rbind(code_df, w)                   # enter the combined rows into the empty df\n",
    "    \n",
    "    }\n",
    "\n",
    "code_df <- data.frame(code_df, row.names = NULL)    # Got it!\n"
   ]
  },
  {
   "cell_type": "code",
   "execution_count": 4,
   "id": "3245a817-499c-4994-bf33-496c2f777cd4",
   "metadata": {},
   "outputs": [
    {
     "data": {
      "text/html": [
       "<table class=\"dataframe\">\n",
       "<caption>A data.frame: 6 × 1</caption>\n",
       "<thead>\n",
       "\t<tr><th></th><th scope=col>V1</th></tr>\n",
       "\t<tr><th></th><th scope=col>&lt;chr&gt;</th></tr>\n",
       "</thead>\n",
       "<tbody>\n",
       "\t<tr><th scope=row>1</th><td>X 0.4925</td></tr>\n",
       "\t<tr><th scope=row>2</th><td>Z -1    </td></tr>\n",
       "\t<tr><th scope=row>3</th><td>X 0.4775</td></tr>\n",
       "\t<tr><th scope=row>4</th><td>Z -1    </td></tr>\n",
       "\t<tr><th scope=row>5</th><td>X 0.4625</td></tr>\n",
       "\t<tr><th scope=row>6</th><td>Z -1    </td></tr>\n",
       "</tbody>\n",
       "</table>\n"
      ],
      "text/latex": [
       "A data.frame: 6 × 1\n",
       "\\begin{tabular}{r|l}\n",
       "  & V1\\\\\n",
       "  & <chr>\\\\\n",
       "\\hline\n",
       "\t1 & X 0.4925\\\\\n",
       "\t2 & Z -1    \\\\\n",
       "\t3 & X 0.4775\\\\\n",
       "\t4 & Z -1    \\\\\n",
       "\t5 & X 0.4625\\\\\n",
       "\t6 & Z -1    \\\\\n",
       "\\end{tabular}\n"
      ],
      "text/markdown": [
       "\n",
       "A data.frame: 6 × 1\n",
       "\n",
       "| <!--/--> | V1 &lt;chr&gt; |\n",
       "|---|---|\n",
       "| 1 | X 0.4925 |\n",
       "| 2 | Z -1     |\n",
       "| 3 | X 0.4775 |\n",
       "| 4 | Z -1     |\n",
       "| 5 | X 0.4625 |\n",
       "| 6 | Z -1     |\n",
       "\n"
      ],
      "text/plain": [
       "  V1      \n",
       "1 X 0.4925\n",
       "2 Z -1    \n",
       "3 X 0.4775\n",
       "4 Z -1    \n",
       "5 X 0.4625\n",
       "6 Z -1    "
      ]
     },
     "metadata": {},
     "output_type": "display_data"
    }
   ],
   "source": [
    "head(code_df)"
   ]
  },
  {
   "cell_type": "markdown",
   "id": "c46e0a89-5eba-46d8-a0ef-9789ea05ec61",
   "metadata": {},
   "source": [
    "# Got it!\n",
    "\n",
    "#### Successfully combined alternating the rows from x_df and z_df into the code_df"
   ]
  },
  {
   "cell_type": "code",
   "execution_count": 5,
   "id": "4d572988-84d6-4313-bcdc-66de4a3f35ea",
   "metadata": {},
   "outputs": [
    {
     "data": {
      "text/html": [
       "<table class=\"dataframe\">\n",
       "<caption>A data.frame: 3 × 1</caption>\n",
       "<thead>\n",
       "\t<tr><th></th><th scope=col>Pos</th></tr>\n",
       "\t<tr><th></th><th scope=col>&lt;chr&gt;</th></tr>\n",
       "</thead>\n",
       "<tbody>\n",
       "\t<tr><th scope=row>1</th><td>X 0.4925</td></tr>\n",
       "\t<tr><th scope=row>2</th><td>Z -1    </td></tr>\n",
       "\t<tr><th scope=row>3</th><td>X 0.4775</td></tr>\n",
       "</tbody>\n",
       "</table>\n"
      ],
      "text/latex": [
       "A data.frame: 3 × 1\n",
       "\\begin{tabular}{r|l}\n",
       "  & Pos\\\\\n",
       "  & <chr>\\\\\n",
       "\\hline\n",
       "\t1 & X 0.4925\\\\\n",
       "\t2 & Z -1    \\\\\n",
       "\t3 & X 0.4775\\\\\n",
       "\\end{tabular}\n"
      ],
      "text/markdown": [
       "\n",
       "A data.frame: 3 × 1\n",
       "\n",
       "| <!--/--> | Pos &lt;chr&gt; |\n",
       "|---|---|\n",
       "| 1 | X 0.4925 |\n",
       "| 2 | Z -1     |\n",
       "| 3 | X 0.4775 |\n",
       "\n"
      ],
      "text/plain": [
       "  Pos     \n",
       "1 X 0.4925\n",
       "2 Z -1    \n",
       "3 X 0.4775"
      ]
     },
     "metadata": {},
     "output_type": "display_data"
    }
   ],
   "source": [
    "# Rename the column\n",
    "colnames(code_df) <- \"Pos\"\n",
    "head(code_df, 3)"
   ]
  },
  {
   "cell_type": "code",
   "execution_count": 6,
   "id": "662c2699-5888-4e20-8396-9a939ec718de",
   "metadata": {},
   "outputs": [
    {
     "data": {
      "text/html": [
       "32"
      ],
      "text/latex": [
       "32"
      ],
      "text/markdown": [
       "32"
      ],
      "text/plain": [
       "[1] 32"
      ]
     },
     "metadata": {},
     "output_type": "display_data"
    }
   ],
   "source": [
    "nrow(code_df)"
   ]
  },
  {
   "cell_type": "markdown",
   "id": "209a7328-21bb-4856-916f-8b315d7bc27d",
   "metadata": {},
   "source": [
    "## Write gcode to file"
   ]
  },
  {
   "cell_type": "code",
   "execution_count": 7,
   "id": "e3d124b1-810f-414b-8557-cedd5ec58ce1",
   "metadata": {},
   "outputs": [],
   "source": [
    "write.csv(code_df, file = \"gcode_file2.csv\", row.names = FALSE)"
   ]
  },
  {
   "cell_type": "code",
   "execution_count": 8,
   "id": "c277cbb7-fd2c-4148-9cfa-564197981835",
   "metadata": {},
   "outputs": [],
   "source": [
    "# Read the data from the existing .csv file\n",
    "gcode2 <- read.csv(\"gcode_file2.csv\", header = T)"
   ]
  },
  {
   "cell_type": "code",
   "execution_count": 9,
   "id": "9ba34950-9364-449c-9976-e6293cfc950d",
   "metadata": {},
   "outputs": [
    {
     "data": {
      "text/html": [
       "32"
      ],
      "text/latex": [
       "32"
      ],
      "text/markdown": [
       "32"
      ],
      "text/plain": [
       "[1] 32"
      ]
     },
     "metadata": {},
     "output_type": "display_data"
    },
    {
     "data": {
      "text/html": [
       "<table class=\"dataframe\">\n",
       "<caption>A data.frame: 6 × 1</caption>\n",
       "<thead>\n",
       "\t<tr><th></th><th scope=col>Pos</th></tr>\n",
       "\t<tr><th></th><th scope=col>&lt;chr&gt;</th></tr>\n",
       "</thead>\n",
       "<tbody>\n",
       "\t<tr><th scope=row>1</th><td>X 0.4925</td></tr>\n",
       "\t<tr><th scope=row>2</th><td>Z -1    </td></tr>\n",
       "\t<tr><th scope=row>3</th><td>X 0.4775</td></tr>\n",
       "\t<tr><th scope=row>4</th><td>Z -1    </td></tr>\n",
       "\t<tr><th scope=row>5</th><td>X 0.4625</td></tr>\n",
       "\t<tr><th scope=row>6</th><td>Z -1    </td></tr>\n",
       "</tbody>\n",
       "</table>\n"
      ],
      "text/latex": [
       "A data.frame: 6 × 1\n",
       "\\begin{tabular}{r|l}\n",
       "  & Pos\\\\\n",
       "  & <chr>\\\\\n",
       "\\hline\n",
       "\t1 & X 0.4925\\\\\n",
       "\t2 & Z -1    \\\\\n",
       "\t3 & X 0.4775\\\\\n",
       "\t4 & Z -1    \\\\\n",
       "\t5 & X 0.4625\\\\\n",
       "\t6 & Z -1    \\\\\n",
       "\\end{tabular}\n"
      ],
      "text/markdown": [
       "\n",
       "A data.frame: 6 × 1\n",
       "\n",
       "| <!--/--> | Pos &lt;chr&gt; |\n",
       "|---|---|\n",
       "| 1 | X 0.4925 |\n",
       "| 2 | Z -1     |\n",
       "| 3 | X 0.4775 |\n",
       "| 4 | Z -1     |\n",
       "| 5 | X 0.4625 |\n",
       "| 6 | Z -1     |\n",
       "\n"
      ],
      "text/plain": [
       "  Pos     \n",
       "1 X 0.4925\n",
       "2 Z -1    \n",
       "3 X 0.4775\n",
       "4 Z -1    \n",
       "5 X 0.4625\n",
       "6 Z -1    "
      ]
     },
     "metadata": {},
     "output_type": "display_data"
    },
    {
     "data": {
      "text/html": [
       "<table class=\"dataframe\">\n",
       "<caption>A data.frame: 6 × 1</caption>\n",
       "<thead>\n",
       "\t<tr><th></th><th scope=col>Pos</th></tr>\n",
       "\t<tr><th></th><th scope=col>&lt;chr&gt;</th></tr>\n",
       "</thead>\n",
       "<tbody>\n",
       "\t<tr><th scope=row>27</th><td>X 0.2975</td></tr>\n",
       "\t<tr><th scope=row>28</th><td>Z -1    </td></tr>\n",
       "\t<tr><th scope=row>29</th><td>X 0.2825</td></tr>\n",
       "\t<tr><th scope=row>30</th><td>Z -1    </td></tr>\n",
       "\t<tr><th scope=row>31</th><td>X 0.2545</td></tr>\n",
       "\t<tr><th scope=row>32</th><td>Z -1    </td></tr>\n",
       "</tbody>\n",
       "</table>\n"
      ],
      "text/latex": [
       "A data.frame: 6 × 1\n",
       "\\begin{tabular}{r|l}\n",
       "  & Pos\\\\\n",
       "  & <chr>\\\\\n",
       "\\hline\n",
       "\t27 & X 0.2975\\\\\n",
       "\t28 & Z -1    \\\\\n",
       "\t29 & X 0.2825\\\\\n",
       "\t30 & Z -1    \\\\\n",
       "\t31 & X 0.2545\\\\\n",
       "\t32 & Z -1    \\\\\n",
       "\\end{tabular}\n"
      ],
      "text/markdown": [
       "\n",
       "A data.frame: 6 × 1\n",
       "\n",
       "| <!--/--> | Pos &lt;chr&gt; |\n",
       "|---|---|\n",
       "| 27 | X 0.2975 |\n",
       "| 28 | Z -1     |\n",
       "| 29 | X 0.2825 |\n",
       "| 30 | Z -1     |\n",
       "| 31 | X 0.2545 |\n",
       "| 32 | Z -1     |\n",
       "\n"
      ],
      "text/plain": [
       "   Pos     \n",
       "27 X 0.2975\n",
       "28 Z -1    \n",
       "29 X 0.2825\n",
       "30 Z -1    \n",
       "31 X 0.2545\n",
       "32 Z -1    "
      ]
     },
     "metadata": {},
     "output_type": "display_data"
    }
   ],
   "source": [
    "nrow(gcode2)\n",
    "head(gcode2)\n",
    "tail(gcode2)"
   ]
  },
  {
   "cell_type": "code",
   "execution_count": null,
   "id": "7093b74a-5a15-40ca-85a7-07afc8488e89",
   "metadata": {},
   "outputs": [],
   "source": []
  },
  {
   "cell_type": "markdown",
   "id": "ac543e60-b5e7-4425-af68-27647d1b5328",
   "metadata": {},
   "source": [
    "# Done!\n",
    "\n",
    "#### Move on to  gcode_Part3.ipynb"
   ]
  },
  {
   "cell_type": "code",
   "execution_count": null,
   "id": "438c19b0-f914-4df3-a938-b563f70c701d",
   "metadata": {},
   "outputs": [],
   "source": []
  },
  {
   "cell_type": "code",
   "execution_count": 10,
   "id": "7ed3ad0b-8688-4f43-9bd6-54eaba537a43",
   "metadata": {},
   "outputs": [
    {
     "ename": "ERROR",
     "evalue": "Error in eval(expr, envir, enclos): object 'stopper' not found\n",
     "output_type": "error",
     "traceback": [
      "Error in eval(expr, envir, enclos): object 'stopper' not found\nTraceback:\n"
     ]
    }
   ],
   "source": [
    "stopper\n"
   ]
  },
  {
   "cell_type": "code",
   "execution_count": null,
   "id": "28e6c871-4151-45e0-a9ae-4a9b1ec460b6",
   "metadata": {},
   "outputs": [],
   "source": [
    "x_df$Axis[1]\n",
    "x_df$Pos[1]\n",
    "z_df$Axis[1]\n",
    "z_df$Pos[1]"
   ]
  },
  {
   "cell_type": "markdown",
   "id": "77d01723-3661-490b-b020-6d7e525745e6",
   "metadata": {},
   "source": [
    "### Will need the following moves coded for positioning the X & Z moves"
   ]
  },
  {
   "cell_type": "code",
   "execution_count": null,
   "id": "7aa5b055-f6ae-48bb-9b71-226c959148ca",
   "metadata": {},
   "outputs": [],
   "source": [
    "# There are 4 general moves for roughing\n",
    "\n",
    "Frate <- 4\n",
    "\n",
    "X01 <- print(paste(\"G01\", \"X\", x_df$Pos[1], \"F\",Frate))  # move X into cutting depth\n",
    "\n",
    "\n",
    "# X01 <- as.list(paste(X01, collapse = \", \"))\n",
    "X01 <- paste(X01, collape = \" \" )\n",
    "\n",
    "str(X01)\n",
    "length(X01)\n",
    "X01\n",
    "\n",
    "\n",
    "Z01 <- print(paste(\"G01\", \"Z\", z_df$Pos[1], \"F\",Frate))    # Cut along the Z axis\n",
    "Z01 <- paste(Z01, collapes = \" \")\n",
    "Z01\n",
    "str(Z01)\n",
    "\n",
    "X02 <-  print(paste(\"G01\", \"X\", .250, \"F\",Frate))         # move X away from part\n",
    "X02 <- paste(X02, collapes = \" \")\n",
    "X02\n",
    "str(X02)\n",
    "\n",
    "Z02 <- print(paste(\"G00\", \"Z\", 0.00 ))                    # move Z back to start position \n",
    "Z02 <- paste(Z02, collapes = \"\\n\")\n",
    "Z02"
   ]
  },
  {
   "cell_type": "code",
   "execution_count": null,
   "id": "f635ee63-a9a5-4608-bd16-75a85084ec57",
   "metadata": {},
   "outputs": [],
   "source": []
  },
  {
   "cell_type": "code",
   "execution_count": null,
   "id": "74fdeb83-64fc-4808-b7b0-4d1a854e1220",
   "metadata": {},
   "outputs": [],
   "source": [
    "STOP\n",
    "# Some futile efforts using dfs and some practive using rbind() below"
   ]
  },
  {
   "cell_type": "code",
   "execution_count": null,
   "id": "fdf3e518-9086-42d3-bb4f-2ac5aa2831da",
   "metadata": {},
   "outputs": [],
   "source": []
  },
  {
   "cell_type": "code",
   "execution_count": null,
   "id": "21ae1ad7-59de-4b62-a3b0-5c9d5f4a8a4f",
   "metadata": {},
   "outputs": [],
   "source": []
  },
  {
   "cell_type": "code",
   "execution_count": null,
   "id": "c65f048d-41bf-44ca-9de6-5871645e55cc",
   "metadata": {},
   "outputs": [],
   "source": [
    "library(dplyr)"
   ]
  },
  {
   "cell_type": "markdown",
   "id": "03532d1d-f298-4fcc-ac8a-a33c9a0ff377",
   "metadata": {},
   "source": [
    "## No go"
   ]
  },
  {
   "cell_type": "code",
   "execution_count": null,
   "id": "81756a59-dc1e-4383-b4f0-5e036aa81fd4",
   "metadata": {},
   "outputs": [],
   "source": [
    "xz_df <- x_df %>% full_join(z_df)\n",
    "head(xz_df)"
   ]
  },
  {
   "cell_type": "code",
   "execution_count": null,
   "id": "9d95bb9b-1249-4f8f-8629-b293e7916992",
   "metadata": {},
   "outputs": [],
   "source": []
  },
  {
   "cell_type": "markdown",
   "id": "b5e9005a-929b-4940-9314-3b7750006477",
   "metadata": {},
   "source": [
    "### Practicing with rbind"
   ]
  },
  {
   "cell_type": "code",
   "execution_count": null,
   "id": "cfc2cfaf-de91-4ab5-895f-56e626834d03",
   "metadata": {
    "tags": []
   },
   "outputs": [],
   "source": [
    "# Necessary practice to familiarize with rbind( )\n",
    "a <- rbind(5:8)\n",
    "b <- rbind(15:18)\n",
    "a\n",
    "b\n",
    "L <- rbind(letters[1:4])\n",
    "L\n",
    "\n",
    "c <- rbind(a,b,L)\n",
    "c\n",
    "str(c)\n",
    "\n",
    "df <- data.frame(c)\n",
    "colnames(df) <- c(\"Alpha\", \"Bravo\", \"Charlie\", \"Delta\")\n",
    "df\n",
    "\n",
    "# d <- \"G "
   ]
  },
  {
   "cell_type": "markdown",
   "id": "ca0bc3d7-6436-46ac-a81b-8c01148aad87",
   "metadata": {},
   "source": [
    "### Practice with i = 1.  Will use loop to complete full mesh of x_df & z_df"
   ]
  },
  {
   "cell_type": "code",
   "execution_count": null,
   "id": "c9a727e2-5f27-44ec-9c65-3c5560a6fffa",
   "metadata": {},
   "outputs": [],
   "source": [
    "# Get the X string data\n",
    "a <- as.list(rbind(x_df$Axis[1], x_df$Pos[1]))\n",
    "a\n",
    "a <- paste(a, collapse = \" \")\n",
    "a\n"
   ]
  },
  {
   "cell_type": "code",
   "execution_count": null,
   "id": "91007c0f-9938-4bc2-90d3-29c4e3bce846",
   "metadata": {},
   "outputs": [],
   "source": [
    "# get the Z string data\n",
    "b <- as.list(rbind(z_df$Axis[1], z_df$Pos[1]))\n",
    "b\n",
    "b <- paste(b, collapse = \" \")\n",
    "b"
   ]
  },
  {
   "cell_type": "code",
   "execution_count": null,
   "id": "5bb666c6-a510-4245-9f4a-83e0aa63b74a",
   "metadata": {},
   "outputs": [],
   "source": []
  },
  {
   "cell_type": "markdown",
   "id": "14067fd8-f13f-48de-943f-40c8765c5522",
   "metadata": {},
   "source": [
    "## Use loop to accomplish the same with all the data from x_df / z_df"
   ]
  },
  {
   "cell_type": "code",
   "execution_count": null,
   "id": "8a8e30d2-6d0a-4f75-8213-bfad18bb8de9",
   "metadata": {},
   "outputs": [],
   "source": [
    "# There must be equal numbers of rows in each df\n",
    "nrow(x_df)\n",
    "nrow(z_df)"
   ]
  },
  {
   "cell_type": "code",
   "execution_count": null,
   "id": "21a523f1-a265-45f2-b0d1-9f951029d920",
   "metadata": {},
   "outputs": [],
   "source": [
    "a <- as.list(rbind(x_df$Axis[1], x_df$Pos[1]))\n",
    "a\n",
    "a <- paste(a, collapse = \" \")\n",
    "a\n"
   ]
  },
  {
   "cell_type": "code",
   "execution_count": null,
   "id": "d1c95748-13b4-453b-a79c-6f3835f90ba3",
   "metadata": {},
   "outputs": [],
   "source": []
  },
  {
   "cell_type": "code",
   "execution_count": null,
   "id": "091e53b2-def8-442f-8e03-720f389f15c9",
   "metadata": {},
   "outputs": [],
   "source": []
  },
  {
   "cell_type": "code",
   "execution_count": null,
   "id": "1760df77-7b55-47b6-b645-dbbccaaeab11",
   "metadata": {},
   "outputs": [],
   "source": [
    "# Create an empty dataframe with 2 columns\n",
    "undefined_df <- data.frame(matrix(nrow = 0, ncol = 1))\n",
    "\n",
    "# Print the undefined dataframe\n",
    "print(undefined_df)\n"
   ]
  },
  {
   "cell_type": "code",
   "execution_count": null,
   "id": "c0d098df-7b82-4e99-bb44-6a3d97faa4fc",
   "metadata": {},
   "outputs": [],
   "source": [
    "empty_df <- data.frame(Axis = character(0), Pos = character(0))"
   ]
  },
  {
   "cell_type": "code",
   "execution_count": null,
   "id": "713d9498-5425-47b4-8c4b-2828ad8d3029",
   "metadata": {},
   "outputs": [],
   "source": [
    "empty_df   #  Wrong way ... don't want two columns AGAIN"
   ]
  },
  {
   "cell_type": "code",
   "execution_count": null,
   "id": "1ede55d0-01e9-412f-952b-b47847a3fb68",
   "metadata": {},
   "outputs": [],
   "source": []
  },
  {
   "cell_type": "markdown",
   "id": "a421c2c5-875d-4360-9bfe-a8afb2642840",
   "metadata": {},
   "source": [
    "### Go back to working with strings"
   ]
  },
  {
   "cell_type": "code",
   "execution_count": null,
   "id": "c4d3aded-cb4b-4d09-9ed0-489e3abcdef8",
   "metadata": {},
   "outputs": [],
   "source": [
    "empty_df <- as.list(paste(x_df$Axis[1], x_df$Pos[1]))"
   ]
  },
  {
   "cell_type": "code",
   "execution_count": null,
   "id": "e2533dc1-5269-4202-afe0-47cc63f7bdbf",
   "metadata": {},
   "outputs": [],
   "source": [
    "empty_df\n",
    "str(empty_df)"
   ]
  },
  {
   "cell_type": "code",
   "execution_count": null,
   "id": "703e1b66-6366-4607-86da-b88de3c808b7",
   "metadata": {},
   "outputs": [],
   "source": [
    "new_data <- paste(z_df$Axis[1], z_df$Pos[1])\n",
    "new_data"
   ]
  },
  {
   "cell_type": "markdown",
   "id": "21241ed4-90f1-4652-9fd4-94ecefcb3c61",
   "metadata": {},
   "source": [
    "## Use append() to add to an existing list"
   ]
  },
  {
   "cell_type": "code",
   "execution_count": null,
   "id": "2e2252ef-d1d1-47ed-af51-731e2d07fca9",
   "metadata": {},
   "outputs": [],
   "source": [
    "inclusive_list <- append(empty_df, list(new_data), after = length(empty_df))"
   ]
  },
  {
   "cell_type": "code",
   "execution_count": null,
   "id": "dcfbcc44-1771-4a53-ab07-f8b46a54a5e9",
   "metadata": {},
   "outputs": [],
   "source": [
    "inclusive_list  #  This looks promising"
   ]
  },
  {
   "cell_type": "markdown",
   "id": "469745ce-16dd-427e-8097-6a787a3cad91",
   "metadata": {},
   "source": [
    "## Got it w/in a few lines of code using list"
   ]
  },
  {
   "cell_type": "code",
   "execution_count": null,
   "id": "5f54bc96-de4e-4d17-aaec-98486be04656",
   "metadata": {},
   "outputs": [],
   "source": [
    "str(inclusive_list)"
   ]
  },
  {
   "cell_type": "code",
   "execution_count": null,
   "id": "b6d5e5a2-5471-428b-9d51-acb8cba556fb",
   "metadata": {},
   "outputs": [],
   "source": []
  },
  {
   "cell_type": "code",
   "execution_count": null,
   "id": "7650f52e-c891-4dbf-a229-1ad06d1d1e3d",
   "metadata": {},
   "outputs": [],
   "source": [
    "# Wrong way ... don't want to combine into one row\n",
    "\n",
    "inclusive_list <- paste(inclusive_list, collapse = \" \")  \n",
    "inclusive_list"
   ]
  },
  {
   "cell_type": "code",
   "execution_count": null,
   "id": "adff31c0-c4d6-48c8-9c23-e272ddce3c10",
   "metadata": {},
   "outputs": [],
   "source": []
  },
  {
   "cell_type": "markdown",
   "id": "4f97a95c-a051-48e7-8101-c93c59f6a43f",
   "metadata": {},
   "source": []
  },
  {
   "cell_type": "code",
   "execution_count": null,
   "id": "62877bc3-a893-4902-8e84-6b3349b3c332",
   "metadata": {},
   "outputs": [],
   "source": []
  },
  {
   "cell_type": "code",
   "execution_count": null,
   "id": "2d3adf95-34c7-46f5-9aa0-68d708465982",
   "metadata": {},
   "outputs": [],
   "source": [
    "# Try to convert the complete list to df\n",
    "inclusive_df <- data.frame(inclusive_list)"
   ]
  },
  {
   "cell_type": "code",
   "execution_count": null,
   "id": "b1046d19-2aad-4f70-bd18-352fcc70c46f",
   "metadata": {},
   "outputs": [],
   "source": [
    "# wrong way again\n",
    "inclusive_df"
   ]
  },
  {
   "cell_type": "code",
   "execution_count": null,
   "id": "d9483226-da11-4688-923f-030ad6182db1",
   "metadata": {},
   "outputs": [],
   "source": []
  },
  {
   "cell_type": "code",
   "execution_count": null,
   "id": "a087b0a2-be80-425c-b9b8-163cfc762170",
   "metadata": {},
   "outputs": [],
   "source": [
    "# Copilot \n",
    "my_list <- list(A = c(1, 2, 3), B = c(\"a\", \"b\", \"c\"))  # Example list\n",
    "my_list\n",
    "str(my_list)\n",
    "\n",
    "my_df <- as.data.frame(my_list)  # Convert list to dataframe\n",
    "my_df"
   ]
  },
  {
   "cell_type": "code",
   "execution_count": null,
   "id": "6aff4c32-b44c-48f4-8f84-10c2528bc40a",
   "metadata": {},
   "outputs": [],
   "source": []
  },
  {
   "cell_type": "code",
   "execution_count": null,
   "id": "4dafef43-625f-4395-b2c2-48f03d29ad81",
   "metadata": {},
   "outputs": [],
   "source": [
    "# Existing list\n",
    "existing_list <- list(\"a\", \"b\", \"c\")\n",
    "\n",
    "# Data to add\n",
    "data_to_add <- \"d\"\n",
    "\n",
    "# Adding data to the existing list using append()\n",
    "updated_list <- append(existing_list, list(data_to_add), after = length(existing_list))\n",
    "\n",
    "# Display the updated list\n",
    "print(updated_list)"
   ]
  },
  {
   "cell_type": "code",
   "execution_count": null,
   "id": "8cb347c4-6474-42cd-987b-e591c00353c1",
   "metadata": {},
   "outputs": [],
   "source": []
  },
  {
   "cell_type": "code",
   "execution_count": null,
   "id": "5114aa48-199e-4e22-9e5c-db8b214091a6",
   "metadata": {},
   "outputs": [],
   "source": []
  },
  {
   "cell_type": "code",
   "execution_count": null,
   "id": "ec71b33c-2340-4c85-90ab-ad9de9e6a59f",
   "metadata": {},
   "outputs": [],
   "source": []
  },
  {
   "cell_type": "code",
   "execution_count": null,
   "id": "be90bcfc-6295-4ab9-bcc6-0ae95c6beefc",
   "metadata": {},
   "outputs": [],
   "source": []
  },
  {
   "cell_type": "code",
   "execution_count": null,
   "id": "1dadd610-9447-4ef4-8467-01065b079dbc",
   "metadata": {},
   "outputs": [],
   "source": []
  }
 ],
 "metadata": {
  "kernelspec": {
   "display_name": "R",
   "language": "R",
   "name": "ir"
  },
  "language_info": {
   "codemirror_mode": "r",
   "file_extension": ".r",
   "mimetype": "text/x-r-source",
   "name": "R",
   "pygments_lexer": "r",
   "version": "4.3.0"
  }
 },
 "nbformat": 4,
 "nbformat_minor": 5
}
