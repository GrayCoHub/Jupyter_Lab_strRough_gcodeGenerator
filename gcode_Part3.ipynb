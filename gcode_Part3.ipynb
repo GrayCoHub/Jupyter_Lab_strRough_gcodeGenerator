{
 "cells": [
  {
   "cell_type": "code",
   "execution_count": null,
   "id": "04d88472-86bb-45fc-a627-9fa626c1de7b",
   "metadata": {},
   "outputs": [],
   "source": []
  },
  {
   "cell_type": "markdown",
   "id": "734dd100-a522-4a26-a32f-bbb0fa273e37",
   "metadata": {},
   "source": [
    "### This file outputs the file named: roughing_profile.ngc"
   ]
  },
  {
   "cell_type": "markdown",
   "id": "6319910b-b386-4086-b718-d44514ff3edc",
   "metadata": {},
   "source": [
    "## This is the third notebook file in processing the gcode\n",
    "\n",
    "    1- gcode_DRO-WorkingOriginal.ipynb\n",
    "    2. gcode_Part2.ipynb\n",
    "    \n",
    "    And there is also a partially finished Plot_gcode.ipynb file\n",
    "    \n",
    "### This file will create the long-form of the gcode for each of the 4 roughing moves\n",
    "\n",
    "\n",
    "##### It is important to track the number of moves, there are 32 so far, and there will be 33 new moves"
   ]
  },
  {
   "cell_type": "code",
   "execution_count": null,
   "id": "7a35a0ed-4e4c-431b-b6b4-0939df2acd2b",
   "metadata": {},
   "outputs": [],
   "source": []
  },
  {
   "cell_type": "code",
   "execution_count": 1,
   "id": "3fbee706-80ca-4672-a127-584ca8feb89d",
   "metadata": {
    "jupyter": {
     "source_hidden": true
    },
    "tags": []
   },
   "outputs": [
    {
     "data": {
      "text/html": [
       "<table class=\"dataframe\">\n",
       "<caption>A data.frame: 6 × 1</caption>\n",
       "<thead>\n",
       "\t<tr><th></th><th scope=col>Pos</th></tr>\n",
       "\t<tr><th></th><th scope=col>&lt;chr&gt;</th></tr>\n",
       "</thead>\n",
       "<tbody>\n",
       "\t<tr><th scope=row>1</th><td>X 0.4925</td></tr>\n",
       "\t<tr><th scope=row>2</th><td>Z -1    </td></tr>\n",
       "\t<tr><th scope=row>3</th><td>X 0.4775</td></tr>\n",
       "\t<tr><th scope=row>4</th><td>Z -1    </td></tr>\n",
       "\t<tr><th scope=row>5</th><td>X 0.4625</td></tr>\n",
       "\t<tr><th scope=row>6</th><td>Z -1    </td></tr>\n",
       "</tbody>\n",
       "</table>\n"
      ],
      "text/latex": [
       "A data.frame: 6 × 1\n",
       "\\begin{tabular}{r|l}\n",
       "  & Pos\\\\\n",
       "  & <chr>\\\\\n",
       "\\hline\n",
       "\t1 & X 0.4925\\\\\n",
       "\t2 & Z -1    \\\\\n",
       "\t3 & X 0.4775\\\\\n",
       "\t4 & Z -1    \\\\\n",
       "\t5 & X 0.4625\\\\\n",
       "\t6 & Z -1    \\\\\n",
       "\\end{tabular}\n"
      ],
      "text/markdown": [
       "\n",
       "A data.frame: 6 × 1\n",
       "\n",
       "| <!--/--> | Pos &lt;chr&gt; |\n",
       "|---|---|\n",
       "| 1 | X 0.4925 |\n",
       "| 2 | Z -1     |\n",
       "| 3 | X 0.4775 |\n",
       "| 4 | Z -1     |\n",
       "| 5 | X 0.4625 |\n",
       "| 6 | Z -1     |\n",
       "\n"
      ],
      "text/plain": [
       "  Pos     \n",
       "1 X 0.4925\n",
       "2 Z -1    \n",
       "3 X 0.4775\n",
       "4 Z -1    \n",
       "5 X 0.4625\n",
       "6 Z -1    "
      ]
     },
     "metadata": {},
     "output_type": "display_data"
    },
    {
     "data": {
      "text/html": [
       "<table class=\"dataframe\">\n",
       "<caption>A data.frame: 6 × 1</caption>\n",
       "<thead>\n",
       "\t<tr><th></th><th scope=col>Pos</th></tr>\n",
       "\t<tr><th></th><th scope=col>&lt;chr&gt;</th></tr>\n",
       "</thead>\n",
       "<tbody>\n",
       "\t<tr><th scope=row>27</th><td>X 0.2975</td></tr>\n",
       "\t<tr><th scope=row>28</th><td>Z -1    </td></tr>\n",
       "\t<tr><th scope=row>29</th><td>X 0.2825</td></tr>\n",
       "\t<tr><th scope=row>30</th><td>Z -1    </td></tr>\n",
       "\t<tr><th scope=row>31</th><td>X 0.2545</td></tr>\n",
       "\t<tr><th scope=row>32</th><td>Z -1    </td></tr>\n",
       "</tbody>\n",
       "</table>\n"
      ],
      "text/latex": [
       "A data.frame: 6 × 1\n",
       "\\begin{tabular}{r|l}\n",
       "  & Pos\\\\\n",
       "  & <chr>\\\\\n",
       "\\hline\n",
       "\t27 & X 0.2975\\\\\n",
       "\t28 & Z -1    \\\\\n",
       "\t29 & X 0.2825\\\\\n",
       "\t30 & Z -1    \\\\\n",
       "\t31 & X 0.2545\\\\\n",
       "\t32 & Z -1    \\\\\n",
       "\\end{tabular}\n"
      ],
      "text/markdown": [
       "\n",
       "A data.frame: 6 × 1\n",
       "\n",
       "| <!--/--> | Pos &lt;chr&gt; |\n",
       "|---|---|\n",
       "| 27 | X 0.2975 |\n",
       "| 28 | Z -1     |\n",
       "| 29 | X 0.2825 |\n",
       "| 30 | Z -1     |\n",
       "| 31 | X 0.2545 |\n",
       "| 32 | Z -1     |\n",
       "\n"
      ],
      "text/plain": [
       "   Pos     \n",
       "27 X 0.2975\n",
       "28 Z -1    \n",
       "29 X 0.2825\n",
       "30 Z -1    \n",
       "31 X 0.2545\n",
       "32 Z -1    "
      ]
     },
     "metadata": {},
     "output_type": "display_data"
    }
   ],
   "source": [
    "# Read the data from the existing .csv file\n",
    "gcode2 <- read.csv(\"gcode_file2.csv\", header = T)\n",
    "head(gcode2)\n",
    "tail(gcode2)    # There are actualy only 32 moves - not 34"
   ]
  },
  {
   "cell_type": "code",
   "execution_count": null,
   "id": "022ade47-d5b6-4e2f-98b5-b940c9646176",
   "metadata": {},
   "outputs": [],
   "source": []
  },
  {
   "cell_type": "markdown",
   "id": "55617f94-2b1f-45f8-96c4-c1a09f42754c",
   "metadata": {
    "tags": []
   },
   "source": [
    "### Will also need to read the data from the first .csv file created by gcode_DRO "
   ]
  },
  {
   "cell_type": "code",
   "execution_count": 2,
   "id": "d5a427a2-8db6-4667-9c2d-7a705202dcdf",
   "metadata": {
    "jupyter": {
     "source_hidden": true
    },
    "tags": []
   },
   "outputs": [
    {
     "data": {
      "text/html": [
       "<table class=\"dataframe\">\n",
       "<caption>A data.frame: 3 × 2</caption>\n",
       "<thead>\n",
       "\t<tr><th></th><th scope=col>X</th><th scope=col>Z</th></tr>\n",
       "\t<tr><th></th><th scope=col>&lt;dbl&gt;</th><th scope=col>&lt;int&gt;</th></tr>\n",
       "</thead>\n",
       "<tbody>\n",
       "\t<tr><th scope=row>1</th><td>0.4925</td><td>-1</td></tr>\n",
       "\t<tr><th scope=row>2</th><td>0.4775</td><td>-1</td></tr>\n",
       "\t<tr><th scope=row>3</th><td>0.4625</td><td>-1</td></tr>\n",
       "</tbody>\n",
       "</table>\n"
      ],
      "text/latex": [
       "A data.frame: 3 × 2\n",
       "\\begin{tabular}{r|ll}\n",
       "  & X & Z\\\\\n",
       "  & <dbl> & <int>\\\\\n",
       "\\hline\n",
       "\t1 & 0.4925 & -1\\\\\n",
       "\t2 & 0.4775 & -1\\\\\n",
       "\t3 & 0.4625 & -1\\\\\n",
       "\\end{tabular}\n"
      ],
      "text/markdown": [
       "\n",
       "A data.frame: 3 × 2\n",
       "\n",
       "| <!--/--> | X &lt;dbl&gt; | Z &lt;int&gt; |\n",
       "|---|---|---|\n",
       "| 1 | 0.4925 | -1 |\n",
       "| 2 | 0.4775 | -1 |\n",
       "| 3 | 0.4625 | -1 |\n",
       "\n"
      ],
      "text/plain": [
       "  X      Z \n",
       "1 0.4925 -1\n",
       "2 0.4775 -1\n",
       "3 0.4625 -1"
      ]
     },
     "metadata": {},
     "output_type": "display_data"
    }
   ],
   "source": [
    "# Read the data from the existing .csv file\n",
    "gcode1 <- read.csv(\"gcode_file.csv\", header = T)\n",
    "head(gcode1, 3)"
   ]
  },
  {
   "cell_type": "markdown",
   "id": "b2e01e17-448e-467c-84fc-da90bc83d533",
   "metadata": {
    "tags": []
   },
   "source": [
    "### Need to use the gcode1 df to create X and Z df's"
   ]
  },
  {
   "cell_type": "code",
   "execution_count": 3,
   "id": "1d0c141d-815d-4916-a84e-1b249a233c88",
   "metadata": {
    "jupyter": {
     "source_hidden": true
    },
    "tags": []
   },
   "outputs": [
    {
     "data": {
      "text/html": [
       "<table class=\"dataframe\">\n",
       "<caption>A data.frame: 6 × 2</caption>\n",
       "<thead>\n",
       "\t<tr><th></th><th scope=col>Axis</th><th scope=col>Pos</th></tr>\n",
       "\t<tr><th></th><th scope=col>&lt;chr&gt;</th><th scope=col>&lt;dbl&gt;</th></tr>\n",
       "</thead>\n",
       "<tbody>\n",
       "\t<tr><th scope=row>1</th><td>X</td><td>0.4925</td></tr>\n",
       "\t<tr><th scope=row>2</th><td>X</td><td>0.4775</td></tr>\n",
       "\t<tr><th scope=row>3</th><td>X</td><td>0.4625</td></tr>\n",
       "\t<tr><th scope=row>4</th><td>X</td><td>0.4475</td></tr>\n",
       "\t<tr><th scope=row>5</th><td>X</td><td>0.4325</td></tr>\n",
       "\t<tr><th scope=row>6</th><td>X</td><td>0.4175</td></tr>\n",
       "</tbody>\n",
       "</table>\n"
      ],
      "text/latex": [
       "A data.frame: 6 × 2\n",
       "\\begin{tabular}{r|ll}\n",
       "  & Axis & Pos\\\\\n",
       "  & <chr> & <dbl>\\\\\n",
       "\\hline\n",
       "\t1 & X & 0.4925\\\\\n",
       "\t2 & X & 0.4775\\\\\n",
       "\t3 & X & 0.4625\\\\\n",
       "\t4 & X & 0.4475\\\\\n",
       "\t5 & X & 0.4325\\\\\n",
       "\t6 & X & 0.4175\\\\\n",
       "\\end{tabular}\n"
      ],
      "text/markdown": [
       "\n",
       "A data.frame: 6 × 2\n",
       "\n",
       "| <!--/--> | Axis &lt;chr&gt; | Pos &lt;dbl&gt; |\n",
       "|---|---|---|\n",
       "| 1 | X | 0.4925 |\n",
       "| 2 | X | 0.4775 |\n",
       "| 3 | X | 0.4625 |\n",
       "| 4 | X | 0.4475 |\n",
       "| 5 | X | 0.4325 |\n",
       "| 6 | X | 0.4175 |\n",
       "\n"
      ],
      "text/plain": [
       "  Axis Pos   \n",
       "1 X    0.4925\n",
       "2 X    0.4775\n",
       "3 X    0.4625\n",
       "4 X    0.4475\n",
       "5 X    0.4325\n",
       "6 X    0.4175"
      ]
     },
     "metadata": {},
     "output_type": "display_data"
    },
    {
     "data": {
      "text/html": [
       "<table class=\"dataframe\">\n",
       "<caption>A data.frame: 6 × 2</caption>\n",
       "<thead>\n",
       "\t<tr><th></th><th scope=col>Axis</th><th scope=col>Pos</th></tr>\n",
       "\t<tr><th></th><th scope=col>&lt;chr&gt;</th><th scope=col>&lt;int&gt;</th></tr>\n",
       "</thead>\n",
       "<tbody>\n",
       "\t<tr><th scope=row>1</th><td>Z</td><td>-1</td></tr>\n",
       "\t<tr><th scope=row>2</th><td>Z</td><td>-1</td></tr>\n",
       "\t<tr><th scope=row>3</th><td>Z</td><td>-1</td></tr>\n",
       "\t<tr><th scope=row>4</th><td>Z</td><td>-1</td></tr>\n",
       "\t<tr><th scope=row>5</th><td>Z</td><td>-1</td></tr>\n",
       "\t<tr><th scope=row>6</th><td>Z</td><td>-1</td></tr>\n",
       "</tbody>\n",
       "</table>\n"
      ],
      "text/latex": [
       "A data.frame: 6 × 2\n",
       "\\begin{tabular}{r|ll}\n",
       "  & Axis & Pos\\\\\n",
       "  & <chr> & <int>\\\\\n",
       "\\hline\n",
       "\t1 & Z & -1\\\\\n",
       "\t2 & Z & -1\\\\\n",
       "\t3 & Z & -1\\\\\n",
       "\t4 & Z & -1\\\\\n",
       "\t5 & Z & -1\\\\\n",
       "\t6 & Z & -1\\\\\n",
       "\\end{tabular}\n"
      ],
      "text/markdown": [
       "\n",
       "A data.frame: 6 × 2\n",
       "\n",
       "| <!--/--> | Axis &lt;chr&gt; | Pos &lt;int&gt; |\n",
       "|---|---|---|\n",
       "| 1 | Z | -1 |\n",
       "| 2 | Z | -1 |\n",
       "| 3 | Z | -1 |\n",
       "| 4 | Z | -1 |\n",
       "| 5 | Z | -1 |\n",
       "| 6 | Z | -1 |\n",
       "\n"
      ],
      "text/plain": [
       "  Axis Pos\n",
       "1 Z    -1 \n",
       "2 Z    -1 \n",
       "3 Z    -1 \n",
       "4 Z    -1 \n",
       "5 Z    -1 \n",
       "6 Z    -1 "
      ]
     },
     "metadata": {},
     "output_type": "display_data"
    }
   ],
   "source": [
    "# It's critical to have common column names in both df's\n",
    "\n",
    "x_df <- data.frame(Axis = \"X\", gcode1$X)  # get the x values\n",
    "z_df <- data.frame(Axis = \"Z\", gcode1$Z)  # get the Z values\n",
    "\n",
    "colnames(x_df) <- c(\"Axis\", \"Pos\")   # change and give common column names to both df's\n",
    "colnames(z_df) <- c(\"Axis\", \"Pos\")\n",
    "\n",
    "\n",
    "head(x_df)\n",
    "head(z_df)"
   ]
  },
  {
   "cell_type": "code",
   "execution_count": null,
   "id": "7fcfa0be-f47c-43fd-b5c0-2392a578f916",
   "metadata": {},
   "outputs": [],
   "source": []
  },
  {
   "cell_type": "code",
   "execution_count": 4,
   "id": "9f044adb-ce40-4e88-9956-7210b0919e30",
   "metadata": {
    "jupyter": {
     "source_hidden": true
    },
    "tags": []
   },
   "outputs": [],
   "source": [
    "myDf_x01 <- data.frame(Pos = character(0))\n",
    "\n",
    "\n",
    "#  theCode <- c()\n",
    "Frate <- 4\n",
    "\n",
    "for(i in 1:nrow(gcode2)) {\n",
    "    var <- gcode2$Pos[i]\n",
    "    #print(i)\n",
    "    X01 <- paste(\"G01\", var, \"F\",Frate)  # move X into cutting depth\n",
    "    #print(X01)\n",
    "    myDf_x01 <- rbind(myDf_x01, X01)\n",
    "    }\n",
    "#  head(myDf_x01,3)    # Looks good!\n",
    "\n",
    "# Change column name\n",
    "\n",
    "colnames(myDf_x01) <- \"Code\"\n",
    "# head(myDf_x01)"
   ]
  },
  {
   "cell_type": "code",
   "execution_count": null,
   "id": "1b9242ad-44da-4af7-90eb-90700807040b",
   "metadata": {},
   "outputs": [],
   "source": []
  },
  {
   "cell_type": "code",
   "execution_count": 5,
   "id": "2aa263d1-10a0-4c3d-9062-b4c493c9156f",
   "metadata": {
    "jupyter": {
     "source_hidden": true
    },
    "tags": []
   },
   "outputs": [],
   "source": [
    "myDf_x02 <- data.frame(Pos = character(0))\n",
    "\n",
    "Frate <- 4\n",
    "\n",
    "for(i in 1:nrow(gcode2)) {\n",
    "    #print(i)\n",
    "    X02 <-  paste(\"G01\", \"X\", .250, \"F\",Frate)\n",
    "    myDf_x02 <- rbind(myDf_x02, X02)\n",
    "    }\n",
    "# head(myDf_x02,3)    # Looks good"
   ]
  },
  {
   "cell_type": "markdown",
   "id": "50aefad9-16cc-423a-b905-ba6e09045e43",
   "metadata": {
    "tags": []
   },
   "source": [
    "#### Rename and get the column names in both dfs common\n"
   ]
  },
  {
   "cell_type": "code",
   "execution_count": null,
   "id": "bab9f8b1-dc8f-47a4-aa96-2fd3258b8b63",
   "metadata": {},
   "outputs": [],
   "source": []
  },
  {
   "cell_type": "code",
   "execution_count": 6,
   "id": "40074b33-4fb6-4e2f-960a-16b4e7a2c35c",
   "metadata": {
    "jupyter": {
     "source_hidden": true
    },
    "tags": []
   },
   "outputs": [
    {
     "data": {
      "text/html": [
       "<table class=\"dataframe\">\n",
       "<caption>A data.frame: 3 × 1</caption>\n",
       "<thead>\n",
       "\t<tr><th></th><th scope=col>Code</th></tr>\n",
       "\t<tr><th></th><th scope=col>&lt;chr&gt;</th></tr>\n",
       "</thead>\n",
       "<tbody>\n",
       "\t<tr><th scope=row>1</th><td>G01 X 0.25 F 4</td></tr>\n",
       "\t<tr><th scope=row>2</th><td>G01 X 0.25 F 4</td></tr>\n",
       "\t<tr><th scope=row>3</th><td>G01 X 0.25 F 4</td></tr>\n",
       "</tbody>\n",
       "</table>\n"
      ],
      "text/latex": [
       "A data.frame: 3 × 1\n",
       "\\begin{tabular}{r|l}\n",
       "  & Code\\\\\n",
       "  & <chr>\\\\\n",
       "\\hline\n",
       "\t1 & G01 X 0.25 F 4\\\\\n",
       "\t2 & G01 X 0.25 F 4\\\\\n",
       "\t3 & G01 X 0.25 F 4\\\\\n",
       "\\end{tabular}\n"
      ],
      "text/markdown": [
       "\n",
       "A data.frame: 3 × 1\n",
       "\n",
       "| <!--/--> | Code &lt;chr&gt; |\n",
       "|---|---|\n",
       "| 1 | G01 X 0.25 F 4 |\n",
       "| 2 | G01 X 0.25 F 4 |\n",
       "| 3 | G01 X 0.25 F 4 |\n",
       "\n"
      ],
      "text/plain": [
       "  Code          \n",
       "1 G01 X 0.25 F 4\n",
       "2 G01 X 0.25 F 4\n",
       "3 G01 X 0.25 F 4"
      ]
     },
     "metadata": {},
     "output_type": "display_data"
    },
    {
     "data": {
      "text/html": [
       "<table class=\"dataframe\">\n",
       "<caption>A data.frame: 3 × 1</caption>\n",
       "<thead>\n",
       "\t<tr><th></th><th scope=col>Code</th></tr>\n",
       "\t<tr><th></th><th scope=col>&lt;chr&gt;</th></tr>\n",
       "</thead>\n",
       "<tbody>\n",
       "\t<tr><th scope=row>1</th><td>G01 X 0.4925 F 4</td></tr>\n",
       "\t<tr><th scope=row>2</th><td>G01 Z -1 F 4    </td></tr>\n",
       "\t<tr><th scope=row>3</th><td>G01 X 0.4775 F 4</td></tr>\n",
       "</tbody>\n",
       "</table>\n"
      ],
      "text/latex": [
       "A data.frame: 3 × 1\n",
       "\\begin{tabular}{r|l}\n",
       "  & Code\\\\\n",
       "  & <chr>\\\\\n",
       "\\hline\n",
       "\t1 & G01 X 0.4925 F 4\\\\\n",
       "\t2 & G01 Z -1 F 4    \\\\\n",
       "\t3 & G01 X 0.4775 F 4\\\\\n",
       "\\end{tabular}\n"
      ],
      "text/markdown": [
       "\n",
       "A data.frame: 3 × 1\n",
       "\n",
       "| <!--/--> | Code &lt;chr&gt; |\n",
       "|---|---|\n",
       "| 1 | G01 X 0.4925 F 4 |\n",
       "| 2 | G01 Z -1 F 4     |\n",
       "| 3 | G01 X 0.4775 F 4 |\n",
       "\n"
      ],
      "text/plain": [
       "  Code            \n",
       "1 G01 X 0.4925 F 4\n",
       "2 G01 Z -1 F 4    \n",
       "3 G01 X 0.4775 F 4"
      ]
     },
     "metadata": {},
     "output_type": "display_data"
    }
   ],
   "source": [
    "colnames(myDf_x02) <- \"Code\"\n",
    "head(myDf_x02, 3)\n",
    "head(myDf_x01, 3)"
   ]
  },
  {
   "cell_type": "code",
   "execution_count": null,
   "id": "eb4b07db-5bc7-4bca-a24a-a0a48c6fb84e",
   "metadata": {},
   "outputs": [],
   "source": []
  },
  {
   "cell_type": "code",
   "execution_count": 7,
   "id": "719e3186-8c31-4bba-9a48-88a7f0d3d997",
   "metadata": {
    "jupyter": {
     "source_hidden": true
    },
    "tags": []
   },
   "outputs": [],
   "source": [
    "thirdPos <- seq(0, 38, by = 3)\n",
    "# thirdPos\n",
    "# str(thirdPos)"
   ]
  },
  {
   "cell_type": "code",
   "execution_count": 8,
   "id": "48bc86d3-403e-4a5a-8b6a-e6a623ceec5d",
   "metadata": {
    "jupyter": {
     "source_hidden": true
    },
    "tags": []
   },
   "outputs": [],
   "source": [
    "thirdPos <- c(3,6,9,12,15,18,21,24,27,30,33,36)    # Remove the zero\n",
    "# str(thirdPos)"
   ]
  },
  {
   "cell_type": "code",
   "execution_count": 9,
   "id": "4174ad6a-bde5-4942-9758-bc61d4a2e9a4",
   "metadata": {
    "jupyter": {
     "source_hidden": true
    },
    "tags": []
   },
   "outputs": [
    {
     "name": "stdout",
     "output_type": "stream",
     "text": [
      "[1] 3\n",
      "[1] 6\n",
      "[1] 9\n",
      "[1] 12\n",
      "[1] 15\n",
      "[1] 18\n",
      "[1] 21\n",
      "[1] 24\n",
      "[1] 27\n",
      "[1] 30\n",
      "[1] 33\n",
      "[1] 36\n"
     ]
    }
   ],
   "source": [
    "for(i in thirdPos) {   #  This works when zero is removed from thirdPos \n",
    "    print(i)    \n",
    "    }"
   ]
  },
  {
   "cell_type": "code",
   "execution_count": 10,
   "id": "60ae7866-9e83-4bf4-8a20-d77f7ac32598",
   "metadata": {
    "jupyter": {
     "source_hidden": true
    },
    "tags": []
   },
   "outputs": [],
   "source": [
    "# myDf_x01$Code[1]   # This works because myDf_x01 is a \"named list\"\n",
    "# myDf_x01$Code[2]\n",
    "# myDf_x01$Code[3]"
   ]
  },
  {
   "cell_type": "code",
   "execution_count": 11,
   "id": "95596141-025f-48a9-8679-e4d2b42dd1ff",
   "metadata": {
    "jupyter": {
     "source_hidden": true
    },
    "tags": []
   },
   "outputs": [],
   "source": [
    "positions <- seq(3, nrow(myDf_x01) + nrow(myDf_x01) %/% 3, by = 3)  # copilot code"
   ]
  },
  {
   "cell_type": "code",
   "execution_count": 12,
   "id": "f38fece8-5563-4036-ba60-bbe5f68d0398",
   "metadata": {
    "jupyter": {
     "source_hidden": true
    },
    "tags": []
   },
   "outputs": [
    {
     "data": {
      "text/html": [
       "<style>\n",
       ".list-inline {list-style: none; margin:0; padding: 0}\n",
       ".list-inline>li {display: inline-block}\n",
       ".list-inline>li:not(:last-child)::after {content: \"\\00b7\"; padding: 0 .5ex}\n",
       "</style>\n",
       "<ol class=list-inline><li>3</li><li>6</li><li>9</li><li>12</li><li>15</li><li>18</li><li>21</li><li>24</li><li>27</li><li>30</li><li>33</li><li>36</li><li>39</li><li>42</li></ol>\n"
      ],
      "text/latex": [
       "\\begin{enumerate*}\n",
       "\\item 3\n",
       "\\item 6\n",
       "\\item 9\n",
       "\\item 12\n",
       "\\item 15\n",
       "\\item 18\n",
       "\\item 21\n",
       "\\item 24\n",
       "\\item 27\n",
       "\\item 30\n",
       "\\item 33\n",
       "\\item 36\n",
       "\\item 39\n",
       "\\item 42\n",
       "\\end{enumerate*}\n"
      ],
      "text/markdown": [
       "1. 3\n",
       "2. 6\n",
       "3. 9\n",
       "4. 12\n",
       "5. 15\n",
       "6. 18\n",
       "7. 21\n",
       "8. 24\n",
       "9. 27\n",
       "10. 30\n",
       "11. 33\n",
       "12. 36\n",
       "13. 39\n",
       "14. 42\n",
       "\n",
       "\n"
      ],
      "text/plain": [
       " [1]  3  6  9 12 15 18 21 24 27 30 33 36 39 42"
      ]
     },
     "metadata": {},
     "output_type": "display_data"
    }
   ],
   "source": [
    "positions"
   ]
  },
  {
   "cell_type": "markdown",
   "id": "d4a8542b-c203-4c0c-aa3d-4d470dbf2081",
   "metadata": {},
   "source": [
    "# Input:\n"
   ]
  },
  {
   "cell_type": "code",
   "execution_count": 13,
   "id": "0011c7c3-2174-490f-8ce1-2a82d497b58a",
   "metadata": {
    "jupyter": {
     "source_hidden": true
    },
    "tags": []
   },
   "outputs": [
    {
     "name": "stdin",
     "output_type": "stream",
     "text": [
      "What positive X diameter to retract X. Ex. enter 0.502. After this Input comes Input for Z retract. .502\n"
     ]
    },
    {
     "data": {
      "text/html": [
       "'0.502'"
      ],
      "text/latex": [
       "'0.502'"
      ],
      "text/markdown": [
       "'0.502'"
      ],
      "text/plain": [
       "[1] \"0.502\""
      ]
     },
     "metadata": {},
     "output_type": "display_data"
    }
   ],
   "source": [
    "safety <<- readline(\"What positive X diameter to retract X. Ex. enter 0.502. After this Input comes Input for Z retract.\")\n",
    "    \n",
    "# Convert input strings to numeric values\n",
    "SafeX <- as.numeric(unlist(strsplit(safety, \", \")))\n",
    "SafeX <- format(SafeX, nsmall = 3)\n",
    "SafeX\n"
   ]
  },
  {
   "cell_type": "code",
   "execution_count": 14,
   "id": "e8293226-737b-4de0-902a-7a804926e203",
   "metadata": {
    "jupyter": {
     "source_hidden": true
    },
    "tags": []
   },
   "outputs": [
    {
     "name": "stdout",
     "output_type": "stream",
     "text": [
      "[1] \"G01 X 0.502 F 4\"\n"
     ]
    }
   ],
   "source": [
    "# X retract to safe distance code\n",
    "\n",
    "X02 <-  print(paste(\"G01\", \"X\", SafeX, \"F\",Frate))   # The \"retract\" - line of code to enter after the -Z move\n",
    "# X02\n",
    "# myDf_x01$Code[1:10]   # X02 will be inserted at each third position "
   ]
  },
  {
   "cell_type": "code",
   "execution_count": 15,
   "id": "8770812e-c144-4193-afd6-fb7158881307",
   "metadata": {
    "jupyter": {
     "source_hidden": true
    },
    "tags": []
   },
   "outputs": [],
   "source": [
    "# str(myDf_x01)\n",
    "# str(myDf_x01$Code)  # the df has string data column of the X and Z movements\n",
    "# head(myDf_x01, 2)"
   ]
  },
  {
   "cell_type": "code",
   "execution_count": null,
   "id": "ccf60289-c4c6-4186-902d-e115af6466c4",
   "metadata": {},
   "outputs": [],
   "source": []
  },
  {
   "cell_type": "code",
   "execution_count": 16,
   "id": "eac3f31f-f49a-4046-801a-da0d17d2286d",
   "metadata": {
    "jupyter": {
     "source_hidden": true
    },
    "tags": []
   },
   "outputs": [],
   "source": [
    "Vec01 <- as.list(myDf_x01$Code)  # convert the df to string\n",
    "# Vec01[1:3]\n",
    "\n",
    "#length(myVec)    # is 34 row string"
   ]
  },
  {
   "cell_type": "code",
   "execution_count": 17,
   "id": "127627b8-18dd-46de-8b2f-a1cfc683afda",
   "metadata": {
    "jupyter": {
     "source_hidden": true
    },
    "tags": []
   },
   "outputs": [],
   "source": [
    "repetitions <- readLines(\"repetitions.txt\")\n",
    "# repetitions\n",
    "# str(repetitions)\n",
    "reps <- as.numeric(repetitions)\n",
    "# str(reps)"
   ]
  },
  {
   "cell_type": "code",
   "execution_count": 18,
   "id": "27c9adfa-f642-4a82-bfa9-dcd8fa39980f",
   "metadata": {
    "jupyter": {
     "source_hidden": true
    },
    "tags": []
   },
   "outputs": [],
   "source": [
    "\n",
    "# nrow(gcode1)\n",
    "custom_seq <- seq(0, 51+3, by = 3)\n",
    "# custom_seq\n",
    "# length(custom_seq)\n",
    "custom_seq <- custom_seq[2:16]\n",
    "# custom_seq"
   ]
  },
  {
   "cell_type": "markdown",
   "id": "c09f6090-126d-4161-94d0-b3f44eb1295a",
   "metadata": {
    "tags": []
   },
   "source": [
    "## Got it - using string vectors\n",
    "\n",
    "#### The X01 retract code"
   ]
  },
  {
   "cell_type": "code",
   "execution_count": 19,
   "id": "5e2028b3-2492-4d1f-b65e-e85017cc10ae",
   "metadata": {
    "jupyter": {
     "source_hidden": true
    },
    "tags": []
   },
   "outputs": [
    {
     "data": {
      "text/html": [
       "'G01 X 0.502 F 4'"
      ],
      "text/latex": [
       "'G01 X 0.502 F 4'"
      ],
      "text/markdown": [
       "'G01 X 0.502 F 4'"
      ],
      "text/plain": [
       "[1] \"G01 X 0.502 F 4\""
      ]
     },
     "metadata": {},
     "output_type": "display_data"
    }
   ],
   "source": [
    "# Original character vector\n",
    "original_vector <- Vec01\n",
    "\n",
    "\n",
    "#length(original_vector)\n",
    "# nrow(gcode2)\n",
    "# length(Vec01)\n",
    "# repetitions\n",
    "updatedLength <- length(Vec01) + reps\n",
    "# updatedLength\n",
    "X02"
   ]
  },
  {
   "cell_type": "code",
   "execution_count": 20,
   "id": "2f342846-0ed7-46ac-a7e8-522494ed46f1",
   "metadata": {
    "jupyter": {
     "source_hidden": true
    },
    "tags": []
   },
   "outputs": [],
   "source": [
    "\n",
    "\n",
    "# New character to insert\n",
    "new_character <- X02\n",
    "\n",
    "# Determine the positions to insert the new character\n",
    "# positions <- seq(3, length(original_vector) + length(original_vector) %/% 3, by = 3)\n",
    "  positions <- seq(3, updatedLength + updatedLength %/% 3, by = 3)\n",
    "\n",
    "# Inserting the new character at every third position\n",
    "\n",
    "# for( i in custom_seq) {\n",
    " for (i in positions) {\n",
    "#  for(i in thirdPos) {\n",
    "  original_vector <- c(original_vector[1:(i - 1)], new_character, original_vector[i:length(original_vector)])\n",
    "}\n",
    "\n",
    "# Display the modified vector\n",
    "# original_vector             # this needs 1 more retract move\n",
    "\n",
    "\n",
    "#  This looks odd until the return Z gets included"
   ]
  },
  {
   "cell_type": "code",
   "execution_count": 21,
   "id": "cb4ff1ed-5b8e-4935-80d6-5e973cf4326c",
   "metadata": {
    "jupyter": {
     "source_hidden": true
    },
    "tags": []
   },
   "outputs": [],
   "source": [
    "# length(original_vector)\n",
    "# original_vector[2]"
   ]
  },
  {
   "cell_type": "markdown",
   "id": "84ccaf05-7b59-4aa4-b691-e80577b57257",
   "metadata": {},
   "source": [
    "### Add the Z retract to zero position to the code\n",
    "\n",
    "####  Here, the addition will be G00 Z0.0 (Using Absolute Positioning Mode)"
   ]
  },
  {
   "cell_type": "code",
   "execution_count": null,
   "id": "2bac3d41-1537-46d1-9a84-8f29c6a267da",
   "metadata": {},
   "outputs": [],
   "source": []
  },
  {
   "cell_type": "markdown",
   "id": "b3e2d076-1306-4954-83ab-f0b2eb8e8540",
   "metadata": {},
   "source": [
    "# Input:"
   ]
  },
  {
   "cell_type": "code",
   "execution_count": 22,
   "id": "108b4772-6e9f-4d52-ab49-27b4d7f7b558",
   "metadata": {
    "jupyter": {
     "source_hidden": true
    },
    "tags": []
   },
   "outputs": [
    {
     "name": "stdin",
     "output_type": "stream",
     "text": [
      "Enter value for Z that returns back to start of roughing cycle. Usually enter 0.0.    0\n"
     ]
    }
   ],
   "source": [
    "backZ <<- readline(\"Enter value for Z that returns back to start of roughing cycle. Usually enter 0.0.   \") \n",
    "    \n",
    "# Convert input strings to numeric values\n",
    "homeZ <- as.numeric(unlist(strsplit(backZ, \", \")))\n",
    "homeZ <- format(homeZ, nsmall = 3)\n",
    "#homeZ\n"
   ]
  },
  {
   "cell_type": "code",
   "execution_count": 23,
   "id": "9697a318-8fd2-4590-88bb-35a60724cb39",
   "metadata": {
    "jupyter": {
     "source_hidden": true
    },
    "tags": []
   },
   "outputs": [],
   "source": [
    "Z02 <-  paste(\"G00\", \"Z\", format(homeZ, nsmall = 3))   # The positive Z move to (X,0)\n",
    "# Z02\n",
    "# original_vector[1:10]   # X02 will be inserted at each forth position "
   ]
  },
  {
   "cell_type": "markdown",
   "id": "043b1e93-50c3-477e-8f63-79e095659c65",
   "metadata": {
    "tags": []
   },
   "source": [
    "## The traditonal approach will not work\n",
    "\n",
    "#### The gcode vector increased in size.  Will need to use the repetitions variable (created during gcode_DRO)"
   ]
  },
  {
   "cell_type": "code",
   "execution_count": 24,
   "id": "267c352b-b90e-46f6-9a83-1e2458d95200",
   "metadata": {
    "jupyter": {
     "source_hidden": true
    },
    "tags": []
   },
   "outputs": [],
   "source": [
    "# The vector is growing in size, t/f the following will not work.  Get the repetitions variable from txt file\n",
    "\n",
    "forthPos <- seq(0, length(original_vector), by = 4)\n",
    "# forthPos\n",
    "# length(forthPos)\n",
    "forthPos <- forthPos[2:length(forthPos)]   # remove the zero\n",
    "# forthPos                                   # will need to add one more to the end of the vector after the loop"
   ]
  },
  {
   "cell_type": "code",
   "execution_count": 25,
   "id": "1f8c8545-fcf6-4bf3-944b-c08692f17036",
   "metadata": {
    "jupyter": {
     "source_hidden": true
    },
    "tags": []
   },
   "outputs": [],
   "source": [
    "reps <- readLines(\"repetitions.txt\")\n",
    "# reps\n",
    "# str(reps)\n",
    "reps <- as.numeric(reps)\n",
    "# str(reps)\n",
    "reps = reps * 4\n",
    "# reps"
   ]
  },
  {
   "cell_type": "code",
   "execution_count": 26,
   "id": "d89f6489-900f-4183-ba76-be7cd623ea77",
   "metadata": {
    "jupyter": {
     "source_hidden": true
    },
    "tags": []
   },
   "outputs": [],
   "source": [
    "\n",
    "forthPos <- seq(0, reps, by = 4)\n",
    "# forthPos\n",
    "# length(forthPos)\n",
    "forthPos <- forthPos[2:length(forthPos)]   # remove the zero\n",
    "# forthPos "
   ]
  },
  {
   "cell_type": "markdown",
   "id": "60d8408c-d45f-4e36-b84b-b65fcb301015",
   "metadata": {
    "tags": []
   },
   "source": [
    "### Z return to 0 position "
   ]
  },
  {
   "cell_type": "code",
   "execution_count": 27,
   "id": "7399de49-562b-45a5-9a37-c6ae613f48f2",
   "metadata": {
    "tags": []
   },
   "outputs": [
    {
     "data": {
      "text/html": [
       "65"
      ],
      "text/latex": [
       "65"
      ],
      "text/markdown": [
       "65"
      ],
      "text/plain": [
       "[1] 65"
      ]
     },
     "metadata": {},
     "output_type": "display_data"
    },
    {
     "data": {
      "text/html": [
       "<ol>\n",
       "\t<li>'G01 X 0.4925 F 4'</li>\n",
       "\t<li>'G01 Z -1 F 4'</li>\n",
       "\t<li>'G01 X 0.502 F 4'</li>\n",
       "\t<li>'G00 Z 0.000'</li>\n",
       "\t<li>'G01 X 0.4775 F 4'</li>\n",
       "\t<li>'G01 Z -1 F 4'</li>\n",
       "\t<li>'G01 X 0.502 F 4'</li>\n",
       "\t<li>'G00 Z 0.000'</li>\n",
       "\t<li>'G01 X 0.4625 F 4'</li>\n",
       "\t<li>'G01 Z -1 F 4'</li>\n",
       "\t<li>'G01 X 0.502 F 4'</li>\n",
       "\t<li>'G00 Z 0.000'</li>\n",
       "\t<li>'G01 X 0.4475 F 4'</li>\n",
       "\t<li>'G01 Z -1 F 4'</li>\n",
       "\t<li>'G01 X 0.502 F 4'</li>\n",
       "\t<li>'G00 Z 0.000'</li>\n",
       "\t<li>'G01 X 0.4325 F 4'</li>\n",
       "\t<li>'G01 Z -1 F 4'</li>\n",
       "\t<li>'G01 X 0.502 F 4'</li>\n",
       "\t<li>'G00 Z 0.000'</li>\n",
       "\t<li>'G01 X 0.4175 F 4'</li>\n",
       "\t<li>'G01 Z -1 F 4'</li>\n",
       "\t<li>'G01 X 0.502 F 4'</li>\n",
       "\t<li>'G00 Z 0.000'</li>\n",
       "\t<li>'G01 X 0.4025 F 4'</li>\n",
       "\t<li>'G01 Z -1 F 4'</li>\n",
       "\t<li>'G01 X 0.502 F 4'</li>\n",
       "\t<li>'G00 Z 0.000'</li>\n",
       "\t<li>'G01 X 0.3875 F 4'</li>\n",
       "\t<li>'G01 Z -1 F 4'</li>\n",
       "\t<li>'G01 X 0.502 F 4'</li>\n",
       "\t<li>'G00 Z 0.000'</li>\n",
       "\t<li>'G01 X 0.3725 F 4'</li>\n",
       "\t<li>'G01 Z -1 F 4'</li>\n",
       "\t<li>'G01 X 0.502 F 4'</li>\n",
       "\t<li>'G00 Z 0.000'</li>\n",
       "\t<li>'G01 X 0.3575 F 4'</li>\n",
       "\t<li>'G01 Z -1 F 4'</li>\n",
       "\t<li>'G01 X 0.502 F 4'</li>\n",
       "\t<li>'G00 Z 0.000'</li>\n",
       "\t<li>'G01 X 0.3425 F 4'</li>\n",
       "\t<li>'G01 Z -1 F 4'</li>\n",
       "\t<li>'G01 X 0.502 F 4'</li>\n",
       "\t<li>'G00 Z 0.000'</li>\n",
       "\t<li>'G01 X 0.3275 F 4'</li>\n",
       "\t<li>'G01 Z -1 F 4'</li>\n",
       "\t<li>'G01 X 0.502 F 4'</li>\n",
       "\t<li>'G00 Z 0.000'</li>\n",
       "\t<li>'G01 X 0.3125 F 4'</li>\n",
       "\t<li>'G01 Z -1 F 4'</li>\n",
       "\t<li>'G01 X 0.502 F 4'</li>\n",
       "\t<li>'G00 Z 0.000'</li>\n",
       "\t<li>'G01 X 0.2975 F 4'</li>\n",
       "\t<li>'G01 Z -1 F 4'</li>\n",
       "\t<li>'G01 X 0.502 F 4'</li>\n",
       "\t<li>'G00 Z 0.000'</li>\n",
       "\t<li>'G01 X 0.2825 F 4'</li>\n",
       "\t<li>'G01 Z -1 F 4'</li>\n",
       "\t<li>'G01 X 0.502 F 4'</li>\n",
       "\t<li>'G00 Z 0.000'</li>\n",
       "\t<li>'G01 X 0.2545 F 4'</li>\n",
       "\t<li>'G01 Z -1 F 4'</li>\n",
       "\t<li>'G01 X 0.502 F 4'</li>\n",
       "\t<li>'G00 Z 0.000'</li>\n",
       "\t<li>NULL</li>\n",
       "\t<li>'G01 Z -1 F 4'</li>\n",
       "\t<li>'G01 X 0.502 F 4'</li>\n",
       "\t<li>NULL</li>\n",
       "\t<li>'G01 Z -1 F 4'</li>\n",
       "\t<li>'G01 X 0.502 F 4'</li>\n",
       "\t<li>NULL</li>\n",
       "\t<li>'G01 Z -1 F 4'</li>\n",
       "\t<li>'G01 X 0.502 F 4'</li>\n",
       "\t<li>NULL</li>\n",
       "\t<li>'G01 Z -1 F 4'</li>\n",
       "\t<li>'G01 X 0.502 F 4'</li>\n",
       "\t<li>NULL</li>\n",
       "\t<li>'G01 Z -1 F 4'</li>\n",
       "\t<li>'G01 X 0.502 F 4'</li>\n",
       "\t<li>NULL</li>\n",
       "\t<li>'G01 Z -1 F 4'</li>\n",
       "</ol>\n"
      ],
      "text/latex": [
       "\\begin{enumerate}\n",
       "\\item 'G01 X 0.4925 F 4'\n",
       "\\item 'G01 Z -1 F 4'\n",
       "\\item 'G01 X 0.502 F 4'\n",
       "\\item 'G00 Z 0.000'\n",
       "\\item 'G01 X 0.4775 F 4'\n",
       "\\item 'G01 Z -1 F 4'\n",
       "\\item 'G01 X 0.502 F 4'\n",
       "\\item 'G00 Z 0.000'\n",
       "\\item 'G01 X 0.4625 F 4'\n",
       "\\item 'G01 Z -1 F 4'\n",
       "\\item 'G01 X 0.502 F 4'\n",
       "\\item 'G00 Z 0.000'\n",
       "\\item 'G01 X 0.4475 F 4'\n",
       "\\item 'G01 Z -1 F 4'\n",
       "\\item 'G01 X 0.502 F 4'\n",
       "\\item 'G00 Z 0.000'\n",
       "\\item 'G01 X 0.4325 F 4'\n",
       "\\item 'G01 Z -1 F 4'\n",
       "\\item 'G01 X 0.502 F 4'\n",
       "\\item 'G00 Z 0.000'\n",
       "\\item 'G01 X 0.4175 F 4'\n",
       "\\item 'G01 Z -1 F 4'\n",
       "\\item 'G01 X 0.502 F 4'\n",
       "\\item 'G00 Z 0.000'\n",
       "\\item 'G01 X 0.4025 F 4'\n",
       "\\item 'G01 Z -1 F 4'\n",
       "\\item 'G01 X 0.502 F 4'\n",
       "\\item 'G00 Z 0.000'\n",
       "\\item 'G01 X 0.3875 F 4'\n",
       "\\item 'G01 Z -1 F 4'\n",
       "\\item 'G01 X 0.502 F 4'\n",
       "\\item 'G00 Z 0.000'\n",
       "\\item 'G01 X 0.3725 F 4'\n",
       "\\item 'G01 Z -1 F 4'\n",
       "\\item 'G01 X 0.502 F 4'\n",
       "\\item 'G00 Z 0.000'\n",
       "\\item 'G01 X 0.3575 F 4'\n",
       "\\item 'G01 Z -1 F 4'\n",
       "\\item 'G01 X 0.502 F 4'\n",
       "\\item 'G00 Z 0.000'\n",
       "\\item 'G01 X 0.3425 F 4'\n",
       "\\item 'G01 Z -1 F 4'\n",
       "\\item 'G01 X 0.502 F 4'\n",
       "\\item 'G00 Z 0.000'\n",
       "\\item 'G01 X 0.3275 F 4'\n",
       "\\item 'G01 Z -1 F 4'\n",
       "\\item 'G01 X 0.502 F 4'\n",
       "\\item 'G00 Z 0.000'\n",
       "\\item 'G01 X 0.3125 F 4'\n",
       "\\item 'G01 Z -1 F 4'\n",
       "\\item 'G01 X 0.502 F 4'\n",
       "\\item 'G00 Z 0.000'\n",
       "\\item 'G01 X 0.2975 F 4'\n",
       "\\item 'G01 Z -1 F 4'\n",
       "\\item 'G01 X 0.502 F 4'\n",
       "\\item 'G00 Z 0.000'\n",
       "\\item 'G01 X 0.2825 F 4'\n",
       "\\item 'G01 Z -1 F 4'\n",
       "\\item 'G01 X 0.502 F 4'\n",
       "\\item 'G00 Z 0.000'\n",
       "\\item 'G01 X 0.2545 F 4'\n",
       "\\item 'G01 Z -1 F 4'\n",
       "\\item 'G01 X 0.502 F 4'\n",
       "\\item 'G00 Z 0.000'\n",
       "\\item NULL\n",
       "\\item 'G01 Z -1 F 4'\n",
       "\\item 'G01 X 0.502 F 4'\n",
       "\\item NULL\n",
       "\\item 'G01 Z -1 F 4'\n",
       "\\item 'G01 X 0.502 F 4'\n",
       "\\item NULL\n",
       "\\item 'G01 Z -1 F 4'\n",
       "\\item 'G01 X 0.502 F 4'\n",
       "\\item NULL\n",
       "\\item 'G01 Z -1 F 4'\n",
       "\\item 'G01 X 0.502 F 4'\n",
       "\\item NULL\n",
       "\\item 'G01 Z -1 F 4'\n",
       "\\item 'G01 X 0.502 F 4'\n",
       "\\item NULL\n",
       "\\item 'G01 Z -1 F 4'\n",
       "\\end{enumerate}\n"
      ],
      "text/markdown": [
       "1. 'G01 X 0.4925 F 4'\n",
       "2. 'G01 Z -1 F 4'\n",
       "3. 'G01 X 0.502 F 4'\n",
       "4. 'G00 Z 0.000'\n",
       "5. 'G01 X 0.4775 F 4'\n",
       "6. 'G01 Z -1 F 4'\n",
       "7. 'G01 X 0.502 F 4'\n",
       "8. 'G00 Z 0.000'\n",
       "9. 'G01 X 0.4625 F 4'\n",
       "10. 'G01 Z -1 F 4'\n",
       "11. 'G01 X 0.502 F 4'\n",
       "12. 'G00 Z 0.000'\n",
       "13. 'G01 X 0.4475 F 4'\n",
       "14. 'G01 Z -1 F 4'\n",
       "15. 'G01 X 0.502 F 4'\n",
       "16. 'G00 Z 0.000'\n",
       "17. 'G01 X 0.4325 F 4'\n",
       "18. 'G01 Z -1 F 4'\n",
       "19. 'G01 X 0.502 F 4'\n",
       "20. 'G00 Z 0.000'\n",
       "21. 'G01 X 0.4175 F 4'\n",
       "22. 'G01 Z -1 F 4'\n",
       "23. 'G01 X 0.502 F 4'\n",
       "24. 'G00 Z 0.000'\n",
       "25. 'G01 X 0.4025 F 4'\n",
       "26. 'G01 Z -1 F 4'\n",
       "27. 'G01 X 0.502 F 4'\n",
       "28. 'G00 Z 0.000'\n",
       "29. 'G01 X 0.3875 F 4'\n",
       "30. 'G01 Z -1 F 4'\n",
       "31. 'G01 X 0.502 F 4'\n",
       "32. 'G00 Z 0.000'\n",
       "33. 'G01 X 0.3725 F 4'\n",
       "34. 'G01 Z -1 F 4'\n",
       "35. 'G01 X 0.502 F 4'\n",
       "36. 'G00 Z 0.000'\n",
       "37. 'G01 X 0.3575 F 4'\n",
       "38. 'G01 Z -1 F 4'\n",
       "39. 'G01 X 0.502 F 4'\n",
       "40. 'G00 Z 0.000'\n",
       "41. 'G01 X 0.3425 F 4'\n",
       "42. 'G01 Z -1 F 4'\n",
       "43. 'G01 X 0.502 F 4'\n",
       "44. 'G00 Z 0.000'\n",
       "45. 'G01 X 0.3275 F 4'\n",
       "46. 'G01 Z -1 F 4'\n",
       "47. 'G01 X 0.502 F 4'\n",
       "48. 'G00 Z 0.000'\n",
       "49. 'G01 X 0.3125 F 4'\n",
       "50. 'G01 Z -1 F 4'\n",
       "51. 'G01 X 0.502 F 4'\n",
       "52. 'G00 Z 0.000'\n",
       "53. 'G01 X 0.2975 F 4'\n",
       "54. 'G01 Z -1 F 4'\n",
       "55. 'G01 X 0.502 F 4'\n",
       "56. 'G00 Z 0.000'\n",
       "57. 'G01 X 0.2825 F 4'\n",
       "58. 'G01 Z -1 F 4'\n",
       "59. 'G01 X 0.502 F 4'\n",
       "60. 'G00 Z 0.000'\n",
       "61. 'G01 X 0.2545 F 4'\n",
       "62. 'G01 Z -1 F 4'\n",
       "63. 'G01 X 0.502 F 4'\n",
       "64. 'G00 Z 0.000'\n",
       "65. NULL\n",
       "66. 'G01 Z -1 F 4'\n",
       "67. 'G01 X 0.502 F 4'\n",
       "68. NULL\n",
       "69. 'G01 Z -1 F 4'\n",
       "70. 'G01 X 0.502 F 4'\n",
       "71. NULL\n",
       "72. 'G01 Z -1 F 4'\n",
       "73. 'G01 X 0.502 F 4'\n",
       "74. NULL\n",
       "75. 'G01 Z -1 F 4'\n",
       "76. 'G01 X 0.502 F 4'\n",
       "77. NULL\n",
       "78. 'G01 Z -1 F 4'\n",
       "79. 'G01 X 0.502 F 4'\n",
       "80. NULL\n",
       "81. 'G01 Z -1 F 4'\n",
       "\n",
       "\n"
      ],
      "text/plain": [
       "[[1]]\n",
       "[1] \"G01 X 0.4925 F 4\"\n",
       "\n",
       "[[2]]\n",
       "[1] \"G01 Z -1 F 4\"\n",
       "\n",
       "[[3]]\n",
       "[1] \"G01 X 0.502 F 4\"\n",
       "\n",
       "[[4]]\n",
       "[1] \"G00 Z 0.000\"\n",
       "\n",
       "[[5]]\n",
       "[1] \"G01 X 0.4775 F 4\"\n",
       "\n",
       "[[6]]\n",
       "[1] \"G01 Z -1 F 4\"\n",
       "\n",
       "[[7]]\n",
       "[1] \"G01 X 0.502 F 4\"\n",
       "\n",
       "[[8]]\n",
       "[1] \"G00 Z 0.000\"\n",
       "\n",
       "[[9]]\n",
       "[1] \"G01 X 0.4625 F 4\"\n",
       "\n",
       "[[10]]\n",
       "[1] \"G01 Z -1 F 4\"\n",
       "\n",
       "[[11]]\n",
       "[1] \"G01 X 0.502 F 4\"\n",
       "\n",
       "[[12]]\n",
       "[1] \"G00 Z 0.000\"\n",
       "\n",
       "[[13]]\n",
       "[1] \"G01 X 0.4475 F 4\"\n",
       "\n",
       "[[14]]\n",
       "[1] \"G01 Z -1 F 4\"\n",
       "\n",
       "[[15]]\n",
       "[1] \"G01 X 0.502 F 4\"\n",
       "\n",
       "[[16]]\n",
       "[1] \"G00 Z 0.000\"\n",
       "\n",
       "[[17]]\n",
       "[1] \"G01 X 0.4325 F 4\"\n",
       "\n",
       "[[18]]\n",
       "[1] \"G01 Z -1 F 4\"\n",
       "\n",
       "[[19]]\n",
       "[1] \"G01 X 0.502 F 4\"\n",
       "\n",
       "[[20]]\n",
       "[1] \"G00 Z 0.000\"\n",
       "\n",
       "[[21]]\n",
       "[1] \"G01 X 0.4175 F 4\"\n",
       "\n",
       "[[22]]\n",
       "[1] \"G01 Z -1 F 4\"\n",
       "\n",
       "[[23]]\n",
       "[1] \"G01 X 0.502 F 4\"\n",
       "\n",
       "[[24]]\n",
       "[1] \"G00 Z 0.000\"\n",
       "\n",
       "[[25]]\n",
       "[1] \"G01 X 0.4025 F 4\"\n",
       "\n",
       "[[26]]\n",
       "[1] \"G01 Z -1 F 4\"\n",
       "\n",
       "[[27]]\n",
       "[1] \"G01 X 0.502 F 4\"\n",
       "\n",
       "[[28]]\n",
       "[1] \"G00 Z 0.000\"\n",
       "\n",
       "[[29]]\n",
       "[1] \"G01 X 0.3875 F 4\"\n",
       "\n",
       "[[30]]\n",
       "[1] \"G01 Z -1 F 4\"\n",
       "\n",
       "[[31]]\n",
       "[1] \"G01 X 0.502 F 4\"\n",
       "\n",
       "[[32]]\n",
       "[1] \"G00 Z 0.000\"\n",
       "\n",
       "[[33]]\n",
       "[1] \"G01 X 0.3725 F 4\"\n",
       "\n",
       "[[34]]\n",
       "[1] \"G01 Z -1 F 4\"\n",
       "\n",
       "[[35]]\n",
       "[1] \"G01 X 0.502 F 4\"\n",
       "\n",
       "[[36]]\n",
       "[1] \"G00 Z 0.000\"\n",
       "\n",
       "[[37]]\n",
       "[1] \"G01 X 0.3575 F 4\"\n",
       "\n",
       "[[38]]\n",
       "[1] \"G01 Z -1 F 4\"\n",
       "\n",
       "[[39]]\n",
       "[1] \"G01 X 0.502 F 4\"\n",
       "\n",
       "[[40]]\n",
       "[1] \"G00 Z 0.000\"\n",
       "\n",
       "[[41]]\n",
       "[1] \"G01 X 0.3425 F 4\"\n",
       "\n",
       "[[42]]\n",
       "[1] \"G01 Z -1 F 4\"\n",
       "\n",
       "[[43]]\n",
       "[1] \"G01 X 0.502 F 4\"\n",
       "\n",
       "[[44]]\n",
       "[1] \"G00 Z 0.000\"\n",
       "\n",
       "[[45]]\n",
       "[1] \"G01 X 0.3275 F 4\"\n",
       "\n",
       "[[46]]\n",
       "[1] \"G01 Z -1 F 4\"\n",
       "\n",
       "[[47]]\n",
       "[1] \"G01 X 0.502 F 4\"\n",
       "\n",
       "[[48]]\n",
       "[1] \"G00 Z 0.000\"\n",
       "\n",
       "[[49]]\n",
       "[1] \"G01 X 0.3125 F 4\"\n",
       "\n",
       "[[50]]\n",
       "[1] \"G01 Z -1 F 4\"\n",
       "\n",
       "[[51]]\n",
       "[1] \"G01 X 0.502 F 4\"\n",
       "\n",
       "[[52]]\n",
       "[1] \"G00 Z 0.000\"\n",
       "\n",
       "[[53]]\n",
       "[1] \"G01 X 0.2975 F 4\"\n",
       "\n",
       "[[54]]\n",
       "[1] \"G01 Z -1 F 4\"\n",
       "\n",
       "[[55]]\n",
       "[1] \"G01 X 0.502 F 4\"\n",
       "\n",
       "[[56]]\n",
       "[1] \"G00 Z 0.000\"\n",
       "\n",
       "[[57]]\n",
       "[1] \"G01 X 0.2825 F 4\"\n",
       "\n",
       "[[58]]\n",
       "[1] \"G01 Z -1 F 4\"\n",
       "\n",
       "[[59]]\n",
       "[1] \"G01 X 0.502 F 4\"\n",
       "\n",
       "[[60]]\n",
       "[1] \"G00 Z 0.000\"\n",
       "\n",
       "[[61]]\n",
       "[1] \"G01 X 0.2545 F 4\"\n",
       "\n",
       "[[62]]\n",
       "[1] \"G01 Z -1 F 4\"\n",
       "\n",
       "[[63]]\n",
       "[1] \"G01 X 0.502 F 4\"\n",
       "\n",
       "[[64]]\n",
       "[1] \"G00 Z 0.000\"\n",
       "\n",
       "[[65]]\n",
       "NULL\n",
       "\n",
       "[[66]]\n",
       "[1] \"G01 Z -1 F 4\"\n",
       "\n",
       "[[67]]\n",
       "[1] \"G01 X 0.502 F 4\"\n",
       "\n",
       "[[68]]\n",
       "NULL\n",
       "\n",
       "[[69]]\n",
       "[1] \"G01 Z -1 F 4\"\n",
       "\n",
       "[[70]]\n",
       "[1] \"G01 X 0.502 F 4\"\n",
       "\n",
       "[[71]]\n",
       "NULL\n",
       "\n",
       "[[72]]\n",
       "[1] \"G01 Z -1 F 4\"\n",
       "\n",
       "[[73]]\n",
       "[1] \"G01 X 0.502 F 4\"\n",
       "\n",
       "[[74]]\n",
       "NULL\n",
       "\n",
       "[[75]]\n",
       "[1] \"G01 Z -1 F 4\"\n",
       "\n",
       "[[76]]\n",
       "[1] \"G01 X 0.502 F 4\"\n",
       "\n",
       "[[77]]\n",
       "NULL\n",
       "\n",
       "[[78]]\n",
       "[1] \"G01 Z -1 F 4\"\n",
       "\n",
       "[[79]]\n",
       "[1] \"G01 X 0.502 F 4\"\n",
       "\n",
       "[[80]]\n",
       "NULL\n",
       "\n",
       "[[81]]\n",
       "[1] \"G01 Z -1 F 4\"\n"
      ]
     },
     "metadata": {},
     "output_type": "display_data"
    }
   ],
   "source": [
    "# Original character vector\n",
    "original_vector3 <- original_vector\n",
    "length(original_vector3)\n",
    "# New character to insert\n",
    "new_character <- Z02\n",
    "\n",
    "# Determine the positions to insert the new character\n",
    "positions <- seq(4, length(original_vector3) + length(original_vector3) %/% 4, by = 4)\n",
    "\n",
    "# Inserting the new character at every third position\n",
    "\n",
    "# for (i in positions) {      # \n",
    "  for(i in forthPos) {\n",
    "  original_vector3 <- c(original_vector3[1:(i - 1)], new_character, original_vector3[i:length(original_vector3)])\n",
    "}\n",
    "\n",
    "# Display the modified vector\n",
    "\n",
    "#str(original_vector3)\n",
    "# str(original_vector3)\n",
    "original_vector3            # this needs 1 more retract move)\n"
   ]
  },
  {
   "cell_type": "markdown",
   "id": "4d8511f1-8228-4739-872a-59c0227add85",
   "metadata": {},
   "source": [
    "# Input:"
   ]
  },
  {
   "cell_type": "code",
   "execution_count": 28,
   "id": "1433bfcd-8590-4a05-b311-205eb8d2ca53",
   "metadata": {
    "jupyter": {
     "source_hidden": true
    },
    "tags": []
   },
   "outputs": [
    {
     "name": "stdin",
     "output_type": "stream",
     "text": [
      "Review the gcode shown above.  Enter the number for the last row to keep before deleting the remaining unwanted rows from originalVector3.  Ex: 28  64\n"
     ]
    }
   ],
   "source": [
    "snip <<- readline(\"Review the gcode shown above.  Enter the number for the last row to keep before deleting the remaining unwanted rows from originalVector3.  Ex: 28 \")\n",
    "    "
   ]
  },
  {
   "cell_type": "code",
   "execution_count": 29,
   "id": "67820965-6c7f-4a40-8e87-bb08e8b06ef5",
   "metadata": {
    "jupyter": {
     "source_hidden": true
    },
    "tags": []
   },
   "outputs": [
    {
     "name": "stdout",
     "output_type": "stream",
     "text": [
      " num 64\n"
     ]
    },
    {
     "data": {
      "text/html": [
       "64"
      ],
      "text/latex": [
       "64"
      ],
      "text/markdown": [
       "64"
      ],
      "text/plain": [
       "[1] 64"
      ]
     },
     "metadata": {},
     "output_type": "display_data"
    }
   ],
   "source": [
    "# Convert input strings to numeric values\n",
    "finalRow <- as.numeric(unlist(strsplit(snip, \", \")))\n",
    "str(finalRow)\n",
    "finalRow"
   ]
  },
  {
   "cell_type": "code",
   "execution_count": null,
   "id": "83cdb681-111a-47f3-bd05-9c231648188f",
   "metadata": {},
   "outputs": [],
   "source": []
  },
  {
   "cell_type": "markdown",
   "id": "2759828a-a66d-4538-a592-192c653c294b",
   "metadata": {
    "tags": []
   },
   "source": [
    "### Remove the extrandeous rows of data\n",
    "\n",
    "    S/B  16 + 17 + 17 + 16 = 66 rows   ???"
   ]
  },
  {
   "cell_type": "code",
   "execution_count": null,
   "id": "70386e69-d7de-41f5-b035-7cd5758bfb3b",
   "metadata": {},
   "outputs": [],
   "source": []
  },
  {
   "cell_type": "code",
   "execution_count": null,
   "id": "491380ef-fcda-4d0e-8db8-fee0cc8365e5",
   "metadata": {},
   "outputs": [],
   "source": []
  },
  {
   "cell_type": "code",
   "execution_count": 30,
   "id": "dbc4671f-3e5a-4df8-804a-d46327feb5d8",
   "metadata": {
    "jupyter": {
     "source_hidden": true
    },
    "tags": []
   },
   "outputs": [
    {
     "data": {
      "text/html": [
       "81"
      ],
      "text/latex": [
       "81"
      ],
      "text/markdown": [
       "81"
      ],
      "text/plain": [
       "[1] 81"
      ]
     },
     "metadata": {},
     "output_type": "display_data"
    }
   ],
   "source": [
    "length(original_vector3)\n",
    "original_vector4 <-  original_vector3[1:finalRow]\n",
    "# length(original_vector4)\n",
    "# str(original_vector4)\n",
    "ov4 <- unlist(original_vector4)   # This fixed the bad 1x1 df issue\n",
    "# str(ov4)\n",
    "# ov4"
   ]
  },
  {
   "cell_type": "code",
   "execution_count": 31,
   "id": "a9f8986c-13b4-4a17-a860-c40826a24f6b",
   "metadata": {
    "jupyter": {
     "source_hidden": true
    },
    "tags": []
   },
   "outputs": [
    {
     "data": {
      "text/html": [
       "<style>\n",
       ".list-inline {list-style: none; margin:0; padding: 0}\n",
       ".list-inline>li {display: inline-block}\n",
       ".list-inline>li:not(:last-child)::after {content: \"\\00b7\"; padding: 0 .5ex}\n",
       "</style>\n",
       "<ol class=list-inline><li>'G01 X 0.4925 F 4'</li><li>'G01 Z -1 F 4'</li><li>'G01 X 0.502 F 4'</li><li>'G00 Z 0.000'</li><li>'G01 X 0.4775 F 4'</li><li>'G01 Z -1 F 4'</li><li>'G01 X 0.502 F 4'</li><li>'G00 Z 0.000'</li><li>'G01 X 0.4625 F 4'</li><li>'G01 Z -1 F 4'</li><li>'G01 X 0.502 F 4'</li><li>'G00 Z 0.000'</li><li>'G01 X 0.4475 F 4'</li><li>'G01 Z -1 F 4'</li><li>'G01 X 0.502 F 4'</li><li>'G00 Z 0.000'</li><li>'G01 X 0.4325 F 4'</li><li>'G01 Z -1 F 4'</li><li>'G01 X 0.502 F 4'</li><li>'G00 Z 0.000'</li><li>'G01 X 0.4175 F 4'</li><li>'G01 Z -1 F 4'</li><li>'G01 X 0.502 F 4'</li><li>'G00 Z 0.000'</li><li>'G01 X 0.4025 F 4'</li><li>'G01 Z -1 F 4'</li><li>'G01 X 0.502 F 4'</li><li>'G00 Z 0.000'</li><li>'G01 X 0.3875 F 4'</li><li>'G01 Z -1 F 4'</li><li>'G01 X 0.502 F 4'</li><li>'G00 Z 0.000'</li><li>'G01 X 0.3725 F 4'</li><li>'G01 Z -1 F 4'</li><li>'G01 X 0.502 F 4'</li><li>'G00 Z 0.000'</li><li>'G01 X 0.3575 F 4'</li><li>'G01 Z -1 F 4'</li><li>'G01 X 0.502 F 4'</li><li>'G00 Z 0.000'</li><li>'G01 X 0.3425 F 4'</li><li>'G01 Z -1 F 4'</li><li>'G01 X 0.502 F 4'</li><li>'G00 Z 0.000'</li><li>'G01 X 0.3275 F 4'</li><li>'G01 Z -1 F 4'</li><li>'G01 X 0.502 F 4'</li><li>'G00 Z 0.000'</li><li>'G01 X 0.3125 F 4'</li><li>'G01 Z -1 F 4'</li><li>'G01 X 0.502 F 4'</li><li>'G00 Z 0.000'</li><li>'G01 X 0.2975 F 4'</li><li>'G01 Z -1 F 4'</li><li>'G01 X 0.502 F 4'</li><li>'G00 Z 0.000'</li><li>'G01 X 0.2825 F 4'</li><li>'G01 Z -1 F 4'</li><li>'G01 X 0.502 F 4'</li><li>'G00 Z 0.000'</li><li>'G01 X 0.2545 F 4'</li><li>'G01 Z -1 F 4'</li><li>'G01 X 0.502 F 4'</li><li>'G00 Z 0.000'</li></ol>\n"
      ],
      "text/latex": [
       "\\begin{enumerate*}\n",
       "\\item 'G01 X 0.4925 F 4'\n",
       "\\item 'G01 Z -1 F 4'\n",
       "\\item 'G01 X 0.502 F 4'\n",
       "\\item 'G00 Z 0.000'\n",
       "\\item 'G01 X 0.4775 F 4'\n",
       "\\item 'G01 Z -1 F 4'\n",
       "\\item 'G01 X 0.502 F 4'\n",
       "\\item 'G00 Z 0.000'\n",
       "\\item 'G01 X 0.4625 F 4'\n",
       "\\item 'G01 Z -1 F 4'\n",
       "\\item 'G01 X 0.502 F 4'\n",
       "\\item 'G00 Z 0.000'\n",
       "\\item 'G01 X 0.4475 F 4'\n",
       "\\item 'G01 Z -1 F 4'\n",
       "\\item 'G01 X 0.502 F 4'\n",
       "\\item 'G00 Z 0.000'\n",
       "\\item 'G01 X 0.4325 F 4'\n",
       "\\item 'G01 Z -1 F 4'\n",
       "\\item 'G01 X 0.502 F 4'\n",
       "\\item 'G00 Z 0.000'\n",
       "\\item 'G01 X 0.4175 F 4'\n",
       "\\item 'G01 Z -1 F 4'\n",
       "\\item 'G01 X 0.502 F 4'\n",
       "\\item 'G00 Z 0.000'\n",
       "\\item 'G01 X 0.4025 F 4'\n",
       "\\item 'G01 Z -1 F 4'\n",
       "\\item 'G01 X 0.502 F 4'\n",
       "\\item 'G00 Z 0.000'\n",
       "\\item 'G01 X 0.3875 F 4'\n",
       "\\item 'G01 Z -1 F 4'\n",
       "\\item 'G01 X 0.502 F 4'\n",
       "\\item 'G00 Z 0.000'\n",
       "\\item 'G01 X 0.3725 F 4'\n",
       "\\item 'G01 Z -1 F 4'\n",
       "\\item 'G01 X 0.502 F 4'\n",
       "\\item 'G00 Z 0.000'\n",
       "\\item 'G01 X 0.3575 F 4'\n",
       "\\item 'G01 Z -1 F 4'\n",
       "\\item 'G01 X 0.502 F 4'\n",
       "\\item 'G00 Z 0.000'\n",
       "\\item 'G01 X 0.3425 F 4'\n",
       "\\item 'G01 Z -1 F 4'\n",
       "\\item 'G01 X 0.502 F 4'\n",
       "\\item 'G00 Z 0.000'\n",
       "\\item 'G01 X 0.3275 F 4'\n",
       "\\item 'G01 Z -1 F 4'\n",
       "\\item 'G01 X 0.502 F 4'\n",
       "\\item 'G00 Z 0.000'\n",
       "\\item 'G01 X 0.3125 F 4'\n",
       "\\item 'G01 Z -1 F 4'\n",
       "\\item 'G01 X 0.502 F 4'\n",
       "\\item 'G00 Z 0.000'\n",
       "\\item 'G01 X 0.2975 F 4'\n",
       "\\item 'G01 Z -1 F 4'\n",
       "\\item 'G01 X 0.502 F 4'\n",
       "\\item 'G00 Z 0.000'\n",
       "\\item 'G01 X 0.2825 F 4'\n",
       "\\item 'G01 Z -1 F 4'\n",
       "\\item 'G01 X 0.502 F 4'\n",
       "\\item 'G00 Z 0.000'\n",
       "\\item 'G01 X 0.2545 F 4'\n",
       "\\item 'G01 Z -1 F 4'\n",
       "\\item 'G01 X 0.502 F 4'\n",
       "\\item 'G00 Z 0.000'\n",
       "\\end{enumerate*}\n"
      ],
      "text/markdown": [
       "1. 'G01 X 0.4925 F 4'\n",
       "2. 'G01 Z -1 F 4'\n",
       "3. 'G01 X 0.502 F 4'\n",
       "4. 'G00 Z 0.000'\n",
       "5. 'G01 X 0.4775 F 4'\n",
       "6. 'G01 Z -1 F 4'\n",
       "7. 'G01 X 0.502 F 4'\n",
       "8. 'G00 Z 0.000'\n",
       "9. 'G01 X 0.4625 F 4'\n",
       "10. 'G01 Z -1 F 4'\n",
       "11. 'G01 X 0.502 F 4'\n",
       "12. 'G00 Z 0.000'\n",
       "13. 'G01 X 0.4475 F 4'\n",
       "14. 'G01 Z -1 F 4'\n",
       "15. 'G01 X 0.502 F 4'\n",
       "16. 'G00 Z 0.000'\n",
       "17. 'G01 X 0.4325 F 4'\n",
       "18. 'G01 Z -1 F 4'\n",
       "19. 'G01 X 0.502 F 4'\n",
       "20. 'G00 Z 0.000'\n",
       "21. 'G01 X 0.4175 F 4'\n",
       "22. 'G01 Z -1 F 4'\n",
       "23. 'G01 X 0.502 F 4'\n",
       "24. 'G00 Z 0.000'\n",
       "25. 'G01 X 0.4025 F 4'\n",
       "26. 'G01 Z -1 F 4'\n",
       "27. 'G01 X 0.502 F 4'\n",
       "28. 'G00 Z 0.000'\n",
       "29. 'G01 X 0.3875 F 4'\n",
       "30. 'G01 Z -1 F 4'\n",
       "31. 'G01 X 0.502 F 4'\n",
       "32. 'G00 Z 0.000'\n",
       "33. 'G01 X 0.3725 F 4'\n",
       "34. 'G01 Z -1 F 4'\n",
       "35. 'G01 X 0.502 F 4'\n",
       "36. 'G00 Z 0.000'\n",
       "37. 'G01 X 0.3575 F 4'\n",
       "38. 'G01 Z -1 F 4'\n",
       "39. 'G01 X 0.502 F 4'\n",
       "40. 'G00 Z 0.000'\n",
       "41. 'G01 X 0.3425 F 4'\n",
       "42. 'G01 Z -1 F 4'\n",
       "43. 'G01 X 0.502 F 4'\n",
       "44. 'G00 Z 0.000'\n",
       "45. 'G01 X 0.3275 F 4'\n",
       "46. 'G01 Z -1 F 4'\n",
       "47. 'G01 X 0.502 F 4'\n",
       "48. 'G00 Z 0.000'\n",
       "49. 'G01 X 0.3125 F 4'\n",
       "50. 'G01 Z -1 F 4'\n",
       "51. 'G01 X 0.502 F 4'\n",
       "52. 'G00 Z 0.000'\n",
       "53. 'G01 X 0.2975 F 4'\n",
       "54. 'G01 Z -1 F 4'\n",
       "55. 'G01 X 0.502 F 4'\n",
       "56. 'G00 Z 0.000'\n",
       "57. 'G01 X 0.2825 F 4'\n",
       "58. 'G01 Z -1 F 4'\n",
       "59. 'G01 X 0.502 F 4'\n",
       "60. 'G00 Z 0.000'\n",
       "61. 'G01 X 0.2545 F 4'\n",
       "62. 'G01 Z -1 F 4'\n",
       "63. 'G01 X 0.502 F 4'\n",
       "64. 'G00 Z 0.000'\n",
       "\n",
       "\n"
      ],
      "text/plain": [
       " [1] \"G01 X 0.4925 F 4\" \"G01 Z -1 F 4\"     \"G01 X 0.502 F 4\"  \"G00 Z 0.000\"     \n",
       " [5] \"G01 X 0.4775 F 4\" \"G01 Z -1 F 4\"     \"G01 X 0.502 F 4\"  \"G00 Z 0.000\"     \n",
       " [9] \"G01 X 0.4625 F 4\" \"G01 Z -1 F 4\"     \"G01 X 0.502 F 4\"  \"G00 Z 0.000\"     \n",
       "[13] \"G01 X 0.4475 F 4\" \"G01 Z -1 F 4\"     \"G01 X 0.502 F 4\"  \"G00 Z 0.000\"     \n",
       "[17] \"G01 X 0.4325 F 4\" \"G01 Z -1 F 4\"     \"G01 X 0.502 F 4\"  \"G00 Z 0.000\"     \n",
       "[21] \"G01 X 0.4175 F 4\" \"G01 Z -1 F 4\"     \"G01 X 0.502 F 4\"  \"G00 Z 0.000\"     \n",
       "[25] \"G01 X 0.4025 F 4\" \"G01 Z -1 F 4\"     \"G01 X 0.502 F 4\"  \"G00 Z 0.000\"     \n",
       "[29] \"G01 X 0.3875 F 4\" \"G01 Z -1 F 4\"     \"G01 X 0.502 F 4\"  \"G00 Z 0.000\"     \n",
       "[33] \"G01 X 0.3725 F 4\" \"G01 Z -1 F 4\"     \"G01 X 0.502 F 4\"  \"G00 Z 0.000\"     \n",
       "[37] \"G01 X 0.3575 F 4\" \"G01 Z -1 F 4\"     \"G01 X 0.502 F 4\"  \"G00 Z 0.000\"     \n",
       "[41] \"G01 X 0.3425 F 4\" \"G01 Z -1 F 4\"     \"G01 X 0.502 F 4\"  \"G00 Z 0.000\"     \n",
       "[45] \"G01 X 0.3275 F 4\" \"G01 Z -1 F 4\"     \"G01 X 0.502 F 4\"  \"G00 Z 0.000\"     \n",
       "[49] \"G01 X 0.3125 F 4\" \"G01 Z -1 F 4\"     \"G01 X 0.502 F 4\"  \"G00 Z 0.000\"     \n",
       "[53] \"G01 X 0.2975 F 4\" \"G01 Z -1 F 4\"     \"G01 X 0.502 F 4\"  \"G00 Z 0.000\"     \n",
       "[57] \"G01 X 0.2825 F 4\" \"G01 Z -1 F 4\"     \"G01 X 0.502 F 4\"  \"G00 Z 0.000\"     \n",
       "[61] \"G01 X 0.2545 F 4\" \"G01 Z -1 F 4\"     \"G01 X 0.502 F 4\"  \"G00 Z 0.000\"     "
      ]
     },
     "metadata": {},
     "output_type": "display_data"
    }
   ],
   "source": [
    "ov4"
   ]
  },
  {
   "cell_type": "code",
   "execution_count": null,
   "id": "c9ec0b44-bd83-4a43-8e71-6b68efaa62d8",
   "metadata": {},
   "outputs": [],
   "source": []
  },
  {
   "cell_type": "code",
   "execution_count": 32,
   "id": "45c68cc5-2628-4b2d-87a5-b2b86cde70de",
   "metadata": {
    "jupyter": {
     "source_hidden": true
    },
    "tags": []
   },
   "outputs": [],
   "source": [
    "df4 <- data.frame(gcode = ov4)\n",
    "# str(df)\n",
    "# head(df4)"
   ]
  },
  {
   "cell_type": "code",
   "execution_count": 33,
   "id": "4c3b5d47-936c-4276-95ce-d4f839609cba",
   "metadata": {
    "jupyter": {
     "source_hidden": true
    },
    "tags": []
   },
   "outputs": [
    {
     "data": {
      "text/html": [
       "<table class=\"dataframe\">\n",
       "<caption>A data.frame: 64 × 1</caption>\n",
       "<thead>\n",
       "\t<tr><th scope=col>gcode</th></tr>\n",
       "\t<tr><th scope=col>&lt;chr&gt;</th></tr>\n",
       "</thead>\n",
       "<tbody>\n",
       "\t<tr><td>G01 X 0.4925 F 4</td></tr>\n",
       "\t<tr><td>G01 Z -1 F 4    </td></tr>\n",
       "\t<tr><td>G01 X 0.502 F 4 </td></tr>\n",
       "\t<tr><td>G00 Z 0.000     </td></tr>\n",
       "\t<tr><td>G01 X 0.4775 F 4</td></tr>\n",
       "\t<tr><td>G01 Z -1 F 4    </td></tr>\n",
       "\t<tr><td>G01 X 0.502 F 4 </td></tr>\n",
       "\t<tr><td>G00 Z 0.000     </td></tr>\n",
       "\t<tr><td>G01 X 0.4625 F 4</td></tr>\n",
       "\t<tr><td>G01 Z -1 F 4    </td></tr>\n",
       "\t<tr><td>G01 X 0.502 F 4 </td></tr>\n",
       "\t<tr><td>G00 Z 0.000     </td></tr>\n",
       "\t<tr><td>G01 X 0.4475 F 4</td></tr>\n",
       "\t<tr><td>G01 Z -1 F 4    </td></tr>\n",
       "\t<tr><td>G01 X 0.502 F 4 </td></tr>\n",
       "\t<tr><td>G00 Z 0.000     </td></tr>\n",
       "\t<tr><td>G01 X 0.4325 F 4</td></tr>\n",
       "\t<tr><td>G01 Z -1 F 4    </td></tr>\n",
       "\t<tr><td>G01 X 0.502 F 4 </td></tr>\n",
       "\t<tr><td>G00 Z 0.000     </td></tr>\n",
       "\t<tr><td>G01 X 0.4175 F 4</td></tr>\n",
       "\t<tr><td>G01 Z -1 F 4    </td></tr>\n",
       "\t<tr><td>G01 X 0.502 F 4 </td></tr>\n",
       "\t<tr><td>G00 Z 0.000     </td></tr>\n",
       "\t<tr><td>G01 X 0.4025 F 4</td></tr>\n",
       "\t<tr><td>G01 Z -1 F 4    </td></tr>\n",
       "\t<tr><td>G01 X 0.502 F 4 </td></tr>\n",
       "\t<tr><td>G00 Z 0.000     </td></tr>\n",
       "\t<tr><td>G01 X 0.3875 F 4</td></tr>\n",
       "\t<tr><td>G01 Z -1 F 4    </td></tr>\n",
       "\t<tr><td>⋮</td></tr>\n",
       "\t<tr><td>G01 X 0.502 F 4 </td></tr>\n",
       "\t<tr><td>G00 Z 0.000     </td></tr>\n",
       "\t<tr><td>G01 X 0.3575 F 4</td></tr>\n",
       "\t<tr><td>G01 Z -1 F 4    </td></tr>\n",
       "\t<tr><td>G01 X 0.502 F 4 </td></tr>\n",
       "\t<tr><td>G00 Z 0.000     </td></tr>\n",
       "\t<tr><td>G01 X 0.3425 F 4</td></tr>\n",
       "\t<tr><td>G01 Z -1 F 4    </td></tr>\n",
       "\t<tr><td>G01 X 0.502 F 4 </td></tr>\n",
       "\t<tr><td>G00 Z 0.000     </td></tr>\n",
       "\t<tr><td>G01 X 0.3275 F 4</td></tr>\n",
       "\t<tr><td>G01 Z -1 F 4    </td></tr>\n",
       "\t<tr><td>G01 X 0.502 F 4 </td></tr>\n",
       "\t<tr><td>G00 Z 0.000     </td></tr>\n",
       "\t<tr><td>G01 X 0.3125 F 4</td></tr>\n",
       "\t<tr><td>G01 Z -1 F 4    </td></tr>\n",
       "\t<tr><td>G01 X 0.502 F 4 </td></tr>\n",
       "\t<tr><td>G00 Z 0.000     </td></tr>\n",
       "\t<tr><td>G01 X 0.2975 F 4</td></tr>\n",
       "\t<tr><td>G01 Z -1 F 4    </td></tr>\n",
       "\t<tr><td>G01 X 0.502 F 4 </td></tr>\n",
       "\t<tr><td>G00 Z 0.000     </td></tr>\n",
       "\t<tr><td>G01 X 0.2825 F 4</td></tr>\n",
       "\t<tr><td>G01 Z -1 F 4    </td></tr>\n",
       "\t<tr><td>G01 X 0.502 F 4 </td></tr>\n",
       "\t<tr><td>G00 Z 0.000     </td></tr>\n",
       "\t<tr><td>G01 X 0.2545 F 4</td></tr>\n",
       "\t<tr><td>G01 Z -1 F 4    </td></tr>\n",
       "\t<tr><td>G01 X 0.502 F 4 </td></tr>\n",
       "\t<tr><td>G00 Z 0.000     </td></tr>\n",
       "</tbody>\n",
       "</table>\n"
      ],
      "text/latex": [
       "A data.frame: 64 × 1\n",
       "\\begin{tabular}{l}\n",
       " gcode\\\\\n",
       " <chr>\\\\\n",
       "\\hline\n",
       "\t G01 X 0.4925 F 4\\\\\n",
       "\t G01 Z -1 F 4    \\\\\n",
       "\t G01 X 0.502 F 4 \\\\\n",
       "\t G00 Z 0.000     \\\\\n",
       "\t G01 X 0.4775 F 4\\\\\n",
       "\t G01 Z -1 F 4    \\\\\n",
       "\t G01 X 0.502 F 4 \\\\\n",
       "\t G00 Z 0.000     \\\\\n",
       "\t G01 X 0.4625 F 4\\\\\n",
       "\t G01 Z -1 F 4    \\\\\n",
       "\t G01 X 0.502 F 4 \\\\\n",
       "\t G00 Z 0.000     \\\\\n",
       "\t G01 X 0.4475 F 4\\\\\n",
       "\t G01 Z -1 F 4    \\\\\n",
       "\t G01 X 0.502 F 4 \\\\\n",
       "\t G00 Z 0.000     \\\\\n",
       "\t G01 X 0.4325 F 4\\\\\n",
       "\t G01 Z -1 F 4    \\\\\n",
       "\t G01 X 0.502 F 4 \\\\\n",
       "\t G00 Z 0.000     \\\\\n",
       "\t G01 X 0.4175 F 4\\\\\n",
       "\t G01 Z -1 F 4    \\\\\n",
       "\t G01 X 0.502 F 4 \\\\\n",
       "\t G00 Z 0.000     \\\\\n",
       "\t G01 X 0.4025 F 4\\\\\n",
       "\t G01 Z -1 F 4    \\\\\n",
       "\t G01 X 0.502 F 4 \\\\\n",
       "\t G00 Z 0.000     \\\\\n",
       "\t G01 X 0.3875 F 4\\\\\n",
       "\t G01 Z -1 F 4    \\\\\n",
       "\t ⋮\\\\\n",
       "\t G01 X 0.502 F 4 \\\\\n",
       "\t G00 Z 0.000     \\\\\n",
       "\t G01 X 0.3575 F 4\\\\\n",
       "\t G01 Z -1 F 4    \\\\\n",
       "\t G01 X 0.502 F 4 \\\\\n",
       "\t G00 Z 0.000     \\\\\n",
       "\t G01 X 0.3425 F 4\\\\\n",
       "\t G01 Z -1 F 4    \\\\\n",
       "\t G01 X 0.502 F 4 \\\\\n",
       "\t G00 Z 0.000     \\\\\n",
       "\t G01 X 0.3275 F 4\\\\\n",
       "\t G01 Z -1 F 4    \\\\\n",
       "\t G01 X 0.502 F 4 \\\\\n",
       "\t G00 Z 0.000     \\\\\n",
       "\t G01 X 0.3125 F 4\\\\\n",
       "\t G01 Z -1 F 4    \\\\\n",
       "\t G01 X 0.502 F 4 \\\\\n",
       "\t G00 Z 0.000     \\\\\n",
       "\t G01 X 0.2975 F 4\\\\\n",
       "\t G01 Z -1 F 4    \\\\\n",
       "\t G01 X 0.502 F 4 \\\\\n",
       "\t G00 Z 0.000     \\\\\n",
       "\t G01 X 0.2825 F 4\\\\\n",
       "\t G01 Z -1 F 4    \\\\\n",
       "\t G01 X 0.502 F 4 \\\\\n",
       "\t G00 Z 0.000     \\\\\n",
       "\t G01 X 0.2545 F 4\\\\\n",
       "\t G01 Z -1 F 4    \\\\\n",
       "\t G01 X 0.502 F 4 \\\\\n",
       "\t G00 Z 0.000     \\\\\n",
       "\\end{tabular}\n"
      ],
      "text/markdown": [
       "\n",
       "A data.frame: 64 × 1\n",
       "\n",
       "| gcode &lt;chr&gt; |\n",
       "|---|\n",
       "| G01 X 0.4925 F 4 |\n",
       "| G01 Z -1 F 4     |\n",
       "| G01 X 0.502 F 4  |\n",
       "| G00 Z 0.000      |\n",
       "| G01 X 0.4775 F 4 |\n",
       "| G01 Z -1 F 4     |\n",
       "| G01 X 0.502 F 4  |\n",
       "| G00 Z 0.000      |\n",
       "| G01 X 0.4625 F 4 |\n",
       "| G01 Z -1 F 4     |\n",
       "| G01 X 0.502 F 4  |\n",
       "| G00 Z 0.000      |\n",
       "| G01 X 0.4475 F 4 |\n",
       "| G01 Z -1 F 4     |\n",
       "| G01 X 0.502 F 4  |\n",
       "| G00 Z 0.000      |\n",
       "| G01 X 0.4325 F 4 |\n",
       "| G01 Z -1 F 4     |\n",
       "| G01 X 0.502 F 4  |\n",
       "| G00 Z 0.000      |\n",
       "| G01 X 0.4175 F 4 |\n",
       "| G01 Z -1 F 4     |\n",
       "| G01 X 0.502 F 4  |\n",
       "| G00 Z 0.000      |\n",
       "| G01 X 0.4025 F 4 |\n",
       "| G01 Z -1 F 4     |\n",
       "| G01 X 0.502 F 4  |\n",
       "| G00 Z 0.000      |\n",
       "| G01 X 0.3875 F 4 |\n",
       "| G01 Z -1 F 4     |\n",
       "| ⋮ |\n",
       "| G01 X 0.502 F 4  |\n",
       "| G00 Z 0.000      |\n",
       "| G01 X 0.3575 F 4 |\n",
       "| G01 Z -1 F 4     |\n",
       "| G01 X 0.502 F 4  |\n",
       "| G00 Z 0.000      |\n",
       "| G01 X 0.3425 F 4 |\n",
       "| G01 Z -1 F 4     |\n",
       "| G01 X 0.502 F 4  |\n",
       "| G00 Z 0.000      |\n",
       "| G01 X 0.3275 F 4 |\n",
       "| G01 Z -1 F 4     |\n",
       "| G01 X 0.502 F 4  |\n",
       "| G00 Z 0.000      |\n",
       "| G01 X 0.3125 F 4 |\n",
       "| G01 Z -1 F 4     |\n",
       "| G01 X 0.502 F 4  |\n",
       "| G00 Z 0.000      |\n",
       "| G01 X 0.2975 F 4 |\n",
       "| G01 Z -1 F 4     |\n",
       "| G01 X 0.502 F 4  |\n",
       "| G00 Z 0.000      |\n",
       "| G01 X 0.2825 F 4 |\n",
       "| G01 Z -1 F 4     |\n",
       "| G01 X 0.502 F 4  |\n",
       "| G00 Z 0.000      |\n",
       "| G01 X 0.2545 F 4 |\n",
       "| G01 Z -1 F 4     |\n",
       "| G01 X 0.502 F 4  |\n",
       "| G00 Z 0.000      |\n",
       "\n"
      ],
      "text/plain": [
       "   gcode           \n",
       "1  G01 X 0.4925 F 4\n",
       "2  G01 Z -1 F 4    \n",
       "3  G01 X 0.502 F 4 \n",
       "4  G00 Z 0.000     \n",
       "5  G01 X 0.4775 F 4\n",
       "6  G01 Z -1 F 4    \n",
       "7  G01 X 0.502 F 4 \n",
       "8  G00 Z 0.000     \n",
       "9  G01 X 0.4625 F 4\n",
       "10 G01 Z -1 F 4    \n",
       "11 G01 X 0.502 F 4 \n",
       "12 G00 Z 0.000     \n",
       "13 G01 X 0.4475 F 4\n",
       "14 G01 Z -1 F 4    \n",
       "15 G01 X 0.502 F 4 \n",
       "16 G00 Z 0.000     \n",
       "17 G01 X 0.4325 F 4\n",
       "18 G01 Z -1 F 4    \n",
       "19 G01 X 0.502 F 4 \n",
       "20 G00 Z 0.000     \n",
       "21 G01 X 0.4175 F 4\n",
       "22 G01 Z -1 F 4    \n",
       "23 G01 X 0.502 F 4 \n",
       "24 G00 Z 0.000     \n",
       "25 G01 X 0.4025 F 4\n",
       "26 G01 Z -1 F 4    \n",
       "27 G01 X 0.502 F 4 \n",
       "28 G00 Z 0.000     \n",
       "29 G01 X 0.3875 F 4\n",
       "30 G01 Z -1 F 4    \n",
       "⋮  ⋮               \n",
       "35 G01 X 0.502 F 4 \n",
       "36 G00 Z 0.000     \n",
       "37 G01 X 0.3575 F 4\n",
       "38 G01 Z -1 F 4    \n",
       "39 G01 X 0.502 F 4 \n",
       "40 G00 Z 0.000     \n",
       "41 G01 X 0.3425 F 4\n",
       "42 G01 Z -1 F 4    \n",
       "43 G01 X 0.502 F 4 \n",
       "44 G00 Z 0.000     \n",
       "45 G01 X 0.3275 F 4\n",
       "46 G01 Z -1 F 4    \n",
       "47 G01 X 0.502 F 4 \n",
       "48 G00 Z 0.000     \n",
       "49 G01 X 0.3125 F 4\n",
       "50 G01 Z -1 F 4    \n",
       "51 G01 X 0.502 F 4 \n",
       "52 G00 Z 0.000     \n",
       "53 G01 X 0.2975 F 4\n",
       "54 G01 Z -1 F 4    \n",
       "55 G01 X 0.502 F 4 \n",
       "56 G00 Z 0.000     \n",
       "57 G01 X 0.2825 F 4\n",
       "58 G01 Z -1 F 4    \n",
       "59 G01 X 0.502 F 4 \n",
       "60 G00 Z 0.000     \n",
       "61 G01 X 0.2545 F 4\n",
       "62 G01 Z -1 F 4    \n",
       "63 G01 X 0.502 F 4 \n",
       "64 G00 Z 0.000     "
      ]
     },
     "metadata": {},
     "output_type": "display_data"
    }
   ],
   "source": [
    "df4"
   ]
  },
  {
   "cell_type": "code",
   "execution_count": 34,
   "id": "933c2a85-c4cf-45df-957a-f940412b2df5",
   "metadata": {
    "tags": []
   },
   "outputs": [],
   "source": [
    "Sherline <- c(\"(NOTE: Be sure the mode is G07. Since the machine does not have limit switches, if you power off the machine,)\", \n",
    "              \"(the Part Zero position will be gone. Therefore, it was necessary to establish a reference point)\", \n",
    "              \"(When first arting, use the handwheel and move the tip of tool to X = 0 with Z just touching the part.)\",\n",
    "              \"(Using AXIS, click the Home for both the X and Z axes.  This is Part Zero.)\",\n",
    "              \"(This gcode will move the tool to Part Zero at the end of the gcode file. A new part will change the Part Zero for Z.)\",\n",
    "              \"(T/F, with a new part in the lathe, manually run the first few lines of code to restablish the Part Zero.)\", \n",
    "              \"(Use the handwheel with on each axis and adjust as needed. Then click on “All Zero.” )\",\n",
    "              \"(All position numbers will change to 0.0000 and green, and you will be set to go again.)\")\n"
   ]
  },
  {
   "cell_type": "code",
   "execution_count": 35,
   "id": "9e4a0293-b37f-4e5d-bc3d-86e4d3dc6cc1",
   "metadata": {
    "tags": []
   },
   "outputs": [
    {
     "data": {
      "text/html": [
       "<style>\n",
       ".list-inline {list-style: none; margin:0; padding: 0}\n",
       ".list-inline>li {display: inline-block}\n",
       ".list-inline>li:not(:last-child)::after {content: \"\\00b7\"; padding: 0 .5ex}\n",
       "</style>\n",
       "<ol class=list-inline><li>'(NOTE: Be sure the mode is G07. Since the machine does not have limit switches, if you power off the machine,)'</li><li>'(the Part Zero position will be gone. Therefore, it was necessary to establish a reference point)'</li><li>'(When first arting, use the handwheel and move the tip of tool to X = 0 with Z just touching the part.)'</li><li><span style=white-space:pre-wrap>'(Using AXIS, click the Home for both the X and Z axes.  This is Part Zero.)'</span></li><li>'(This gcode will move the tool to Part Zero at the end of the gcode file. A new part will change the Part Zero for Z.)'</li><li>'(T/F, with a new part in the lathe, manually run the first few lines of code to restablish the Part Zero.)'</li><li>'(Use the handwheel with on each axis and adjust as needed. Then click on “All Zero.” )'</li><li>'(All position numbers will change to 0.0000 and green, and you will be set to go again.)'</li></ol>\n"
      ],
      "text/latex": [
       "\\begin{enumerate*}\n",
       "\\item '(NOTE: Be sure the mode is G07. Since the machine does not have limit switches, if you power off the machine,)'\n",
       "\\item '(the Part Zero position will be gone. Therefore, it was necessary to establish a reference point)'\n",
       "\\item '(When first arting, use the handwheel and move the tip of tool to X = 0 with Z just touching the part.)'\n",
       "\\item '(Using AXIS, click the Home for both the X and Z axes.  This is Part Zero.)'\n",
       "\\item '(This gcode will move the tool to Part Zero at the end of the gcode file. A new part will change the Part Zero for Z.)'\n",
       "\\item '(T/F, with a new part in the lathe, manually run the first few lines of code to restablish the Part Zero.)'\n",
       "\\item '(Use the handwheel with on each axis and adjust as needed. Then click on “All Zero.” )'\n",
       "\\item '(All position numbers will change to 0.0000 and green, and you will be set to go again.)'\n",
       "\\end{enumerate*}\n"
      ],
      "text/markdown": [
       "1. '(NOTE: Be sure the mode is G07. Since the machine does not have limit switches, if you power off the machine,)'\n",
       "2. '(the Part Zero position will be gone. Therefore, it was necessary to establish a reference point)'\n",
       "3. '(When first arting, use the handwheel and move the tip of tool to X = 0 with Z just touching the part.)'\n",
       "4. <span style=white-space:pre-wrap>'(Using AXIS, click the Home for both the X and Z axes.  This is Part Zero.)'</span>\n",
       "5. '(This gcode will move the tool to Part Zero at the end of the gcode file. A new part will change the Part Zero for Z.)'\n",
       "6. '(T/F, with a new part in the lathe, manually run the first few lines of code to restablish the Part Zero.)'\n",
       "7. '(Use the handwheel with on each axis and adjust as needed. Then click on “All Zero.” )'\n",
       "8. '(All position numbers will change to 0.0000 and green, and you will be set to go again.)'\n",
       "\n",
       "\n"
      ],
      "text/plain": [
       "[1] \"(NOTE: Be sure the mode is G07. Since the machine does not have limit switches, if you power off the machine,)\"        \n",
       "[2] \"(the Part Zero position will be gone. Therefore, it was necessary to establish a reference point)\"                     \n",
       "[3] \"(When first arting, use the handwheel and move the tip of tool to X = 0 with Z just touching the part.)\"               \n",
       "[4] \"(Using AXIS, click the Home for both the X and Z axes.  This is Part Zero.)\"                                           \n",
       "[5] \"(This gcode will move the tool to Part Zero at the end of the gcode file. A new part will change the Part Zero for Z.)\"\n",
       "[6] \"(T/F, with a new part in the lathe, manually run the first few lines of code to restablish the Part Zero.)\"            \n",
       "[7] \"(Use the handwheel with on each axis and adjust as needed. Then click on “All Zero.” )\"                                \n",
       "[8] \"(All position numbers will change to 0.0000 and green, and you will be set to go again.)\"                              "
      ]
     },
     "metadata": {},
     "output_type": "display_data"
    }
   ],
   "source": [
    "Sherline"
   ]
  },
  {
   "cell_type": "code",
   "execution_count": 36,
   "id": "d7a7bd51-45e8-4107-a4d5-2cee8e512281",
   "metadata": {
    "tags": []
   },
   "outputs": [
    {
     "data": {
      "text/html": [
       "<table class=\"dataframe\">\n",
       "<caption>A data.frame: 27 × 1</caption>\n",
       "<thead>\n",
       "\t<tr><th scope=col>gcode</th></tr>\n",
       "\t<tr><th scope=col>&lt;chr&gt;</th></tr>\n",
       "</thead>\n",
       "<tbody>\n",
       "\t<tr><td>%                                                                                                                     </td></tr>\n",
       "\t<tr><td>(Straigh Roughing Profile)                                                                                            </td></tr>\n",
       "\t<tr><td>(NOTE: Be sure the mode is G07. Since the machine does not have limit switches, if you power off the machine,)        </td></tr>\n",
       "\t<tr><td>(the Part Zero position will be gone. Therefore, it was necessary to establish a reference point)                     </td></tr>\n",
       "\t<tr><td>(When first arting, use the handwheel and move the tip of tool to X = 0 with Z just touching the part.)               </td></tr>\n",
       "\t<tr><td>(Using AXIS, click the Home for both the X and Z axes.  This is Part Zero.)                                           </td></tr>\n",
       "\t<tr><td>(This gcode will move the tool to Part Zero at the end of the gcode file. A new part will change the Part Zero for Z.)</td></tr>\n",
       "\t<tr><td>(T/F, with a new part in the lathe, manually run the first few lines of code to restablish the Part Zero.)            </td></tr>\n",
       "\t<tr><td>(Use the handwheel with on each axis and adjust as needed. Then click on “All Zero.” )                                </td></tr>\n",
       "\t<tr><td>(All position numbers will change to 0.0000 and green, and you will be set to go again.)                              </td></tr>\n",
       "\t<tr><td>(Lathe gcodes:)                                                                                                       </td></tr>\n",
       "\t<tr><td>G07  ( lathe radius mode )                                                                                            </td></tr>\n",
       "\t<tr><td>G18   ( Plane: ZX )                                                                                                   </td></tr>\n",
       "\t<tr><td>G20   (  inches for length units )                                                                                    </td></tr>\n",
       "\t<tr><td>G40   (  cancel the cutter compensation. )                                                                            </td></tr>\n",
       "\t<tr><td>G49   ( cancel tool length offset )                                                                                   </td></tr>\n",
       "\t<tr><td>G90   ( distance mode: ABSOLUTE )                                                                                     </td></tr>\n",
       "\t<tr><td>G94   ( reset feed rate: inches / minute - Fx )                                                                       </td></tr>\n",
       "\t<tr><td>                                                                                                                      </td></tr>\n",
       "\t<tr><td>                                                                                                                      </td></tr>\n",
       "\t<tr><td>G91 G28 X.25 Z.250                                                                                                    </td></tr>\n",
       "\t<tr><td>G90                                                                                                                   </td></tr>\n",
       "\t<tr><td>G28 X0.0 Z0.0 (Part Zero - homing sequence)                                                                           </td></tr>\n",
       "\t<tr><td>G01 Z0.20 F5                                                                                                          </td></tr>\n",
       "\t<tr><td>G01 Z0.00  (Z should be touching face of part again)                                                                  </td></tr>\n",
       "\t<tr><td>G00 X0.75 (Manually reset tool to the starting postion if nec. Turn the steppers back to ON SWITCH)                   </td></tr>\n",
       "\t<tr><td>                                                                                                                      </td></tr>\n",
       "</tbody>\n",
       "</table>\n"
      ],
      "text/latex": [
       "A data.frame: 27 × 1\n",
       "\\begin{tabular}{l}\n",
       " gcode\\\\\n",
       " <chr>\\\\\n",
       "\\hline\n",
       "\t \\%                                                                                                                     \\\\\n",
       "\t (Straigh Roughing Profile)                                                                                            \\\\\n",
       "\t (NOTE: Be sure the mode is G07. Since the machine does not have limit switches, if you power off the machine,)        \\\\\n",
       "\t (the Part Zero position will be gone. Therefore, it was necessary to establish a reference point)                     \\\\\n",
       "\t (When first arting, use the handwheel and move the tip of tool to X = 0 with Z just touching the part.)               \\\\\n",
       "\t (Using AXIS, click the Home for both the X and Z axes.  This is Part Zero.)                                           \\\\\n",
       "\t (This gcode will move the tool to Part Zero at the end of the gcode file. A new part will change the Part Zero for Z.)\\\\\n",
       "\t (T/F, with a new part in the lathe, manually run the first few lines of code to restablish the Part Zero.)            \\\\\n",
       "\t (Use the handwheel with on each axis and adjust as needed. Then click on “All Zero.” )                                \\\\\n",
       "\t (All position numbers will change to 0.0000 and green, and you will be set to go again.)                              \\\\\n",
       "\t (Lathe gcodes:)                                                                                                       \\\\\n",
       "\t G07  ( lathe radius mode )                                                                                            \\\\\n",
       "\t G18   ( Plane: ZX )                                                                                                   \\\\\n",
       "\t G20   (  inches for length units )                                                                                    \\\\\n",
       "\t G40   (  cancel the cutter compensation. )                                                                            \\\\\n",
       "\t G49   ( cancel tool length offset )                                                                                   \\\\\n",
       "\t G90   ( distance mode: ABSOLUTE )                                                                                     \\\\\n",
       "\t G94   ( reset feed rate: inches / minute - Fx )                                                                       \\\\\n",
       "\t                                                                                                                       \\\\\n",
       "\t                                                                                                                       \\\\\n",
       "\t G91 G28 X.25 Z.250                                                                                                    \\\\\n",
       "\t G90                                                                                                                   \\\\\n",
       "\t G28 X0.0 Z0.0 (Part Zero - homing sequence)                                                                           \\\\\n",
       "\t G01 Z0.20 F5                                                                                                          \\\\\n",
       "\t G01 Z0.00  (Z should be touching face of part again)                                                                  \\\\\n",
       "\t G00 X0.75 (Manually reset tool to the starting postion if nec. Turn the steppers back to ON SWITCH)                   \\\\\n",
       "\t                                                                                                                       \\\\\n",
       "\\end{tabular}\n"
      ],
      "text/markdown": [
       "\n",
       "A data.frame: 27 × 1\n",
       "\n",
       "| gcode &lt;chr&gt; |\n",
       "|---|\n",
       "| %                                                                                                                      |\n",
       "| (Straigh Roughing Profile)                                                                                             |\n",
       "| (NOTE: Be sure the mode is G07. Since the machine does not have limit switches, if you power off the machine,)         |\n",
       "| (the Part Zero position will be gone. Therefore, it was necessary to establish a reference point)                      |\n",
       "| (When first arting, use the handwheel and move the tip of tool to X = 0 with Z just touching the part.)                |\n",
       "| (Using AXIS, click the Home for both the X and Z axes.  This is Part Zero.)                                            |\n",
       "| (This gcode will move the tool to Part Zero at the end of the gcode file. A new part will change the Part Zero for Z.) |\n",
       "| (T/F, with a new part in the lathe, manually run the first few lines of code to restablish the Part Zero.)             |\n",
       "| (Use the handwheel with on each axis and adjust as needed. Then click on “All Zero.” )                                 |\n",
       "| (All position numbers will change to 0.0000 and green, and you will be set to go again.)                               |\n",
       "| (Lathe gcodes:)                                                                                                        |\n",
       "| G07  ( lathe radius mode )                                                                                             |\n",
       "| G18   ( Plane: ZX )                                                                                                    |\n",
       "| G20   (  inches for length units )                                                                                     |\n",
       "| G40   (  cancel the cutter compensation. )                                                                             |\n",
       "| G49   ( cancel tool length offset )                                                                                    |\n",
       "| G90   ( distance mode: ABSOLUTE )                                                                                      |\n",
       "| G94   ( reset feed rate: inches / minute - Fx )                                                                        |\n",
       "| <!----> |\n",
       "| <!----> |\n",
       "| G91 G28 X.25 Z.250                                                                                                     |\n",
       "| G90                                                                                                                    |\n",
       "| G28 X0.0 Z0.0 (Part Zero - homing sequence)                                                                            |\n",
       "| G01 Z0.20 F5                                                                                                           |\n",
       "| G01 Z0.00  (Z should be touching face of part again)                                                                   |\n",
       "| G00 X0.75 (Manually reset tool to the starting postion if nec. Turn the steppers back to ON SWITCH)                    |\n",
       "| <!----> |\n",
       "\n"
      ],
      "text/plain": [
       "   gcode                                                                                                                 \n",
       "1  %                                                                                                                     \n",
       "2  (Straigh Roughing Profile)                                                                                            \n",
       "3  (NOTE: Be sure the mode is G07. Since the machine does not have limit switches, if you power off the machine,)        \n",
       "4  (the Part Zero position will be gone. Therefore, it was necessary to establish a reference point)                     \n",
       "5  (When first arting, use the handwheel and move the tip of tool to X = 0 with Z just touching the part.)               \n",
       "6  (Using AXIS, click the Home for both the X and Z axes.  This is Part Zero.)                                           \n",
       "7  (This gcode will move the tool to Part Zero at the end of the gcode file. A new part will change the Part Zero for Z.)\n",
       "8  (T/F, with a new part in the lathe, manually run the first few lines of code to restablish the Part Zero.)            \n",
       "9  (Use the handwheel with on each axis and adjust as needed. Then click on “All Zero.” )                                \n",
       "10 (All position numbers will change to 0.0000 and green, and you will be set to go again.)                              \n",
       "11 (Lathe gcodes:)                                                                                                       \n",
       "12 G07  ( lathe radius mode )                                                                                            \n",
       "13 G18   ( Plane: ZX )                                                                                                   \n",
       "14 G20   (  inches for length units )                                                                                    \n",
       "15 G40   (  cancel the cutter compensation. )                                                                            \n",
       "16 G49   ( cancel tool length offset )                                                                                   \n",
       "17 G90   ( distance mode: ABSOLUTE )                                                                                     \n",
       "18 G94   ( reset feed rate: inches / minute - Fx )                                                                       \n",
       "19                                                                                                                       \n",
       "20                                                                                                                       \n",
       "21 G91 G28 X.25 Z.250                                                                                                    \n",
       "22 G90                                                                                                                   \n",
       "23 G28 X0.0 Z0.0 (Part Zero - homing sequence)                                                                           \n",
       "24 G01 Z0.20 F5                                                                                                          \n",
       "25 G01 Z0.00  (Z should be touching face of part again)                                                                  \n",
       "26 G00 X0.75 (Manually reset tool to the starting postion if nec. Turn the steppers back to ON SWITCH)                   \n",
       "27                                                                                                                       "
      ]
     },
     "metadata": {},
     "output_type": "display_data"
    }
   ],
   "source": [
    "# Add the req'd gcode start character % for LinuxCNC\n",
    "gcodes <- data.frame(gcode = c(\"%\", \"(Straigh Roughing Profile)\", Sherline, \"(Lathe gcodes:)\", \"G07  ( lathe radius mode )\", \"G18   ( Plane: ZX )\", \"G20   (  inches for length units )\", \"G40   (  cancel the cutter compensation. )\", \"G49   ( cancel tool length offset )\", \"G90   ( distance mode: ABSOLUTE )\", \"G94   ( reset feed rate: inches / minute - Fx )\", \" \", \" \", \"G91 G28 X.25 Z.250\", \"G90\", \"G28 X0.0 Z0.0 (Part Zero - homing sequence)\",\"G01 Z0.20 F5\", \"G01 Z0.00  (Z should be touching face of part again)\", \"G00 X0.75 (Manually reset tool to the starting postion if nec. Turn the steppers back to ON SWITCH)\",\" \"))\n",
    "gcodes\n",
    "#write.csv(gcode, file = \"gcode_file4.csv\", row.names = FALSE)\n",
    "# str(gcodes)"
   ]
  },
  {
   "cell_type": "code",
   "execution_count": 37,
   "id": "2fa88de1-e1ea-4584-a1fd-46fcbc0c2097",
   "metadata": {
    "jupyter": {
     "source_hidden": true
    },
    "tags": []
   },
   "outputs": [],
   "source": [
    "# gcodes$gcode[1]"
   ]
  },
  {
   "cell_type": "code",
   "execution_count": 38,
   "id": "95ef8f8f-5299-4b0c-aa42-8ec835b27c5f",
   "metadata": {
    "jupyter": {
     "source_hidden": true
    },
    "tags": []
   },
   "outputs": [],
   "source": [
    "gcode_rough <- as.data.frame(rbind(gcodes, df4) )"
   ]
  },
  {
   "cell_type": "code",
   "execution_count": 39,
   "id": "e0da79e9-06f5-48b2-ae37-3b8481f02960",
   "metadata": {
    "tags": []
   },
   "outputs": [
    {
     "data": {
      "text/html": [
       "<table class=\"dataframe\">\n",
       "<caption>A data.frame: 12 × 1</caption>\n",
       "<thead>\n",
       "\t<tr><th></th><th scope=col>gcode</th></tr>\n",
       "\t<tr><th></th><th scope=col>&lt;chr&gt;</th></tr>\n",
       "</thead>\n",
       "<tbody>\n",
       "\t<tr><th scope=row>1</th><td>%                                                                                                                     </td></tr>\n",
       "\t<tr><th scope=row>2</th><td>(Straigh Roughing Profile)                                                                                            </td></tr>\n",
       "\t<tr><th scope=row>3</th><td>(NOTE: Be sure the mode is G07. Since the machine does not have limit switches, if you power off the machine,)        </td></tr>\n",
       "\t<tr><th scope=row>4</th><td>(the Part Zero position will be gone. Therefore, it was necessary to establish a reference point)                     </td></tr>\n",
       "\t<tr><th scope=row>5</th><td>(When first arting, use the handwheel and move the tip of tool to X = 0 with Z just touching the part.)               </td></tr>\n",
       "\t<tr><th scope=row>6</th><td>(Using AXIS, click the Home for both the X and Z axes.  This is Part Zero.)                                           </td></tr>\n",
       "\t<tr><th scope=row>7</th><td>(This gcode will move the tool to Part Zero at the end of the gcode file. A new part will change the Part Zero for Z.)</td></tr>\n",
       "\t<tr><th scope=row>8</th><td>(T/F, with a new part in the lathe, manually run the first few lines of code to restablish the Part Zero.)            </td></tr>\n",
       "\t<tr><th scope=row>9</th><td>(Use the handwheel with on each axis and adjust as needed. Then click on “All Zero.” )                                </td></tr>\n",
       "\t<tr><th scope=row>10</th><td>(All position numbers will change to 0.0000 and green, and you will be set to go again.)                              </td></tr>\n",
       "\t<tr><th scope=row>11</th><td>(Lathe gcodes:)                                                                                                       </td></tr>\n",
       "\t<tr><th scope=row>12</th><td>G07  ( lathe radius mode )                                                                                            </td></tr>\n",
       "</tbody>\n",
       "</table>\n"
      ],
      "text/latex": [
       "A data.frame: 12 × 1\n",
       "\\begin{tabular}{r|l}\n",
       "  & gcode\\\\\n",
       "  & <chr>\\\\\n",
       "\\hline\n",
       "\t1 & \\%                                                                                                                     \\\\\n",
       "\t2 & (Straigh Roughing Profile)                                                                                            \\\\\n",
       "\t3 & (NOTE: Be sure the mode is G07. Since the machine does not have limit switches, if you power off the machine,)        \\\\\n",
       "\t4 & (the Part Zero position will be gone. Therefore, it was necessary to establish a reference point)                     \\\\\n",
       "\t5 & (When first arting, use the handwheel and move the tip of tool to X = 0 with Z just touching the part.)               \\\\\n",
       "\t6 & (Using AXIS, click the Home for both the X and Z axes.  This is Part Zero.)                                           \\\\\n",
       "\t7 & (This gcode will move the tool to Part Zero at the end of the gcode file. A new part will change the Part Zero for Z.)\\\\\n",
       "\t8 & (T/F, with a new part in the lathe, manually run the first few lines of code to restablish the Part Zero.)            \\\\\n",
       "\t9 & (Use the handwheel with on each axis and adjust as needed. Then click on “All Zero.” )                                \\\\\n",
       "\t10 & (All position numbers will change to 0.0000 and green, and you will be set to go again.)                              \\\\\n",
       "\t11 & (Lathe gcodes:)                                                                                                       \\\\\n",
       "\t12 & G07  ( lathe radius mode )                                                                                            \\\\\n",
       "\\end{tabular}\n"
      ],
      "text/markdown": [
       "\n",
       "A data.frame: 12 × 1\n",
       "\n",
       "| <!--/--> | gcode &lt;chr&gt; |\n",
       "|---|---|\n",
       "| 1 | %                                                                                                                      |\n",
       "| 2 | (Straigh Roughing Profile)                                                                                             |\n",
       "| 3 | (NOTE: Be sure the mode is G07. Since the machine does not have limit switches, if you power off the machine,)         |\n",
       "| 4 | (the Part Zero position will be gone. Therefore, it was necessary to establish a reference point)                      |\n",
       "| 5 | (When first arting, use the handwheel and move the tip of tool to X = 0 with Z just touching the part.)                |\n",
       "| 6 | (Using AXIS, click the Home for both the X and Z axes.  This is Part Zero.)                                            |\n",
       "| 7 | (This gcode will move the tool to Part Zero at the end of the gcode file. A new part will change the Part Zero for Z.) |\n",
       "| 8 | (T/F, with a new part in the lathe, manually run the first few lines of code to restablish the Part Zero.)             |\n",
       "| 9 | (Use the handwheel with on each axis and adjust as needed. Then click on “All Zero.” )                                 |\n",
       "| 10 | (All position numbers will change to 0.0000 and green, and you will be set to go again.)                               |\n",
       "| 11 | (Lathe gcodes:)                                                                                                        |\n",
       "| 12 | G07  ( lathe radius mode )                                                                                             |\n",
       "\n"
      ],
      "text/plain": [
       "   gcode                                                                                                                 \n",
       "1  %                                                                                                                     \n",
       "2  (Straigh Roughing Profile)                                                                                            \n",
       "3  (NOTE: Be sure the mode is G07. Since the machine does not have limit switches, if you power off the machine,)        \n",
       "4  (the Part Zero position will be gone. Therefore, it was necessary to establish a reference point)                     \n",
       "5  (When first arting, use the handwheel and move the tip of tool to X = 0 with Z just touching the part.)               \n",
       "6  (Using AXIS, click the Home for both the X and Z axes.  This is Part Zero.)                                           \n",
       "7  (This gcode will move the tool to Part Zero at the end of the gcode file. A new part will change the Part Zero for Z.)\n",
       "8  (T/F, with a new part in the lathe, manually run the first few lines of code to restablish the Part Zero.)            \n",
       "9  (Use the handwheel with on each axis and adjust as needed. Then click on “All Zero.” )                                \n",
       "10 (All position numbers will change to 0.0000 and green, and you will be set to go again.)                              \n",
       "11 (Lathe gcodes:)                                                                                                       \n",
       "12 G07  ( lathe radius mode )                                                                                            "
      ]
     },
     "metadata": {},
     "output_type": "display_data"
    }
   ],
   "source": [
    "head(gcode_rough,12)"
   ]
  },
  {
   "cell_type": "code",
   "execution_count": 40,
   "id": "4d948056-fa08-404c-8206-d1c46f7c380a",
   "metadata": {},
   "outputs": [
    {
     "data": {
      "text/html": [
       "<table class=\"dataframe\">\n",
       "<caption>A data.frame: 3 × 1</caption>\n",
       "<thead>\n",
       "\t<tr><th scope=col>gcode</th></tr>\n",
       "\t<tr><th scope=col>&lt;chr&gt;</th></tr>\n",
       "</thead>\n",
       "<tbody>\n",
       "\t<tr><td>G01 X0.00 F3                                                    </td></tr>\n",
       "\t<tr><td>M30  (Rewind to start. Use M02 to restart in current end state.)</td></tr>\n",
       "\t<tr><td>%                                                               </td></tr>\n",
       "</tbody>\n",
       "</table>\n"
      ],
      "text/latex": [
       "A data.frame: 3 × 1\n",
       "\\begin{tabular}{l}\n",
       " gcode\\\\\n",
       " <chr>\\\\\n",
       "\\hline\n",
       "\t G01 X0.00 F3                                                    \\\\\n",
       "\t M30  (Rewind to start. Use M02 to restart in current end state.)\\\\\n",
       "\t \\%                                                               \\\\\n",
       "\\end{tabular}\n"
      ],
      "text/markdown": [
       "\n",
       "A data.frame: 3 × 1\n",
       "\n",
       "| gcode &lt;chr&gt; |\n",
       "|---|\n",
       "| G01 X0.00 F3                                                     |\n",
       "| M30  (Rewind to start. Use M02 to restart in current end state.) |\n",
       "| %                                                                |\n",
       "\n"
      ],
      "text/plain": [
       "  gcode                                                           \n",
       "1 G01 X0.00 F3                                                    \n",
       "2 M30  (Rewind to start. Use M02 to restart in current end state.)\n",
       "3 %                                                               "
      ]
     },
     "metadata": {},
     "output_type": "display_data"
    }
   ],
   "source": [
    "# Add the req'd gcode end character for LinuxCNC\n",
    "closer <- data.frame(gcode = c(\"G01 X0.00 F3\", \"M30  (Rewind to start. Use M02 to restart in current end state.)\", \"%\" ))\n",
    "closer"
   ]
  },
  {
   "cell_type": "code",
   "execution_count": 41,
   "id": "1fb57dcb-be37-4574-9be0-64c35c59907d",
   "metadata": {
    "jupyter": {
     "source_hidden": true
    },
    "tags": []
   },
   "outputs": [],
   "source": [
    "gcode_rough1 <- as.data.frame(rbind(gcode_rough, closer) )"
   ]
  },
  {
   "cell_type": "code",
   "execution_count": 42,
   "id": "cf4aeed2-33d8-4261-975c-068026fa06ef",
   "metadata": {
    "tags": []
   },
   "outputs": [
    {
     "data": {
      "text/html": [
       "<table class=\"dataframe\">\n",
       "<caption>A data.frame: 94 × 1</caption>\n",
       "<thead>\n",
       "\t<tr><th scope=col>gcode</th></tr>\n",
       "\t<tr><th scope=col>&lt;chr&gt;</th></tr>\n",
       "</thead>\n",
       "<tbody>\n",
       "\t<tr><td>%                                                                                                                     </td></tr>\n",
       "\t<tr><td>(Straigh Roughing Profile)                                                                                            </td></tr>\n",
       "\t<tr><td>(NOTE: Be sure the mode is G07. Since the machine does not have limit switches, if you power off the machine,)        </td></tr>\n",
       "\t<tr><td>(the Part Zero position will be gone. Therefore, it was necessary to establish a reference point)                     </td></tr>\n",
       "\t<tr><td>(When first arting, use the handwheel and move the tip of tool to X = 0 with Z just touching the part.)               </td></tr>\n",
       "\t<tr><td>(Using AXIS, click the Home for both the X and Z axes.  This is Part Zero.)                                           </td></tr>\n",
       "\t<tr><td>(This gcode will move the tool to Part Zero at the end of the gcode file. A new part will change the Part Zero for Z.)</td></tr>\n",
       "\t<tr><td>(T/F, with a new part in the lathe, manually run the first few lines of code to restablish the Part Zero.)            </td></tr>\n",
       "\t<tr><td>(Use the handwheel with on each axis and adjust as needed. Then click on “All Zero.” )                                </td></tr>\n",
       "\t<tr><td>(All position numbers will change to 0.0000 and green, and you will be set to go again.)                              </td></tr>\n",
       "\t<tr><td>(Lathe gcodes:)                                                                                                       </td></tr>\n",
       "\t<tr><td>G07  ( lathe radius mode )                                                                                            </td></tr>\n",
       "\t<tr><td>G18   ( Plane: ZX )                                                                                                   </td></tr>\n",
       "\t<tr><td>G20   (  inches for length units )                                                                                    </td></tr>\n",
       "\t<tr><td>G40   (  cancel the cutter compensation. )                                                                            </td></tr>\n",
       "\t<tr><td>G49   ( cancel tool length offset )                                                                                   </td></tr>\n",
       "\t<tr><td>G90   ( distance mode: ABSOLUTE )                                                                                     </td></tr>\n",
       "\t<tr><td>G94   ( reset feed rate: inches / minute - Fx )                                                                       </td></tr>\n",
       "\t<tr><td>                                                                                                                      </td></tr>\n",
       "\t<tr><td>                                                                                                                      </td></tr>\n",
       "\t<tr><td>G91 G28 X.25 Z.250                                                                                                    </td></tr>\n",
       "\t<tr><td>G90                                                                                                                   </td></tr>\n",
       "\t<tr><td>G28 X0.0 Z0.0 (Part Zero - homing sequence)                                                                           </td></tr>\n",
       "\t<tr><td>G01 Z0.20 F5                                                                                                          </td></tr>\n",
       "\t<tr><td>G01 Z0.00  (Z should be touching face of part again)                                                                  </td></tr>\n",
       "\t<tr><td>G00 X0.75 (Manually reset tool to the starting postion if nec. Turn the steppers back to ON SWITCH)                   </td></tr>\n",
       "\t<tr><td>                                                                                                                      </td></tr>\n",
       "\t<tr><td>G01 X 0.4925 F 4                                                                                                      </td></tr>\n",
       "\t<tr><td>G01 Z -1 F 4                                                                                                          </td></tr>\n",
       "\t<tr><td>G01 X 0.502 F 4                                                                                                       </td></tr>\n",
       "\t<tr><td>⋮</td></tr>\n",
       "\t<tr><td>G01 Z -1 F 4                                                    </td></tr>\n",
       "\t<tr><td>G01 X 0.502 F 4                                                 </td></tr>\n",
       "\t<tr><td>G00 Z 0.000                                                     </td></tr>\n",
       "\t<tr><td>G01 X 0.3425 F 4                                                </td></tr>\n",
       "\t<tr><td>G01 Z -1 F 4                                                    </td></tr>\n",
       "\t<tr><td>G01 X 0.502 F 4                                                 </td></tr>\n",
       "\t<tr><td>G00 Z 0.000                                                     </td></tr>\n",
       "\t<tr><td>G01 X 0.3275 F 4                                                </td></tr>\n",
       "\t<tr><td>G01 Z -1 F 4                                                    </td></tr>\n",
       "\t<tr><td>G01 X 0.502 F 4                                                 </td></tr>\n",
       "\t<tr><td>G00 Z 0.000                                                     </td></tr>\n",
       "\t<tr><td>G01 X 0.3125 F 4                                                </td></tr>\n",
       "\t<tr><td>G01 Z -1 F 4                                                    </td></tr>\n",
       "\t<tr><td>G01 X 0.502 F 4                                                 </td></tr>\n",
       "\t<tr><td>G00 Z 0.000                                                     </td></tr>\n",
       "\t<tr><td>G01 X 0.2975 F 4                                                </td></tr>\n",
       "\t<tr><td>G01 Z -1 F 4                                                    </td></tr>\n",
       "\t<tr><td>G01 X 0.502 F 4                                                 </td></tr>\n",
       "\t<tr><td>G00 Z 0.000                                                     </td></tr>\n",
       "\t<tr><td>G01 X 0.2825 F 4                                                </td></tr>\n",
       "\t<tr><td>G01 Z -1 F 4                                                    </td></tr>\n",
       "\t<tr><td>G01 X 0.502 F 4                                                 </td></tr>\n",
       "\t<tr><td>G00 Z 0.000                                                     </td></tr>\n",
       "\t<tr><td>G01 X 0.2545 F 4                                                </td></tr>\n",
       "\t<tr><td>G01 Z -1 F 4                                                    </td></tr>\n",
       "\t<tr><td>G01 X 0.502 F 4                                                 </td></tr>\n",
       "\t<tr><td>G00 Z 0.000                                                     </td></tr>\n",
       "\t<tr><td>G01 X0.00 F3                                                    </td></tr>\n",
       "\t<tr><td>M30  (Rewind to start. Use M02 to restart in current end state.)</td></tr>\n",
       "\t<tr><td>%                                                               </td></tr>\n",
       "</tbody>\n",
       "</table>\n"
      ],
      "text/latex": [
       "A data.frame: 94 × 1\n",
       "\\begin{tabular}{l}\n",
       " gcode\\\\\n",
       " <chr>\\\\\n",
       "\\hline\n",
       "\t \\%                                                                                                                     \\\\\n",
       "\t (Straigh Roughing Profile)                                                                                            \\\\\n",
       "\t (NOTE: Be sure the mode is G07. Since the machine does not have limit switches, if you power off the machine,)        \\\\\n",
       "\t (the Part Zero position will be gone. Therefore, it was necessary to establish a reference point)                     \\\\\n",
       "\t (When first arting, use the handwheel and move the tip of tool to X = 0 with Z just touching the part.)               \\\\\n",
       "\t (Using AXIS, click the Home for both the X and Z axes.  This is Part Zero.)                                           \\\\\n",
       "\t (This gcode will move the tool to Part Zero at the end of the gcode file. A new part will change the Part Zero for Z.)\\\\\n",
       "\t (T/F, with a new part in the lathe, manually run the first few lines of code to restablish the Part Zero.)            \\\\\n",
       "\t (Use the handwheel with on each axis and adjust as needed. Then click on “All Zero.” )                                \\\\\n",
       "\t (All position numbers will change to 0.0000 and green, and you will be set to go again.)                              \\\\\n",
       "\t (Lathe gcodes:)                                                                                                       \\\\\n",
       "\t G07  ( lathe radius mode )                                                                                            \\\\\n",
       "\t G18   ( Plane: ZX )                                                                                                   \\\\\n",
       "\t G20   (  inches for length units )                                                                                    \\\\\n",
       "\t G40   (  cancel the cutter compensation. )                                                                            \\\\\n",
       "\t G49   ( cancel tool length offset )                                                                                   \\\\\n",
       "\t G90   ( distance mode: ABSOLUTE )                                                                                     \\\\\n",
       "\t G94   ( reset feed rate: inches / minute - Fx )                                                                       \\\\\n",
       "\t                                                                                                                       \\\\\n",
       "\t                                                                                                                       \\\\\n",
       "\t G91 G28 X.25 Z.250                                                                                                    \\\\\n",
       "\t G90                                                                                                                   \\\\\n",
       "\t G28 X0.0 Z0.0 (Part Zero - homing sequence)                                                                           \\\\\n",
       "\t G01 Z0.20 F5                                                                                                          \\\\\n",
       "\t G01 Z0.00  (Z should be touching face of part again)                                                                  \\\\\n",
       "\t G00 X0.75 (Manually reset tool to the starting postion if nec. Turn the steppers back to ON SWITCH)                   \\\\\n",
       "\t                                                                                                                       \\\\\n",
       "\t G01 X 0.4925 F 4                                                                                                      \\\\\n",
       "\t G01 Z -1 F 4                                                                                                          \\\\\n",
       "\t G01 X 0.502 F 4                                                                                                       \\\\\n",
       "\t ⋮\\\\\n",
       "\t G01 Z -1 F 4                                                    \\\\\n",
       "\t G01 X 0.502 F 4                                                 \\\\\n",
       "\t G00 Z 0.000                                                     \\\\\n",
       "\t G01 X 0.3425 F 4                                                \\\\\n",
       "\t G01 Z -1 F 4                                                    \\\\\n",
       "\t G01 X 0.502 F 4                                                 \\\\\n",
       "\t G00 Z 0.000                                                     \\\\\n",
       "\t G01 X 0.3275 F 4                                                \\\\\n",
       "\t G01 Z -1 F 4                                                    \\\\\n",
       "\t G01 X 0.502 F 4                                                 \\\\\n",
       "\t G00 Z 0.000                                                     \\\\\n",
       "\t G01 X 0.3125 F 4                                                \\\\\n",
       "\t G01 Z -1 F 4                                                    \\\\\n",
       "\t G01 X 0.502 F 4                                                 \\\\\n",
       "\t G00 Z 0.000                                                     \\\\\n",
       "\t G01 X 0.2975 F 4                                                \\\\\n",
       "\t G01 Z -1 F 4                                                    \\\\\n",
       "\t G01 X 0.502 F 4                                                 \\\\\n",
       "\t G00 Z 0.000                                                     \\\\\n",
       "\t G01 X 0.2825 F 4                                                \\\\\n",
       "\t G01 Z -1 F 4                                                    \\\\\n",
       "\t G01 X 0.502 F 4                                                 \\\\\n",
       "\t G00 Z 0.000                                                     \\\\\n",
       "\t G01 X 0.2545 F 4                                                \\\\\n",
       "\t G01 Z -1 F 4                                                    \\\\\n",
       "\t G01 X 0.502 F 4                                                 \\\\\n",
       "\t G00 Z 0.000                                                     \\\\\n",
       "\t G01 X0.00 F3                                                    \\\\\n",
       "\t M30  (Rewind to start. Use M02 to restart in current end state.)\\\\\n",
       "\t \\%                                                               \\\\\n",
       "\\end{tabular}\n"
      ],
      "text/markdown": [
       "\n",
       "A data.frame: 94 × 1\n",
       "\n",
       "| gcode &lt;chr&gt; |\n",
       "|---|\n",
       "| %                                                                                                                      |\n",
       "| (Straigh Roughing Profile)                                                                                             |\n",
       "| (NOTE: Be sure the mode is G07. Since the machine does not have limit switches, if you power off the machine,)         |\n",
       "| (the Part Zero position will be gone. Therefore, it was necessary to establish a reference point)                      |\n",
       "| (When first arting, use the handwheel and move the tip of tool to X = 0 with Z just touching the part.)                |\n",
       "| (Using AXIS, click the Home for both the X and Z axes.  This is Part Zero.)                                            |\n",
       "| (This gcode will move the tool to Part Zero at the end of the gcode file. A new part will change the Part Zero for Z.) |\n",
       "| (T/F, with a new part in the lathe, manually run the first few lines of code to restablish the Part Zero.)             |\n",
       "| (Use the handwheel with on each axis and adjust as needed. Then click on “All Zero.” )                                 |\n",
       "| (All position numbers will change to 0.0000 and green, and you will be set to go again.)                               |\n",
       "| (Lathe gcodes:)                                                                                                        |\n",
       "| G07  ( lathe radius mode )                                                                                             |\n",
       "| G18   ( Plane: ZX )                                                                                                    |\n",
       "| G20   (  inches for length units )                                                                                     |\n",
       "| G40   (  cancel the cutter compensation. )                                                                             |\n",
       "| G49   ( cancel tool length offset )                                                                                    |\n",
       "| G90   ( distance mode: ABSOLUTE )                                                                                      |\n",
       "| G94   ( reset feed rate: inches / minute - Fx )                                                                        |\n",
       "| <!----> |\n",
       "| <!----> |\n",
       "| G91 G28 X.25 Z.250                                                                                                     |\n",
       "| G90                                                                                                                    |\n",
       "| G28 X0.0 Z0.0 (Part Zero - homing sequence)                                                                            |\n",
       "| G01 Z0.20 F5                                                                                                           |\n",
       "| G01 Z0.00  (Z should be touching face of part again)                                                                   |\n",
       "| G00 X0.75 (Manually reset tool to the starting postion if nec. Turn the steppers back to ON SWITCH)                    |\n",
       "| <!----> |\n",
       "| G01 X 0.4925 F 4                                                                                                       |\n",
       "| G01 Z -1 F 4                                                                                                           |\n",
       "| G01 X 0.502 F 4                                                                                                        |\n",
       "| ⋮ |\n",
       "| G01 Z -1 F 4                                                     |\n",
       "| G01 X 0.502 F 4                                                  |\n",
       "| G00 Z 0.000                                                      |\n",
       "| G01 X 0.3425 F 4                                                 |\n",
       "| G01 Z -1 F 4                                                     |\n",
       "| G01 X 0.502 F 4                                                  |\n",
       "| G00 Z 0.000                                                      |\n",
       "| G01 X 0.3275 F 4                                                 |\n",
       "| G01 Z -1 F 4                                                     |\n",
       "| G01 X 0.502 F 4                                                  |\n",
       "| G00 Z 0.000                                                      |\n",
       "| G01 X 0.3125 F 4                                                 |\n",
       "| G01 Z -1 F 4                                                     |\n",
       "| G01 X 0.502 F 4                                                  |\n",
       "| G00 Z 0.000                                                      |\n",
       "| G01 X 0.2975 F 4                                                 |\n",
       "| G01 Z -1 F 4                                                     |\n",
       "| G01 X 0.502 F 4                                                  |\n",
       "| G00 Z 0.000                                                      |\n",
       "| G01 X 0.2825 F 4                                                 |\n",
       "| G01 Z -1 F 4                                                     |\n",
       "| G01 X 0.502 F 4                                                  |\n",
       "| G00 Z 0.000                                                      |\n",
       "| G01 X 0.2545 F 4                                                 |\n",
       "| G01 Z -1 F 4                                                     |\n",
       "| G01 X 0.502 F 4                                                  |\n",
       "| G00 Z 0.000                                                      |\n",
       "| G01 X0.00 F3                                                     |\n",
       "| M30  (Rewind to start. Use M02 to restart in current end state.) |\n",
       "| %                                                                |\n",
       "\n"
      ],
      "text/plain": [
       "   gcode                                                                                                                 \n",
       "1  %                                                                                                                     \n",
       "2  (Straigh Roughing Profile)                                                                                            \n",
       "3  (NOTE: Be sure the mode is G07. Since the machine does not have limit switches, if you power off the machine,)        \n",
       "4  (the Part Zero position will be gone. Therefore, it was necessary to establish a reference point)                     \n",
       "5  (When first arting, use the handwheel and move the tip of tool to X = 0 with Z just touching the part.)               \n",
       "6  (Using AXIS, click the Home for both the X and Z axes.  This is Part Zero.)                                           \n",
       "7  (This gcode will move the tool to Part Zero at the end of the gcode file. A new part will change the Part Zero for Z.)\n",
       "8  (T/F, with a new part in the lathe, manually run the first few lines of code to restablish the Part Zero.)            \n",
       "9  (Use the handwheel with on each axis and adjust as needed. Then click on “All Zero.” )                                \n",
       "10 (All position numbers will change to 0.0000 and green, and you will be set to go again.)                              \n",
       "11 (Lathe gcodes:)                                                                                                       \n",
       "12 G07  ( lathe radius mode )                                                                                            \n",
       "13 G18   ( Plane: ZX )                                                                                                   \n",
       "14 G20   (  inches for length units )                                                                                    \n",
       "15 G40   (  cancel the cutter compensation. )                                                                            \n",
       "16 G49   ( cancel tool length offset )                                                                                   \n",
       "17 G90   ( distance mode: ABSOLUTE )                                                                                     \n",
       "18 G94   ( reset feed rate: inches / minute - Fx )                                                                       \n",
       "19                                                                                                                       \n",
       "20                                                                                                                       \n",
       "21 G91 G28 X.25 Z.250                                                                                                    \n",
       "22 G90                                                                                                                   \n",
       "23 G28 X0.0 Z0.0 (Part Zero - homing sequence)                                                                           \n",
       "24 G01 Z0.20 F5                                                                                                          \n",
       "25 G01 Z0.00  (Z should be touching face of part again)                                                                  \n",
       "26 G00 X0.75 (Manually reset tool to the starting postion if nec. Turn the steppers back to ON SWITCH)                   \n",
       "27                                                                                                                       \n",
       "28 G01 X 0.4925 F 4                                                                                                      \n",
       "29 G01 Z -1 F 4                                                                                                          \n",
       "30 G01 X 0.502 F 4                                                                                                       \n",
       "⋮  ⋮                                                                                                                     \n",
       "65 G01 Z -1 F 4                                                                                                          \n",
       "66 G01 X 0.502 F 4                                                                                                       \n",
       "67 G00 Z 0.000                                                                                                           \n",
       "68 G01 X 0.3425 F 4                                                                                                      \n",
       "69 G01 Z -1 F 4                                                                                                          \n",
       "70 G01 X 0.502 F 4                                                                                                       \n",
       "71 G00 Z 0.000                                                                                                           \n",
       "72 G01 X 0.3275 F 4                                                                                                      \n",
       "73 G01 Z -1 F 4                                                                                                          \n",
       "74 G01 X 0.502 F 4                                                                                                       \n",
       "75 G00 Z 0.000                                                                                                           \n",
       "76 G01 X 0.3125 F 4                                                                                                      \n",
       "77 G01 Z -1 F 4                                                                                                          \n",
       "78 G01 X 0.502 F 4                                                                                                       \n",
       "79 G00 Z 0.000                                                                                                           \n",
       "80 G01 X 0.2975 F 4                                                                                                      \n",
       "81 G01 Z -1 F 4                                                                                                          \n",
       "82 G01 X 0.502 F 4                                                                                                       \n",
       "83 G00 Z 0.000                                                                                                           \n",
       "84 G01 X 0.2825 F 4                                                                                                      \n",
       "85 G01 Z -1 F 4                                                                                                          \n",
       "86 G01 X 0.502 F 4                                                                                                       \n",
       "87 G00 Z 0.000                                                                                                           \n",
       "88 G01 X 0.2545 F 4                                                                                                      \n",
       "89 G01 Z -1 F 4                                                                                                          \n",
       "90 G01 X 0.502 F 4                                                                                                       \n",
       "91 G00 Z 0.000                                                                                                           \n",
       "92 G01 X0.00 F3                                                                                                          \n",
       "93 M30  (Rewind to start. Use M02 to restart in current end state.)                                                      \n",
       "94 %                                                                                                                     "
      ]
     },
     "metadata": {},
     "output_type": "display_data"
    }
   ],
   "source": [
    "gcode_rough1"
   ]
  },
  {
   "cell_type": "markdown",
   "id": "c857a5f1-13b9-43e3-9e2b-3bd811240a7f",
   "metadata": {},
   "source": [
    "## Got it perfected.  Write and save the gcode to a file."
   ]
  },
  {
   "cell_type": "code",
   "execution_count": 43,
   "id": "0af6a2d3-53ad-41f7-adb2-129d0b0f3fdb",
   "metadata": {},
   "outputs": [],
   "source": [
    "colnames(gcode_rough1) <- \"\"   # remove unwanted column name\n",
    "\n",
    "write.csv(gcode_rough1, file = \"roughing_profile.ngc\", row.names = FALSE, quote = FALSE)"
   ]
  },
  {
   "cell_type": "code",
   "execution_count": 44,
   "id": "d446c3e2-bd43-4607-a522-f1c3f8af6868",
   "metadata": {
    "jupyter": {
     "source_hidden": true
    },
    "tags": []
   },
   "outputs": [],
   "source": [
    "# Got it !\n",
    "\n",
    "gcode <- read.csv(\"roughing_profile.ngc\", header = F, sep = \",\")"
   ]
  },
  {
   "cell_type": "code",
   "execution_count": null,
   "id": "283bce33-6c13-41fd-a11f-d70dbd09da17",
   "metadata": {},
   "outputs": [],
   "source": []
  },
  {
   "cell_type": "code",
   "execution_count": 45,
   "id": "e48f8936-d764-45a5-8a36-85b2ad035a39",
   "metadata": {
    "jupyter": {
     "source_hidden": true
    },
    "tags": []
   },
   "outputs": [
    {
     "data": {
      "text/html": [
       "<table class=\"dataframe\">\n",
       "<caption>A data.frame: 6 × 3</caption>\n",
       "<thead>\n",
       "\t<tr><th></th><th scope=col>V1</th><th scope=col>V2</th><th scope=col>V3</th></tr>\n",
       "\t<tr><th></th><th scope=col>&lt;chr&gt;</th><th scope=col>&lt;chr&gt;</th><th scope=col>&lt;chr&gt;</th></tr>\n",
       "</thead>\n",
       "<tbody>\n",
       "\t<tr><th scope=row>1</th><td>%                                                                             </td><td>                                                                                    </td><td> </td></tr>\n",
       "\t<tr><th scope=row>2</th><td>(Straigh Roughing Profile)                                                    </td><td>                                                                                    </td><td> </td></tr>\n",
       "\t<tr><th scope=row>3</th><td>(NOTE: Be sure the mode is G07. Since the machine does not have limit switches</td><td> if you power off the machine                                                       </td><td>)</td></tr>\n",
       "\t<tr><th scope=row>4</th><td>(the Part Zero position will be gone. Therefore                               </td><td> it was necessary to establish a reference point)                                   </td><td> </td></tr>\n",
       "\t<tr><th scope=row>5</th><td>(When first arting                                                            </td><td> use the handwheel and move the tip of tool to X = 0 with Z just touching the part.)</td><td> </td></tr>\n",
       "\t<tr><th scope=row>6</th><td>(Using AXIS                                                                   </td><td> click the Home for both the X and Z axes.  This is Part Zero.)                     </td><td> </td></tr>\n",
       "</tbody>\n",
       "</table>\n"
      ],
      "text/latex": [
       "A data.frame: 6 × 3\n",
       "\\begin{tabular}{r|lll}\n",
       "  & V1 & V2 & V3\\\\\n",
       "  & <chr> & <chr> & <chr>\\\\\n",
       "\\hline\n",
       "\t1 & \\%                                                                              &                                                                                      &  \\\\\n",
       "\t2 & (Straigh Roughing Profile)                                                     &                                                                                      &  \\\\\n",
       "\t3 & (NOTE: Be sure the mode is G07. Since the machine does not have limit switches &  if you power off the machine                                                        & )\\\\\n",
       "\t4 & (the Part Zero position will be gone. Therefore                                &  it was necessary to establish a reference point)                                    &  \\\\\n",
       "\t5 & (When first arting                                                             &  use the handwheel and move the tip of tool to X = 0 with Z just touching the part.) &  \\\\\n",
       "\t6 & (Using AXIS                                                                    &  click the Home for both the X and Z axes.  This is Part Zero.)                      &  \\\\\n",
       "\\end{tabular}\n"
      ],
      "text/markdown": [
       "\n",
       "A data.frame: 6 × 3\n",
       "\n",
       "| <!--/--> | V1 &lt;chr&gt; | V2 &lt;chr&gt; | V3 &lt;chr&gt; |\n",
       "|---|---|---|---|\n",
       "| 1 | %                                                                              | <!----> | <!----> |\n",
       "| 2 | (Straigh Roughing Profile)                                                     | <!----> | <!----> |\n",
       "| 3 | (NOTE: Be sure the mode is G07. Since the machine does not have limit switches |  if you power off the machine                                                        | ) |\n",
       "| 4 | (the Part Zero position will be gone. Therefore                                |  it was necessary to establish a reference point)                                    | <!----> |\n",
       "| 5 | (When first arting                                                             |  use the handwheel and move the tip of tool to X = 0 with Z just touching the part.) | <!----> |\n",
       "| 6 | (Using AXIS                                                                    |  click the Home for both the X and Z axes.  This is Part Zero.)                      | <!----> |\n",
       "\n"
      ],
      "text/plain": [
       "  V1                                                                            \n",
       "1 %                                                                             \n",
       "2 (Straigh Roughing Profile)                                                    \n",
       "3 (NOTE: Be sure the mode is G07. Since the machine does not have limit switches\n",
       "4 (the Part Zero position will be gone. Therefore                               \n",
       "5 (When first arting                                                            \n",
       "6 (Using AXIS                                                                   \n",
       "  V2                                                                                  \n",
       "1                                                                                     \n",
       "2                                                                                     \n",
       "3  if you power off the machine                                                       \n",
       "4  it was necessary to establish a reference point)                                   \n",
       "5  use the handwheel and move the tip of tool to X = 0 with Z just touching the part.)\n",
       "6  click the Home for both the X and Z axes.  This is Part Zero.)                     \n",
       "  V3\n",
       "1   \n",
       "2   \n",
       "3 ) \n",
       "4   \n",
       "5   \n",
       "6   "
      ]
     },
     "metadata": {},
     "output_type": "display_data"
    }
   ],
   "source": [
    "head(gcode)"
   ]
  },
  {
   "cell_type": "markdown",
   "id": "06417337-14ec-46a5-b4a4-e988332eee0d",
   "metadata": {},
   "source": [
    "# Input:"
   ]
  },
  {
   "cell_type": "code",
   "execution_count": 46,
   "id": "4c2965b6-84ea-476d-9cb5-eabd2d8fffbb",
   "metadata": {
    "tags": []
   },
   "outputs": [],
   "source": [
    "# doneMsg <- readline(\"All is done.  Review the roughing_profile.ngc file in the working folder.  Type: 0, and press Enter.\")"
   ]
  },
  {
   "cell_type": "code",
   "execution_count": null,
   "id": "fedc1593-cc28-4f47-ac13-2ee2ef52a1cd",
   "metadata": {},
   "outputs": [],
   "source": []
  },
  {
   "cell_type": "markdown",
   "id": "b45e10a7-c92f-4e33-b1c3-6ba4a4b02d64",
   "metadata": {},
   "source": [
    "\n",
    "# Code Wasteland below"
   ]
  },
  {
   "cell_type": "code",
   "execution_count": null,
   "id": "227c0d93-68a2-444a-94c1-2b91a586fcd5",
   "metadata": {},
   "outputs": [],
   "source": []
  },
  {
   "cell_type": "code",
   "execution_count": 47,
   "id": "97705902-f92f-4b93-a1a0-5e6d71288da2",
   "metadata": {},
   "outputs": [
    {
     "ename": "ERROR",
     "evalue": "Error in eval(expr, envir, enclos): object 'stopper' not found\n",
     "output_type": "error",
     "traceback": [
      "Error in eval(expr, envir, enclos): object 'stopper' not found\nTraceback:\n"
     ]
    }
   ],
   "source": [
    "stopper"
   ]
  },
  {
   "cell_type": "code",
   "execution_count": null,
   "id": "bffa4bef-d0b5-4de7-95f2-2014c7a09973",
   "metadata": {},
   "outputs": [],
   "source": [
    "# Example vector\n",
    "my_vector <- c(\"a\", \"b\", \"c\", \"d\")\n",
    "my_vector\n",
    "str(my_vector)\n",
    "\n",
    "# Append element \"z\" after the 2nd position in the vector\n",
    "updated_vector <- append(my_vector, \"z\", after = 2)\n",
    "\n",
    "# Display the updated vector\n",
    "print(updated_vector)\n"
   ]
  },
  {
   "cell_type": "code",
   "execution_count": null,
   "id": "9223c01f-d326-4bac-9c68-7cc657cdcc16",
   "metadata": {},
   "outputs": [],
   "source": []
  },
  {
   "cell_type": "code",
   "execution_count": null,
   "id": "2fb3856e-a77e-4a89-aa4a-05cc683ff4bf",
   "metadata": {},
   "outputs": [],
   "source": [
    "# Original character vector\n",
    "original_vector <- c(\"A\", \"B\", \"C\", \"D\", \"E\", \"F\", \"G\", \"H\", \"I\")\n",
    "\n",
    "# New character to insert\n",
    "new_character <- \"X\"\n",
    "\n",
    "# Calculate the length of the original vector\n",
    "original_length <- length(original_vector)\n",
    "\n",
    "# Create an empty vector to store the modified result\n",
    "modified_vector <- character(0)\n",
    " \n",
    "# Use a for loop to insert the new character at every third position\n",
    "for (i in seq(1, original_length, by = 3)) {\n",
    "  # Insert the new character at the current position\n",
    "  modified_vector <- c(modified_vector, original_vector[(i - 1):i], new_character)\n",
    "}\n",
    "\n",
    "# Add remaining elements after the last insertion point\n",
    "if (original_length %% 3 != 0) {\n",
    "  modified_vector <- c(modified_vector, original_vector[(i + 1):original_length])\n",
    "}\n",
    "\n",
    "# Display the modified vector\n",
    "print(modified_vector)\n"
   ]
  },
  {
   "cell_type": "code",
   "execution_count": null,
   "id": "ca5cf931-0a34-4a6f-90bd-b406893acb08",
   "metadata": {},
   "outputs": [],
   "source": []
  },
  {
   "cell_type": "code",
   "execution_count": null,
   "id": "f5fa33ea-b8ea-4ceb-b5d4-18faeae3b92f",
   "metadata": {},
   "outputs": [],
   "source": [
    "# Original character vector\n",
    "original_vector <- c(\"A\", \"B\", \"C\", \"D\", \"E\", \"F\", \"G\", \"H\")\n",
    "\n",
    "# New character to insert\n",
    "new_character <- \"X\"\n",
    "\n",
    "# Determine the positions to insert the new character\n",
    "positions <- seq(3, length(original_vector) + length(original_vector) %/% 3, by = 3)\n",
    "\n",
    "# Inserting the new character at every third position\n",
    "for (i in positions) {\n",
    "  original_vector <- c(original_vector[1:(i - 1)], new_character, original_vector[i:length(original_vector)])\n",
    "}\n",
    "\n",
    "# Display the modified vector\n",
    "print(original_vector)\n"
   ]
  },
  {
   "cell_type": "code",
   "execution_count": null,
   "id": "a2473812-9d36-4cad-b285-16ca888358ef",
   "metadata": {},
   "outputs": [],
   "source": []
  },
  {
   "cell_type": "code",
   "execution_count": null,
   "id": "d8187db5-f1f0-4dd2-983b-87366dfe9152",
   "metadata": {},
   "outputs": [],
   "source": [
    "for(i in 1:nrow(x_df)) {\n",
    "    t <- as.list(rbind(x_df$Axis[i], x_df$Pos[i]))   # get X data from x_df, then make it a list \n",
    "    t <- paste(t, collapse = \" \")                    #  format the X list data\n",
    "    u <- as.list(rbind(z_df$Axis[i], z_df$Pos[i]))   # get the Z data from z_df, then make it a list   \n",
    "    u <- paste(u, collapse = \" \")                    # format the Z list data\n",
    "    w <- rbind(t, u)                                 # combine the X and Z list data in a new list\n",
    "   # print(w)\n",
    "}\n",
    "    "
   ]
  },
  {
   "cell_type": "code",
   "execution_count": null,
   "id": "b74e7cdb-f39f-430f-ae14-4c7e00ef3af2",
   "metadata": {},
   "outputs": [],
   "source": []
  },
  {
   "cell_type": "code",
   "execution_count": null,
   "id": "e8cc3e4b-a0b5-4e63-a574-c64632b1f8cd",
   "metadata": {},
   "outputs": [],
   "source": []
  },
  {
   "cell_type": "code",
   "execution_count": null,
   "id": "84bdaab6-5a00-4505-8fa8-d870649bbfa4",
   "metadata": {},
   "outputs": [],
   "source": [
    "# Initialize an empty vector\n",
    "result_vector <- c()\n",
    "\n",
    "# Example loop to append values to the vector\n",
    "for (i in 1:5) {\n",
    "  value_to_append <- i * 2  # Example value to append\n",
    "  result_vector <- append(result_vector, value_to_append)\n",
    "}\n",
    "\n",
    "# Display the result vector\n",
    "print(result_vector)\n"
   ]
  },
  {
   "cell_type": "code",
   "execution_count": null,
   "id": "36890d11-fda1-4043-a7af-94b18146b43e",
   "metadata": {},
   "outputs": [],
   "source": []
  },
  {
   "cell_type": "code",
   "execution_count": null,
   "id": "3b8695e5-2c70-49ad-a69d-3b504aca28ba",
   "metadata": {},
   "outputs": [],
   "source": [
    "for(i in 1:nrow(gcode2)) {\n",
    "    #print(i)\n",
    "    \n",
    "    X01 <- paste(\"G01\", gcode2$Pos[i], \"Fu\",Frate)  # move X into cutting depth\n",
    "    theCode <- append(theCode, X01) # , after = length(X01))\n",
    "    Z01 <-   paste(\"G01\", z_df$Pos[i]+.002)  # move X into cutting depth\n",
    "    theCode <- append(theCode, Z01) # , after = length(X00))    \n",
    "    # print(X01)\n",
    "    }\n",
    "\n",
    "theCode"
   ]
  },
  {
   "cell_type": "code",
   "execution_count": null,
   "id": "c5cc4d51-f464-4b6c-871a-e95a0c62d92f",
   "metadata": {},
   "outputs": [],
   "source": []
  },
  {
   "cell_type": "code",
   "execution_count": null,
   "id": "0cdc393a-67cd-4ef8-a1ef-3c1e52c1ee76",
   "metadata": {},
   "outputs": [],
   "source": []
  },
  {
   "cell_type": "code",
   "execution_count": null,
   "id": "0fd9ea60-15ff-4c73-84a1-9f1273a64a00",
   "metadata": {},
   "outputs": [],
   "source": []
  },
  {
   "cell_type": "code",
   "execution_count": null,
   "id": "6e22a62c-f2fb-481a-a714-eacc1e64a868",
   "metadata": {},
   "outputs": [],
   "source": []
  },
  {
   "cell_type": "code",
   "execution_count": null,
   "id": "68af9d28-8242-4fa6-9750-2ea2447a915b",
   "metadata": {},
   "outputs": [],
   "source": [
    "X01 <- paste(\"G01\", gcode2$Pos[i], \"F\",Frate)  # move X into cutting depth\n",
    "theCode <- append(theCode, X01)\n",
    "# X00 <-  paste(\"G00\", x_df$Pos[i]+.002)  # move X into cutting depth\n",
    "# theCode <- append(theCode, X00)\n",
    "    "
   ]
  },
  {
   "cell_type": "code",
   "execution_count": null,
   "id": "f2239779-d05d-4f11-8516-d784ecaebb5f",
   "metadata": {},
   "outputs": [],
   "source": []
  },
  {
   "cell_type": "code",
   "execution_count": null,
   "id": "9464488b-13ae-4f09-b11e-8b646c178556",
   "metadata": {},
   "outputs": [],
   "source": [
    "Stop"
   ]
  },
  {
   "cell_type": "code",
   "execution_count": null,
   "id": "7fe517aa-f352-4911-a675-edec65af8090",
   "metadata": {},
   "outputs": [],
   "source": [
    "# These are the 4 general moves for necessary for roughing\n",
    "\n",
    "Frate <- 4\n",
    "\n",
    "X01 <- print(paste(\"G01\", \"X\", x_df$Pos[1], \"F\",Frate))  # move X into cutting depth\n",
    "\n",
    "\n",
    "# X01 <- as.list(paste(X01, collapse = \", \"))\n",
    "X01 <- paste(X01, collape = \" \" )\n",
    "\n",
    "str(X01)\n",
    "length(X01)\n",
    "X01\n",
    "\n",
    "\n",
    "Z01 <- print(paste(\"G01\", \"Z\", z_df$Pos[1], \"F\",Frate))    # Cut along the Z axis\n",
    "Z01 <- paste(Z01, collapes = \" \")\n",
    "Z01\n",
    "str(Z01)\n",
    "\n",
    "X02 <-  print(paste(\"G01\", \"X\", .250, \"F\",Frate))         # move X away from part\n",
    "X02 <- paste(X02, collapes = \" \")\n",
    "X02\n",
    "str(X02)\n",
    "\n",
    "Z02 <- print(paste(\"G00\", \"Z\", 0.00 ))                    # move Z back to start position \n",
    "Z02 <- paste(Z02, collapes = \"\\n\")\n",
    "Z02"
   ]
  },
  {
   "cell_type": "code",
   "execution_count": null,
   "id": "e25560c8-9ad4-4ccb-81ea-07d11b4a08fa",
   "metadata": {},
   "outputs": [],
   "source": [
    "X01\n",
    "Z01\n",
    "X00\n",
    "Z00"
   ]
  },
  {
   "cell_type": "code",
   "execution_count": null,
   "id": "f4fe6ec9-b8fa-4507-873b-35e4ffd4b1af",
   "metadata": {},
   "outputs": [],
   "source": [
    "# POC\n",
    "\n",
    "# gcode2$Pos[1]\n",
    "# gcode2$Pos[2]\n",
    "\n",
    "ZpassLength <- as.numeric(z_df$Pos[2]*-1)   #  This can be updated in a loop when doing tapers or changing Z values\n",
    "ZpassLength\n",
    "\n",
    "X01 <- print(paste(\"G01\", gcode2$Pos[1], \"F\",Frate))  # move X into cutting depth\n",
    "Z01 <- print(paste(\"G01\", gcode2$Pos[2], \"F\",Frate))  # move X into cutting depth\n",
    "X00 <- print(paste(\"G00\", \"X\", x_df$Pos[1]+.002))  # move X into cutting depth\n",
    "Z00 <- print(paste(\"G00\", \"Z\", ZpassLength ))  # move X into cutting depth"
   ]
  },
  {
   "cell_type": "code",
   "execution_count": null,
   "id": "df6e49e0-1ccd-4842-b68a-4d81b01a9236",
   "metadata": {},
   "outputs": [],
   "source": []
  },
  {
   "cell_type": "code",
   "execution_count": null,
   "id": "fe4b0a38-1d5d-4616-9ba2-4974bdba61cc",
   "metadata": {},
   "outputs": [],
   "source": [
    "# Example vector\n",
    "my_vector <- c(\"a\", \"b\", \"c\", \"d\")\n",
    "\n",
    "# Append element \"z\" after the 2nd position in the vector\n",
    "updated_vector <- append(my_vector, \"z\", after = 2)\n",
    "\n",
    "# Display the updated vector\n",
    "print(updated_vector)\n"
   ]
  },
  {
   "cell_type": "code",
   "execution_count": null,
   "id": "e7e7c119-0526-47b4-8e8b-f195e828dd35",
   "metadata": {},
   "outputs": [],
   "source": []
  },
  {
   "cell_type": "code",
   "execution_count": null,
   "id": "831c8dea-b47e-4161-aaef-6cb02af8f0ec",
   "metadata": {},
   "outputs": [],
   "source": []
  },
  {
   "cell_type": "code",
   "execution_count": null,
   "id": "e9b0294e-703a-43ee-a73d-a81ad8b112e7",
   "metadata": {},
   "outputs": [],
   "source": []
  },
  {
   "cell_type": "code",
   "execution_count": null,
   "id": "e3f08c6a-0893-4cb8-8b66-68d8f9f95e82",
   "metadata": {},
   "outputs": [],
   "source": []
  }
 ],
 "metadata": {
  "kernelspec": {
   "display_name": "R",
   "language": "R",
   "name": "ir"
  },
  "language_info": {
   "codemirror_mode": "r",
   "file_extension": ".r",
   "mimetype": "text/x-r-source",
   "name": "R",
   "pygments_lexer": "r",
   "version": "4.3.0"
  }
 },
 "nbformat": 4,
 "nbformat_minor": 5
}
